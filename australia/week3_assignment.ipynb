{
 "cells": [
  {
   "cell_type": "markdown",
   "metadata": {},
   "source": [
    "#Peer-graded Assignment: Making Data Management Decisions\n",
    "\n",
    "Submit by February 11, 11:59 PM PST\n",
    "\n",
    "## Important Information\n",
    "\n",
    "It is especially important to submit this assignment before the deadline, February 11, 11:59 PM PST, because it must be graded by others. If you submit late, there may not be enough classmates around to review your work. This makes it difficult - and in some cases, impossible - to produce a grade. Submit on time to avoid these risks.\n",
    "\n",
    "## Instructions\n",
    "\n",
    "This week, you will be making and implementing decisions about data management for the variables that you have chosen to examine based on the steps reviewed in the videos and supplemental materials. This assignment is important because it offers you the opportunity to practice making sound data management decisions and think about how these decisions will impact your research.\n",
    "Review criteria\n",
    "\n",
    "Your assessment will be based on the evidence you provide that you have completed all of the steps. When relevant, gradients in the scoring will be available to reward clarity (for example, you will get one point for submitting output that is not understandable, but two points if it is understandable). In all cases, consider that the peer assessing your work is likely not an expert in the field you are analyzing. You will be assessed equally on your description of your frequency distributions.\n",
    "\n",
    "Specific rubric items, and their point values, are as follows:\n",
    "\n",
    "* Was the program output interpretable (i.e. organized and labeled)? (1 point)\n",
    "* Does the program output display three data managed variables as frequency tables? (1 point)\n",
    "* Did the summary describe the frequency distributions in terms of the values the variables take, how often they take them, the presence of missing data, etc.? (2 points)\n",
    "\n",
    "## Instructions\n",
    "\n",
    "Continue with the program you’ve successfully run.\n",
    "\n",
    "Decide how you will manage your variables.\n",
    "\n",
    "**STEP 1:** Make and implement data management decisions for the variables you selected.\n",
    "\n",
    "Data management includes such things as coding out missing data, coding in valid data, recoding variables, creating secondary variables and binning or grouping variables. Not everyone does all of these, but some is required.\n",
    "\n",
    "**STEP 2:** Run frequency distributions for your chosen variables and select columns, and possibly rows.\n",
    "\n",
    "Your output should be interpretable (i.e. organized and labeled).\n",
    "\n",
    "**WHAT TO SUBMIT:**\n",
    "\n",
    "Once you have written a successful program that manages your data, create a blog entry where you post your program and the results/output that displays at least 3 of your data managed variables as frequency distributions. Write a few sentences describing these frequency distributions in terms of the values the variables take, how often they take them, the presence of missing data, etc."
   ]
  },
  {
   "cell_type": "markdown",
   "metadata": {},
   "source": [
    "To try:\n",
    "\n",
    "* clean data with pandas.DataFrame.replace()\n",
    "* use pandas.DataFrame.map([Dict]) to map old values to new\n",
    "* provide secondary variables\n",
    "* collapse multiple columns into one (done)\n",
    "* use qcut (quartile cut) and cut to create categories\n",
    "* use crosstab to check data\n",
    "* other functions: isnull()"
   ]
  },
  {
   "cell_type": "code",
   "execution_count": 1,
   "metadata": {},
   "outputs": [],
   "source": [
    "import pandas as pd\n",
    "import numpy as np"
   ]
  },
  {
   "cell_type": "code",
   "execution_count": 2,
   "metadata": {},
   "outputs": [
    {
     "data": {
      "text/html": [
       "<div>\n",
       "<style>\n",
       "    .dataframe thead tr:only-child th {\n",
       "        text-align: right;\n",
       "    }\n",
       "\n",
       "    .dataframe thead th {\n",
       "        text-align: left;\n",
       "    }\n",
       "\n",
       "    .dataframe tbody tr th {\n",
       "        vertical-align: top;\n",
       "    }\n",
       "</style>\n",
       "<table border=\"1\" class=\"dataframe\">\n",
       "  <thead>\n",
       "    <tr style=\"text-align: right;\">\n",
       "      <th></th>\n",
       "      <th>postcode</th>\n",
       "      <th>gender</th>\n",
       "      <th>age_low</th>\n",
       "      <th>age_high</th>\n",
       "      <th>income_low</th>\n",
       "      <th>income_high</th>\n",
       "      <th>number</th>\n",
       "    </tr>\n",
       "  </thead>\n",
       "  <tbody>\n",
       "    <tr>\n",
       "      <th>0</th>\n",
       "      <td>POA3000</td>\n",
       "      <td>M</td>\n",
       "      <td>15</td>\n",
       "      <td>19</td>\n",
       "      <td>1.0</td>\n",
       "      <td>149.0</td>\n",
       "      <td>78</td>\n",
       "    </tr>\n",
       "    <tr>\n",
       "      <th>1</th>\n",
       "      <td>POA3002</td>\n",
       "      <td>M</td>\n",
       "      <td>15</td>\n",
       "      <td>19</td>\n",
       "      <td>1.0</td>\n",
       "      <td>149.0</td>\n",
       "      <td>6</td>\n",
       "    </tr>\n",
       "    <tr>\n",
       "      <th>2</th>\n",
       "      <td>POA3003</td>\n",
       "      <td>M</td>\n",
       "      <td>15</td>\n",
       "      <td>19</td>\n",
       "      <td>1.0</td>\n",
       "      <td>149.0</td>\n",
       "      <td>17</td>\n",
       "    </tr>\n",
       "    <tr>\n",
       "      <th>3</th>\n",
       "      <td>POA3004</td>\n",
       "      <td>M</td>\n",
       "      <td>15</td>\n",
       "      <td>19</td>\n",
       "      <td>1.0</td>\n",
       "      <td>149.0</td>\n",
       "      <td>10</td>\n",
       "    </tr>\n",
       "    <tr>\n",
       "      <th>4</th>\n",
       "      <td>POA3005</td>\n",
       "      <td>M</td>\n",
       "      <td>15</td>\n",
       "      <td>19</td>\n",
       "      <td>1.0</td>\n",
       "      <td>149.0</td>\n",
       "      <td>0</td>\n",
       "    </tr>\n",
       "  </tbody>\n",
       "</table>\n",
       "</div>"
      ],
      "text/plain": [
       "  postcode gender  age_low  age_high  income_low  income_high  number\n",
       "0  POA3000      M       15        19         1.0        149.0      78\n",
       "1  POA3002      M       15        19         1.0        149.0       6\n",
       "2  POA3003      M       15        19         1.0        149.0      17\n",
       "3  POA3004      M       15        19         1.0        149.0      10\n",
       "4  POA3005      M       15        19         1.0        149.0       0"
      ]
     },
     "execution_count": 2,
     "metadata": {},
     "output_type": "execute_result"
    }
   ],
   "source": [
    "# Secondary Data Source:\n",
    "\n",
    "vic = pd.read_csv('2016_census_vic_income.csv')\n",
    "vic.head()"
   ]
  },
  {
   "cell_type": "markdown",
   "metadata": {},
   "source": [
    "## Revise the population distribution based on post code\n",
    "\n",
    "The data here are already categorical. We divide the population by their\n",
    "income brackets (income_low and income_high).\n",
    "\n",
    "But I will explore if we can further explore data in different groupings.\n"
   ]
  },
  {
   "cell_type": "code",
   "execution_count": 3,
   "metadata": {},
   "outputs": [
    {
     "data": {
      "text/plain": [
       " 500.0     18846\n",
       " 1750.0    18846\n",
       " 1000.0    18846\n",
       " 300.0     18846\n",
       " 2000.0    18846\n",
       " 400.0     18846\n",
       "-99.0      18846\n",
       " 1500.0    18846\n",
       " 3000.0    18846\n",
       " 650.0     18846\n",
       " 1250.0    18846\n",
       " 150.0     18846\n",
       " 800.0     18846\n",
       " 1.0       18846\n",
       "Name: income_low, dtype: int64"
      ]
     },
     "execution_count": 3,
     "metadata": {},
     "output_type": "execute_result"
    }
   ],
   "source": [
    "# replace unknown data to nan\n",
    "vic['income_low'] = vic['income_low'].replace(-1.0, np.nan)\n",
    "vic['income_low'].value_counts()"
   ]
  },
  {
   "cell_type": "code",
   "execution_count": 4,
   "metadata": {},
   "outputs": [
    {
     "data": {
      "text/plain": [
       "500.0     18846\n",
       "1750.0    18846\n",
       "1000.0    18846\n",
       "300.0     18846\n",
       "2000.0    18846\n",
       "400.0     18846\n",
       "1500.0    18846\n",
       "3000.0    18846\n",
       "650.0     18846\n",
       "1250.0    18846\n",
       "150.0     18846\n",
       "800.0     18846\n",
       "1.0       18846\n",
       "Name: income_low, dtype: int64"
      ]
     },
     "execution_count": 4,
     "metadata": {},
     "output_type": "execute_result"
    }
   ],
   "source": [
    "# replace unknown data to nan\n",
    "vic['income_low'] = vic['income_low'].replace(-99.0, np.nan)\n",
    "vic['income_low'].value_counts()"
   ]
  },
  {
   "cell_type": "code",
   "execution_count": 5,
   "metadata": {},
   "outputs": [
    {
     "data": {
      "text/plain": [
       "1999.0    18846\n",
       "999.0     18846\n",
       "499.0     18846\n",
       "1749.0    18846\n",
       "799.0     18846\n",
       "399.0     18846\n",
       "2999.0    18846\n",
       "1499.0    18846\n",
       "649.0     18846\n",
       "9999.0    18846\n",
       "1249.0    18846\n",
       "299.0     18846\n",
       "149.0     18846\n",
       "0.0       18846\n",
       "Name: income_high, dtype: int64"
      ]
     },
     "execution_count": 5,
     "metadata": {},
     "output_type": "execute_result"
    }
   ],
   "source": [
    "# replace unknown data to nan\n",
    "vic['income_high'] = vic['income_high'].replace(-99.0, np.nan)\n",
    "vic['income_high'].value_counts()"
   ]
  },
  {
   "cell_type": "code",
   "execution_count": 6,
   "metadata": {},
   "outputs": [
    {
     "data": {
      "text/plain": [
       "1999.0    18846\n",
       "999.0     18846\n",
       "499.0     18846\n",
       "1749.0    18846\n",
       "799.0     18846\n",
       "399.0     18846\n",
       "2999.0    18846\n",
       "1499.0    18846\n",
       "649.0     18846\n",
       "1249.0    18846\n",
       "299.0     18846\n",
       "149.0     18846\n",
       "0.0       18846\n",
       "Name: income_high, dtype: int64"
      ]
     },
     "execution_count": 6,
     "metadata": {},
     "output_type": "execute_result"
    }
   ],
   "source": [
    "# replace unknown data to nan\n",
    "vic['income_high'] = vic['income_high'].replace(9999.0, np.nan)\n",
    "vic['income_high'].value_counts()"
   ]
  },
  {
   "cell_type": "markdown",
   "metadata": {},
   "source": [
    "### Categorical data: Income bracket population in each post code\n",
    "Here I discover that it is not always possible to cut the population into bins you want.\n",
    "As you can see that there are way too many in the first group, 46%.\n",
    "\n",
    "Australia (Victoria state)'s **population in each income bracket is very small when divided up by post code**."
   ]
  },
  {
   "cell_type": "code",
   "execution_count": 7,
   "metadata": {},
   "outputs": [
    {
     "data": {
      "text/plain": [
       "(-0.001, 3.0]     130330\n",
       "(3.0, 5.0]         16494\n",
       "(5.0, 10.0]        25930\n",
       "(10.0, 20.0]       26566\n",
       "(20.0, 42.0]       26912\n",
       "(42.0, 97.0]       28417\n",
       "(97.0, 5254.0]     28041\n",
       "Name: number, dtype: int64"
      ]
     },
     "execution_count": 7,
     "metadata": {},
     "output_type": "execute_result"
    }
   ],
   "source": [
    "income_pop_quartiles = pd.qcut(vic['number'], 10, duplicates='drop')\n",
    "income_pop_quartiles.value_counts(sort=False)"
   ]
  },
  {
   "cell_type": "code",
   "execution_count": 8,
   "metadata": {},
   "outputs": [
    {
     "data": {
      "text/plain": [
       "(-0.001, 3.0]     0.461035\n",
       "(42.0, 97.0]      0.100524\n",
       "(97.0, 5254.0]    0.099193\n",
       "(20.0, 42.0]      0.095200\n",
       "(10.0, 20.0]      0.093976\n",
       "(5.0, 10.0]       0.091726\n",
       "(3.0, 5.0]        0.058347\n",
       "Name: number, dtype: float64"
      ]
     },
     "execution_count": 8,
     "metadata": {},
     "output_type": "execute_result"
    }
   ],
   "source": [
    "income_pop_quartiles.value_counts(normalize=True)"
   ]
  },
  {
   "cell_type": "code",
   "execution_count": 9,
   "metadata": {},
   "outputs": [
    {
     "data": {
      "text/plain": [
       "(-0.001, 3.0]     0.503831\n",
       "(3.0, 7.0]        0.096328\n",
       "(7.0, 16.0]       0.106994\n",
       "(16.0, 35.0]      0.094789\n",
       "(35.0, 79.0]      0.098334\n",
       "(79.0, 2985.0]    0.099724\n",
       "Name: number, dtype: float64"
      ]
     },
     "execution_count": 9,
     "metadata": {},
     "output_type": "execute_result"
    }
   ],
   "source": [
    "# Females only\n",
    "\n",
    "vic_f = vic[vic['gender'] == 'F']\n",
    "f_income_pop_quartiles = pd.qcut(vic_f['number'], 10, duplicates='drop')\n",
    "f_income_pop_quartiles.value_counts(sort=False, normalize=True)"
   ]
  },
  {
   "cell_type": "code",
   "execution_count": 10,
   "metadata": {},
   "outputs": [
    {
     "data": {
      "text/plain": [
       "(-0.001, 3.0]     0.491054\n",
       "(3.0, 4.0]        0.037398\n",
       "(4.0, 8.0]        0.083763\n",
       "(8.0, 15.0]       0.090534\n",
       "(15.0, 31.0]      0.097612\n",
       "(31.0, 70.0]      0.100775\n",
       "(70.0, 2265.0]    0.098864\n",
       "Name: number, dtype: float64"
      ]
     },
     "execution_count": 10,
     "metadata": {},
     "output_type": "execute_result"
    }
   ],
   "source": [
    "# Males only\n",
    "\n",
    "vic_m = vic[vic['gender'] == 'M']\n",
    "m_income_pop_quartiles = pd.qcut(vic_m['number'], 10, duplicates='drop')\n",
    "m_income_pop_quartiles.value_counts(sort=False, normalize=True)"
   ]
  },
  {
   "cell_type": "markdown",
   "metadata": {},
   "source": [
    "## Secondary variables\n",
    "\n",
    "* vic['income']: the average of the lower end and the higher end in each bracket\n",
    "* vic['total_income']: vic['income'] * number of people. This field exists in the raw dataset but here we reconstruct it"
   ]
  },
  {
   "cell_type": "code",
   "execution_count": 11,
   "metadata": {},
   "outputs": [],
   "source": [
    "vic['income'] = (vic['income_low'] + vic['income_high'])/2"
   ]
  },
  {
   "cell_type": "code",
   "execution_count": 12,
   "metadata": {},
   "outputs": [
    {
     "data": {
      "text/plain": [
       "1874.5    18846\n",
       "899.5     18846\n",
       "449.5     18846\n",
       "224.5     18846\n",
       "1624.5    18846\n",
       "724.5     18846\n",
       "349.5     18846\n",
       "1374.5    18846\n",
       "2499.5    18846\n",
       "75.0      18846\n",
       "574.5     18846\n",
       "1124.5    18846\n",
       "Name: income, dtype: int64"
      ]
     },
     "execution_count": 12,
     "metadata": {},
     "output_type": "execute_result"
    }
   ],
   "source": [
    "vic['income'].value_counts()"
   ]
  },
  {
   "cell_type": "code",
   "execution_count": 13,
   "metadata": {},
   "outputs": [
    {
     "data": {
      "text/html": [
       "<div>\n",
       "<style>\n",
       "    .dataframe thead tr:only-child th {\n",
       "        text-align: right;\n",
       "    }\n",
       "\n",
       "    .dataframe thead th {\n",
       "        text-align: left;\n",
       "    }\n",
       "\n",
       "    .dataframe tbody tr th {\n",
       "        vertical-align: top;\n",
       "    }\n",
       "</style>\n",
       "<table border=\"1\" class=\"dataframe\">\n",
       "  <thead>\n",
       "    <tr style=\"text-align: right;\">\n",
       "      <th></th>\n",
       "      <th>postcode</th>\n",
       "      <th>gender</th>\n",
       "      <th>age_low</th>\n",
       "      <th>age_high</th>\n",
       "      <th>income_low</th>\n",
       "      <th>income_high</th>\n",
       "      <th>number</th>\n",
       "      <th>income</th>\n",
       "      <th>total_income</th>\n",
       "    </tr>\n",
       "  </thead>\n",
       "  <tbody>\n",
       "    <tr>\n",
       "      <th>0</th>\n",
       "      <td>POA3000</td>\n",
       "      <td>M</td>\n",
       "      <td>15</td>\n",
       "      <td>19</td>\n",
       "      <td>1.0</td>\n",
       "      <td>149.0</td>\n",
       "      <td>78</td>\n",
       "      <td>75.0</td>\n",
       "      <td>5850.0</td>\n",
       "    </tr>\n",
       "    <tr>\n",
       "      <th>1</th>\n",
       "      <td>POA3002</td>\n",
       "      <td>M</td>\n",
       "      <td>15</td>\n",
       "      <td>19</td>\n",
       "      <td>1.0</td>\n",
       "      <td>149.0</td>\n",
       "      <td>6</td>\n",
       "      <td>75.0</td>\n",
       "      <td>450.0</td>\n",
       "    </tr>\n",
       "    <tr>\n",
       "      <th>2</th>\n",
       "      <td>POA3003</td>\n",
       "      <td>M</td>\n",
       "      <td>15</td>\n",
       "      <td>19</td>\n",
       "      <td>1.0</td>\n",
       "      <td>149.0</td>\n",
       "      <td>17</td>\n",
       "      <td>75.0</td>\n",
       "      <td>1275.0</td>\n",
       "    </tr>\n",
       "    <tr>\n",
       "      <th>3</th>\n",
       "      <td>POA3004</td>\n",
       "      <td>M</td>\n",
       "      <td>15</td>\n",
       "      <td>19</td>\n",
       "      <td>1.0</td>\n",
       "      <td>149.0</td>\n",
       "      <td>10</td>\n",
       "      <td>75.0</td>\n",
       "      <td>750.0</td>\n",
       "    </tr>\n",
       "    <tr>\n",
       "      <th>4</th>\n",
       "      <td>POA3005</td>\n",
       "      <td>M</td>\n",
       "      <td>15</td>\n",
       "      <td>19</td>\n",
       "      <td>1.0</td>\n",
       "      <td>149.0</td>\n",
       "      <td>0</td>\n",
       "      <td>75.0</td>\n",
       "      <td>0.0</td>\n",
       "    </tr>\n",
       "  </tbody>\n",
       "</table>\n",
       "</div>"
      ],
      "text/plain": [
       "  postcode gender  age_low  age_high  income_low  income_high  number  income  \\\n",
       "0  POA3000      M       15        19         1.0        149.0      78    75.0   \n",
       "1  POA3002      M       15        19         1.0        149.0       6    75.0   \n",
       "2  POA3003      M       15        19         1.0        149.0      17    75.0   \n",
       "3  POA3004      M       15        19         1.0        149.0      10    75.0   \n",
       "4  POA3005      M       15        19         1.0        149.0       0    75.0   \n",
       "\n",
       "   total_income  \n",
       "0        5850.0  \n",
       "1         450.0  \n",
       "2        1275.0  \n",
       "3         750.0  \n",
       "4           0.0  "
      ]
     },
     "execution_count": 13,
     "metadata": {},
     "output_type": "execute_result"
    }
   ],
   "source": [
    "vic['total_income'] = vic['income'] * vic['number']\n",
    "vic.head()"
   ]
  },
  {
   "cell_type": "markdown",
   "metadata": {},
   "source": [
    "## Income total and per head via secondary variables\n",
    "\n",
    "BY inspecting secondary varialbes, we can see the overall incomes. \n",
    "\n",
    "Male's incomes are higher than female's."
   ]
  },
  {
   "cell_type": "code",
   "execution_count": 45,
   "metadata": {},
   "outputs": [
    {
     "name": "stdout",
     "output_type": "stream",
     "text": [
      "Vic Female:\n",
      "\tPopulation: \t           2,480,205\n",
      " \tincome total:        1,467,123,144\n",
      " \taverage weekly income:               591.53\n"
     ]
    }
   ],
   "source": [
    "# Female population and income total and per head\n",
    "vic_f = vic[vic['gender'] == 'F']\n",
    "vic_f_pop = vic_f['number'].sum()\n",
    "vic_f_total_income = vic_f['total_income'].sum()\n",
    "print(f'Vic Female:\\n\\tPopulation: \\t{vic_f_pop:>20,d}\\n', \n",
    "      f'\\tincome total: {vic_f_total_income:>20,.0f}\\n',\n",
    "      f'\\taverage weekly income: {vic_f_total_income / vic_f_pop:>20.2f}')"
   ]
  },
  {
   "cell_type": "code",
   "execution_count": 46,
   "metadata": {},
   "outputs": [
    {
     "name": "stdout",
     "output_type": "stream",
     "text": [
      "Vic Male:\n",
      "\tPopulation: \t           2,339,649\n",
      " \tincome total:        1,810,145,426\n",
      " \taverage weekly income:               773.68\n"
     ]
    }
   ],
   "source": [
    "# Male population and income total and per head\n",
    "vic_m = vic[vic['gender'] == 'M']\n",
    "vic_m_pop = vic_m['number'].sum()\n",
    "vic_m_total_income = vic_m['total_income'].sum()\n",
    "print(f'Vic Male:\\n\\tPopulation: \\t{vic_m_pop:>20,d}\\n', \n",
    "      f'\\tincome total: {vic_m_total_income:>20,.0f}\\n',\n",
    "      f'\\taverage weekly income: {vic_m_total_income / vic_m_pop:>20.2f}')"
   ]
  },
  {
   "cell_type": "markdown",
   "metadata": {},
   "source": [
    "## Find out rich postal areas by secondary variables and groupby"
   ]
  },
  {
   "cell_type": "code",
   "execution_count": 16,
   "metadata": {},
   "outputs": [],
   "source": [
    "vic_postal_income = vic[vic['gender'] == 'P'].groupby('postcode')['number', 'total_income'].sum()"
   ]
  },
  {
   "cell_type": "code",
   "execution_count": 17,
   "metadata": {},
   "outputs": [],
   "source": [
    "vic_postal_income['avg_income'] = vic_postal_income['total_income'] / vic_postal_income['number']"
   ]
  },
  {
   "cell_type": "code",
   "execution_count": 18,
   "metadata": {},
   "outputs": [
    {
     "data": {
      "text/html": [
       "<div>\n",
       "<style>\n",
       "    .dataframe thead tr:only-child th {\n",
       "        text-align: right;\n",
       "    }\n",
       "\n",
       "    .dataframe thead th {\n",
       "        text-align: left;\n",
       "    }\n",
       "\n",
       "    .dataframe tbody tr th {\n",
       "        vertical-align: top;\n",
       "    }\n",
       "</style>\n",
       "<table border=\"1\" class=\"dataframe\">\n",
       "  <thead>\n",
       "    <tr style=\"text-align: right;\">\n",
       "      <th></th>\n",
       "      <th>number</th>\n",
       "      <th>total_income</th>\n",
       "      <th>avg_income</th>\n",
       "    </tr>\n",
       "    <tr>\n",
       "      <th>postcode</th>\n",
       "      <th></th>\n",
       "      <th></th>\n",
       "      <th></th>\n",
       "    </tr>\n",
       "  </thead>\n",
       "  <tbody>\n",
       "    <tr>\n",
       "      <th>POA3785</th>\n",
       "      <td>28</td>\n",
       "      <td>29764.0</td>\n",
       "      <td>1063.000000</td>\n",
       "    </tr>\n",
       "    <tr>\n",
       "      <th>POA3662</th>\n",
       "      <td>771</td>\n",
       "      <td>747619.0</td>\n",
       "      <td>969.674449</td>\n",
       "    </tr>\n",
       "    <tr>\n",
       "      <th>POA3852</th>\n",
       "      <td>72</td>\n",
       "      <td>69268.5</td>\n",
       "      <td>962.062500</td>\n",
       "    </tr>\n",
       "    <tr>\n",
       "      <th>POA3067</th>\n",
       "      <td>7525</td>\n",
       "      <td>6738170.5</td>\n",
       "      <td>895.437940</td>\n",
       "    </tr>\n",
       "    <tr>\n",
       "      <th>POA3184</th>\n",
       "      <td>13411</td>\n",
       "      <td>12000147.0</td>\n",
       "      <td>894.798822</td>\n",
       "    </tr>\n",
       "    <tr>\n",
       "      <th>POA3121</th>\n",
       "      <td>27444</td>\n",
       "      <td>24471396.5</td>\n",
       "      <td>891.684758</td>\n",
       "    </tr>\n",
       "    <tr>\n",
       "      <th>POA3002</th>\n",
       "      <td>4631</td>\n",
       "      <td>4082104.5</td>\n",
       "      <td>881.473656</td>\n",
       "    </tr>\n",
       "    <tr>\n",
       "      <th>POA3015</th>\n",
       "      <td>13837</td>\n",
       "      <td>12134495.5</td>\n",
       "      <td>876.959999</td>\n",
       "    </tr>\n",
       "    <tr>\n",
       "      <th>POA3704</th>\n",
       "      <td>17</td>\n",
       "      <td>14891.5</td>\n",
       "      <td>875.970588</td>\n",
       "    </tr>\n",
       "    <tr>\n",
       "      <th>POA3013</th>\n",
       "      <td>12168</td>\n",
       "      <td>10538549.5</td>\n",
       "      <td>866.087237</td>\n",
       "    </tr>\n",
       "  </tbody>\n",
       "</table>\n",
       "</div>"
      ],
      "text/plain": [
       "          number  total_income   avg_income\n",
       "postcode                                   \n",
       "POA3785       28       29764.0  1063.000000\n",
       "POA3662      771      747619.0   969.674449\n",
       "POA3852       72       69268.5   962.062500\n",
       "POA3067     7525     6738170.5   895.437940\n",
       "POA3184    13411    12000147.0   894.798822\n",
       "POA3121    27444    24471396.5   891.684758\n",
       "POA3002     4631     4082104.5   881.473656\n",
       "POA3015    13837    12134495.5   876.959999\n",
       "POA3704       17       14891.5   875.970588\n",
       "POA3013    12168    10538549.5   866.087237"
      ]
     },
     "execution_count": 18,
     "metadata": {},
     "output_type": "execute_result"
    }
   ],
   "source": [
    "vic_postal_income.nlargest(10, 'avg_income')"
   ]
  },
  {
   "cell_type": "code",
   "execution_count": 19,
   "metadata": {},
   "outputs": [
    {
     "data": {
      "text/html": [
       "<div>\n",
       "<style>\n",
       "    .dataframe thead tr:only-child th {\n",
       "        text-align: right;\n",
       "    }\n",
       "\n",
       "    .dataframe thead th {\n",
       "        text-align: left;\n",
       "    }\n",
       "\n",
       "    .dataframe tbody tr th {\n",
       "        vertical-align: top;\n",
       "    }\n",
       "</style>\n",
       "<table border=\"1\" class=\"dataframe\">\n",
       "  <thead>\n",
       "    <tr style=\"text-align: right;\">\n",
       "      <th></th>\n",
       "      <th>number</th>\n",
       "      <th>total_income</th>\n",
       "      <th>avg_income</th>\n",
       "    </tr>\n",
       "    <tr>\n",
       "      <th>postcode</th>\n",
       "      <th></th>\n",
       "      <th></th>\n",
       "      <th></th>\n",
       "    </tr>\n",
       "  </thead>\n",
       "  <tbody>\n",
       "    <tr>\n",
       "      <th>POA3086</th>\n",
       "      <td>881</td>\n",
       "      <td>145962.5</td>\n",
       "      <td>165.678207</td>\n",
       "    </tr>\n",
       "    <tr>\n",
       "      <th>POA3800</th>\n",
       "      <td>2180</td>\n",
       "      <td>398334.5</td>\n",
       "      <td>182.722248</td>\n",
       "    </tr>\n",
       "    <tr>\n",
       "      <th>POA3050</th>\n",
       "      <td>76</td>\n",
       "      <td>14292.0</td>\n",
       "      <td>188.052632</td>\n",
       "    </tr>\n",
       "    <tr>\n",
       "      <th>POA3010</th>\n",
       "      <td>1581</td>\n",
       "      <td>316896.5</td>\n",
       "      <td>200.440544</td>\n",
       "    </tr>\n",
       "    <tr>\n",
       "      <th>POA3520</th>\n",
       "      <td>135</td>\n",
       "      <td>37603.0</td>\n",
       "      <td>278.540741</td>\n",
       "    </tr>\n",
       "    <tr>\n",
       "      <th>POA3506</th>\n",
       "      <td>15</td>\n",
       "      <td>4422.0</td>\n",
       "      <td>294.800000</td>\n",
       "    </tr>\n",
       "    <tr>\n",
       "      <th>POA3045</th>\n",
       "      <td>86</td>\n",
       "      <td>25743.0</td>\n",
       "      <td>299.337209</td>\n",
       "    </tr>\n",
       "    <tr>\n",
       "      <th>POA3026</th>\n",
       "      <td>40</td>\n",
       "      <td>12412.5</td>\n",
       "      <td>310.312500</td>\n",
       "    </tr>\n",
       "    <tr>\n",
       "      <th>POA3889</th>\n",
       "      <td>124</td>\n",
       "      <td>39204.0</td>\n",
       "      <td>316.161290</td>\n",
       "    </tr>\n",
       "    <tr>\n",
       "      <th>POA3482</th>\n",
       "      <td>111</td>\n",
       "      <td>38861.0</td>\n",
       "      <td>350.099099</td>\n",
       "    </tr>\n",
       "  </tbody>\n",
       "</table>\n",
       "</div>"
      ],
      "text/plain": [
       "          number  total_income  avg_income\n",
       "postcode                                  \n",
       "POA3086      881      145962.5  165.678207\n",
       "POA3800     2180      398334.5  182.722248\n",
       "POA3050       76       14292.0  188.052632\n",
       "POA3010     1581      316896.5  200.440544\n",
       "POA3520      135       37603.0  278.540741\n",
       "POA3506       15        4422.0  294.800000\n",
       "POA3045       86       25743.0  299.337209\n",
       "POA3026       40       12412.5  310.312500\n",
       "POA3889      124       39204.0  316.161290\n",
       "POA3482      111       38861.0  350.099099"
      ]
     },
     "execution_count": 19,
     "metadata": {},
     "output_type": "execute_result"
    }
   ],
   "source": [
    "vic_postal_income.nsmallest(10, 'avg_income')"
   ]
  },
  {
   "cell_type": "markdown",
   "metadata": {},
   "source": [
    "## Mapping postcodes to suburb names\n",
    "\n",
    "Australia Post Code Data: (not free) https://postcode.auspost.com.au/product_display.html?id=1\n",
    "\n",
    "After digging around, the Australian Bureau of Statistics (ABS) says:\n",
    "\n",
    "POSTAL AREA NAMES\n",
    "\n",
    "Postal Areas (POAs) are not allocated names since there is no standardised name available for Australia Post postcodes. In most cases the code is repeated in the name field except where State or Territory (S/T) boundaries are crossed when a description is added.\n",
    "\n",
    "It is contradicting to our common belief but reading through the process of building postcode into the dataset, I can understand POAs are not accurate enough for ABS.\n",
    "\n",
    "Still, I think it's fairly useful information so I try to collect POAs from a different dataset:\n",
    "\n",
    "[Victorian Electors by Locality, Postcode and Electorates](https://www.data.vic.gov.au/data/dataset/victorian-electors-by-locality-postcode-and-electorates)\n",
    "\n",
    "But I am relectant to mapping the whole dataframe to this imperfect information.\n"
   ]
  },
  {
   "cell_type": "code",
   "execution_count": 20,
   "metadata": {},
   "outputs": [],
   "source": [
    "vic_ele = pd.read_excel('../dataset_Vic/LocalityFinder.xls', skiprows=2)"
   ]
  },
  {
   "cell_type": "code",
   "execution_count": 21,
   "metadata": {},
   "outputs": [
    {
     "data": {
      "text/plain": [
       "Index(['Locality Name', 'Post\\r\\nCode', 'Municipality\\r\\nName', 'Ward\\r\\nName',\n",
       "       'LGA', 'District\\r\\nName', 'District\\r\\nCode', 'Region\\r\\nName',\n",
       "       'Region\\r\\nCode', 'Property\\r\\nCount', 'Elector\\r\\nCount'],\n",
       "      dtype='object')"
      ]
     },
     "execution_count": 21,
     "metadata": {},
     "output_type": "execute_result"
    }
   ],
   "source": [
    "vic_ele.columns"
   ]
  },
  {
   "cell_type": "code",
   "execution_count": 22,
   "metadata": {},
   "outputs": [],
   "source": [
    "vic_postcode_names = vic_ele[['Locality Name', 'Post\\r\\nCode']]\n",
    "vic_postcode_names.columns = ['locality name', 'postcode']"
   ]
  },
  {
   "cell_type": "markdown",
   "metadata": {},
   "source": [
    "Does the locality name and post code have 1-to-1 relationship?\n"
   ]
  },
  {
   "cell_type": "code",
   "execution_count": 23,
   "metadata": {},
   "outputs": [
    {
     "data": {
      "text/plain": [
       "3881"
      ]
     },
     "execution_count": 23,
     "metadata": {},
     "output_type": "execute_result"
    }
   ],
   "source": [
    "len(vic_postcode_names['locality name'])"
   ]
  },
  {
   "cell_type": "code",
   "execution_count": 24,
   "metadata": {},
   "outputs": [
    {
     "name": "stdout",
     "output_type": "stream",
     "text": [
      "Total postal records: 3881\n",
      "Unique post name records: 2877\n",
      "Unique post code records\" 695\n"
     ]
    }
   ],
   "source": [
    "print(f'Total postal records: {len(vic_postcode_names)}')\n",
    "print(f'Unique post name records: {len(pd.unique(vic_postcode_names[\"locality name\"]))}') \n",
    "print(f'Unique post code records\" {len(pd.unique(vic_postcode_names[\"postcode\"]))}')"
   ]
  },
  {
   "cell_type": "code",
   "execution_count": 25,
   "metadata": {},
   "outputs": [
    {
     "data": {
      "text/html": [
       "<div>\n",
       "<style>\n",
       "    .dataframe thead tr:only-child th {\n",
       "        text-align: right;\n",
       "    }\n",
       "\n",
       "    .dataframe thead th {\n",
       "        text-align: left;\n",
       "    }\n",
       "\n",
       "    .dataframe tbody tr th {\n",
       "        vertical-align: top;\n",
       "    }\n",
       "</style>\n",
       "<table border=\"1\" class=\"dataframe\">\n",
       "  <thead>\n",
       "    <tr style=\"text-align: right;\">\n",
       "      <th></th>\n",
       "      <th>locality name</th>\n",
       "    </tr>\n",
       "    <tr>\n",
       "      <th>postcode</th>\n",
       "      <th></th>\n",
       "    </tr>\n",
       "  </thead>\n",
       "  <tbody>\n",
       "    <tr>\n",
       "      <th>3000</th>\n",
       "      <td>1</td>\n",
       "    </tr>\n",
       "    <tr>\n",
       "      <th>3002</th>\n",
       "      <td>1</td>\n",
       "    </tr>\n",
       "    <tr>\n",
       "      <th>3003</th>\n",
       "      <td>1</td>\n",
       "    </tr>\n",
       "    <tr>\n",
       "      <th>3004</th>\n",
       "      <td>4</td>\n",
       "    </tr>\n",
       "    <tr>\n",
       "      <th>3006</th>\n",
       "      <td>3</td>\n",
       "    </tr>\n",
       "  </tbody>\n",
       "</table>\n",
       "</div>"
      ],
      "text/plain": [
       "          locality name\n",
       "postcode               \n",
       "3000                  1\n",
       "3002                  1\n",
       "3003                  1\n",
       "3004                  4\n",
       "3006                  3"
      ]
     },
     "execution_count": 25,
     "metadata": {},
     "output_type": "execute_result"
    }
   ],
   "source": [
    "vic_postcode_names.groupby('postcode').count().head()"
   ]
  },
  {
   "cell_type": "code",
   "execution_count": 26,
   "metadata": {},
   "outputs": [
    {
     "data": {
      "text/html": [
       "<div>\n",
       "<style>\n",
       "    .dataframe thead tr:only-child th {\n",
       "        text-align: right;\n",
       "    }\n",
       "\n",
       "    .dataframe thead th {\n",
       "        text-align: left;\n",
       "    }\n",
       "\n",
       "    .dataframe tbody tr th {\n",
       "        vertical-align: top;\n",
       "    }\n",
       "</style>\n",
       "<table border=\"1\" class=\"dataframe\">\n",
       "  <thead>\n",
       "    <tr style=\"text-align: right;\">\n",
       "      <th></th>\n",
       "      <th>locality name</th>\n",
       "      <th>postcode</th>\n",
       "    </tr>\n",
       "  </thead>\n",
       "  <tbody>\n",
       "    <tr>\n",
       "      <th>2192</th>\n",
       "      <td>Melbourne</td>\n",
       "      <td>3004</td>\n",
       "    </tr>\n",
       "    <tr>\n",
       "      <th>2193</th>\n",
       "      <td>Melbourne</td>\n",
       "      <td>3004</td>\n",
       "    </tr>\n",
       "    <tr>\n",
       "      <th>2194</th>\n",
       "      <td>Melbourne</td>\n",
       "      <td>3004</td>\n",
       "    </tr>\n",
       "    <tr>\n",
       "      <th>2195</th>\n",
       "      <td>Melbourne</td>\n",
       "      <td>3004</td>\n",
       "    </tr>\n",
       "  </tbody>\n",
       "</table>\n",
       "</div>"
      ],
      "text/plain": [
       "     locality name  postcode\n",
       "2192     Melbourne      3004\n",
       "2193     Melbourne      3004\n",
       "2194     Melbourne      3004\n",
       "2195     Melbourne      3004"
      ]
     },
     "execution_count": 26,
     "metadata": {},
     "output_type": "execute_result"
    }
   ],
   "source": [
    "vic_postcode_names[vic_postcode_names['postcode'] == 3004]"
   ]
  },
  {
   "cell_type": "code",
   "execution_count": 27,
   "metadata": {},
   "outputs": [
    {
     "data": {
      "text/plain": [
       "(2877, 695)"
      ]
     },
     "execution_count": 27,
     "metadata": {},
     "output_type": "execute_result"
    }
   ],
   "source": [
    "# remove duplicates\n",
    "vic_postcode_names = vic_postcode_names.drop_duplicates()\n",
    "len(pd.unique(vic_postcode_names['locality name'])), len(pd.unique(vic_postcode_names['postcode']))"
   ]
  },
  {
   "cell_type": "code",
   "execution_count": 28,
   "metadata": {},
   "outputs": [
    {
     "data": {
      "text/plain": [
       "dtype('int64')"
      ]
     },
     "execution_count": 28,
     "metadata": {},
     "output_type": "execute_result"
    }
   ],
   "source": [
    "vic_postcode_names['postcode'].dtypes"
   ]
  },
  {
   "cell_type": "code",
   "execution_count": 29,
   "metadata": {},
   "outputs": [],
   "source": [
    "# This operation has SettingWithCopyWarning\n",
    "# vic_postcode_names['postcode'] = 'POA' + vic_postcode_names['postcode'].astype(str)\n",
    "vic_postcode_names['postcode'] = vic_postcode_names['postcode'].apply(lambda row: 'POA' + str(row))"
   ]
  },
  {
   "cell_type": "code",
   "execution_count": 30,
   "metadata": {},
   "outputs": [
    {
     "data": {
      "text/html": [
       "<div>\n",
       "<style>\n",
       "    .dataframe thead tr:only-child th {\n",
       "        text-align: right;\n",
       "    }\n",
       "\n",
       "    .dataframe thead th {\n",
       "        text-align: left;\n",
       "    }\n",
       "\n",
       "    .dataframe tbody tr th {\n",
       "        vertical-align: top;\n",
       "    }\n",
       "</style>\n",
       "<table border=\"1\" class=\"dataframe\">\n",
       "  <thead>\n",
       "    <tr style=\"text-align: right;\">\n",
       "      <th></th>\n",
       "      <th>locality name</th>\n",
       "      <th>postcode</th>\n",
       "    </tr>\n",
       "  </thead>\n",
       "  <tbody>\n",
       "    <tr>\n",
       "      <th>0</th>\n",
       "      <td>Abbeyard</td>\n",
       "      <td>POA3737</td>\n",
       "    </tr>\n",
       "    <tr>\n",
       "      <th>1</th>\n",
       "      <td>Abbotsford</td>\n",
       "      <td>POA3067</td>\n",
       "    </tr>\n",
       "    <tr>\n",
       "      <th>2</th>\n",
       "      <td>Aberfeldie</td>\n",
       "      <td>POA3040</td>\n",
       "    </tr>\n",
       "    <tr>\n",
       "      <th>3</th>\n",
       "      <td>Aberfeldy</td>\n",
       "      <td>POA3825</td>\n",
       "    </tr>\n",
       "    <tr>\n",
       "      <th>4</th>\n",
       "      <td>Acheron</td>\n",
       "      <td>POA3714</td>\n",
       "    </tr>\n",
       "  </tbody>\n",
       "</table>\n",
       "</div>"
      ],
      "text/plain": [
       "  locality name postcode\n",
       "0      Abbeyard  POA3737\n",
       "1    Abbotsford  POA3067\n",
       "2    Aberfeldie  POA3040\n",
       "3     Aberfeldy  POA3825\n",
       "4       Acheron  POA3714"
      ]
     },
     "execution_count": 30,
     "metadata": {},
     "output_type": "execute_result"
    }
   ],
   "source": [
    "vic_postcode_names.head()"
   ]
  },
  {
   "cell_type": "code",
   "execution_count": 31,
   "metadata": {},
   "outputs": [
    {
     "data": {
      "text/plain": [
       "Index(['locality name', 'postcode'], dtype='object')"
      ]
     },
     "execution_count": 31,
     "metadata": {},
     "output_type": "execute_result"
    }
   ],
   "source": [
    "vic_postcode_names.columns"
   ]
  },
  {
   "cell_type": "code",
   "execution_count": 32,
   "metadata": {},
   "outputs": [
    {
     "data": {
      "text/plain": [
       "number          698\n",
       "total_income    698\n",
       "avg_income      697\n",
       "dtype: int64"
      ]
     },
     "execution_count": 32,
     "metadata": {},
     "output_type": "execute_result"
    }
   ],
   "source": [
    "vic_postal_income.count()"
   ]
  },
  {
   "cell_type": "code",
   "execution_count": 33,
   "metadata": {},
   "outputs": [],
   "source": [
    "from collections import defaultdict\n",
    "\n",
    "code_names = defaultdict(list)\n",
    "\n",
    "for row in vic_postcode_names.iterrows():\n",
    "    #print(row[1][0], row[1][1])\n",
    "    code_names[row[1][1]].append(row[1][0])\n",
    "\n",
    "#code_names['POA3000']"
   ]
  },
  {
   "cell_type": "code",
   "execution_count": 34,
   "metadata": {},
   "outputs": [
    {
     "name": "stdout",
     "output_type": "stream",
     "text": [
      "POA3737 ['Abbeyard', 'Barwidgee', 'Buffalo River', 'Dandongadale', 'Gapsted', 'Havilah', 'Merriang', 'Merriang South', 'Mudgegonga', 'Myrtleford', 'Nug Nug', 'Rosewhite']\n",
      "POA3040 ['Aberfeldie', 'Essendon', 'Essendon West']\n",
      "POA3825 ['Aberfeldy', 'Amor', 'Caringal', 'Coalville', 'Erica', 'Fumina', 'Fumina South', 'Hernes Oak', 'Hill End', 'Jacob Creek', 'Moe', 'Moe South', 'Moondarra', 'Newborough', 'Rawson', 'Tanjil South', 'Thalloo', 'Walhalla', 'Westbury', 'Willow Grove', 'Yallourn', 'Yallourn North']\n",
      "POA3714 ['Acheron', 'Alexandra', 'Cathkin', 'Devils River', 'Fawcett', 'Koriella', 'Maintongoon', 'Taggerty', 'Whanregarwen']\n",
      "POA3984 ['Adams Estate', 'Caldermeade', 'Corinella', 'Coronet Bay', 'Grantville', 'Jam Jerrup', 'Lang Lang', 'Lang Lang East', 'Monomeith', 'Pioneer Bay', 'Queensferry', 'Tenby Point', 'The Gurdies']\n"
     ]
    }
   ],
   "source": [
    "# The code below shows how messy suburbs names are matched to post codes.\n",
    "\n",
    "show_how_many = 5\n",
    "\n",
    "for code, name in code_names.items():\n",
    "    if len(code_names[code]) >= 2:\n",
    "        print(code, name)\n",
    "    if show_how_many <=0:\n",
    "        break\n",
    "    show_how_many -= 1\n",
    "        "
   ]
  },
  {
   "cell_type": "code",
   "execution_count": 35,
   "metadata": {},
   "outputs": [],
   "source": [
    "vic_postal_income = vic_postal_income.reset_index()\n",
    "vic_postal_income['suburb'] = vic_postal_income['postcode'].apply(lambda row: code_names[row])"
   ]
  },
  {
   "cell_type": "markdown",
   "metadata": {},
   "source": [
    "## Top average weekly income suburbs"
   ]
  },
  {
   "cell_type": "code",
   "execution_count": 36,
   "metadata": {},
   "outputs": [
    {
     "data": {
      "text/html": [
       "<div>\n",
       "<style>\n",
       "    .dataframe thead tr:only-child th {\n",
       "        text-align: right;\n",
       "    }\n",
       "\n",
       "    .dataframe thead th {\n",
       "        text-align: left;\n",
       "    }\n",
       "\n",
       "    .dataframe tbody tr th {\n",
       "        vertical-align: top;\n",
       "    }\n",
       "</style>\n",
       "<table border=\"1\" class=\"dataframe\">\n",
       "  <thead>\n",
       "    <tr style=\"text-align: right;\">\n",
       "      <th></th>\n",
       "      <th>postcode</th>\n",
       "      <th>number</th>\n",
       "      <th>total_income</th>\n",
       "      <th>avg_income</th>\n",
       "      <th>suburb</th>\n",
       "    </tr>\n",
       "  </thead>\n",
       "  <tbody>\n",
       "    <tr>\n",
       "      <th>556</th>\n",
       "      <td>POA3785</td>\n",
       "      <td>28</td>\n",
       "      <td>29764.0</td>\n",
       "      <td>1063.000000</td>\n",
       "      <td>[Tremont]</td>\n",
       "    </tr>\n",
       "    <tr>\n",
       "      <th>471</th>\n",
       "      <td>POA3662</td>\n",
       "      <td>771</td>\n",
       "      <td>747619.0</td>\n",
       "      <td>969.674449</td>\n",
       "      <td>[Puckapunyal]</td>\n",
       "    </tr>\n",
       "    <tr>\n",
       "      <th>600</th>\n",
       "      <td>POA3852</td>\n",
       "      <td>72</td>\n",
       "      <td>69268.5</td>\n",
       "      <td>962.062500</td>\n",
       "      <td>[East Sale]</td>\n",
       "    </tr>\n",
       "    <tr>\n",
       "      <th>61</th>\n",
       "      <td>POA3067</td>\n",
       "      <td>7525</td>\n",
       "      <td>6738170.5</td>\n",
       "      <td>895.437940</td>\n",
       "      <td>[Abbotsford]</td>\n",
       "    </tr>\n",
       "    <tr>\n",
       "      <th>163</th>\n",
       "      <td>POA3184</td>\n",
       "      <td>13411</td>\n",
       "      <td>12000147.0</td>\n",
       "      <td>894.798822</td>\n",
       "      <td>[Elwood]</td>\n",
       "    </tr>\n",
       "    <tr>\n",
       "      <th>103</th>\n",
       "      <td>POA3121</td>\n",
       "      <td>27444</td>\n",
       "      <td>24471396.5</td>\n",
       "      <td>891.684758</td>\n",
       "      <td>[Burnley, Cremorne, Richmond]</td>\n",
       "    </tr>\n",
       "    <tr>\n",
       "      <th>1</th>\n",
       "      <td>POA3002</td>\n",
       "      <td>4631</td>\n",
       "      <td>4082104.5</td>\n",
       "      <td>881.473656</td>\n",
       "      <td>[East Melbourne]</td>\n",
       "    </tr>\n",
       "    <tr>\n",
       "      <th>11</th>\n",
       "      <td>POA3015</td>\n",
       "      <td>13837</td>\n",
       "      <td>12134495.5</td>\n",
       "      <td>876.959999</td>\n",
       "      <td>[Newport, South Kingsville, Spotswood]</td>\n",
       "    </tr>\n",
       "    <tr>\n",
       "      <th>497</th>\n",
       "      <td>POA3704</td>\n",
       "      <td>17</td>\n",
       "      <td>14891.5</td>\n",
       "      <td>875.970588</td>\n",
       "      <td>[Koetong]</td>\n",
       "    </tr>\n",
       "    <tr>\n",
       "      <th>10</th>\n",
       "      <td>POA3013</td>\n",
       "      <td>12168</td>\n",
       "      <td>10538549.5</td>\n",
       "      <td>866.087237</td>\n",
       "      <td>[Yarraville]</td>\n",
       "    </tr>\n",
       "  </tbody>\n",
       "</table>\n",
       "</div>"
      ],
      "text/plain": [
       "    postcode  number  total_income   avg_income  \\\n",
       "556  POA3785      28       29764.0  1063.000000   \n",
       "471  POA3662     771      747619.0   969.674449   \n",
       "600  POA3852      72       69268.5   962.062500   \n",
       "61   POA3067    7525     6738170.5   895.437940   \n",
       "163  POA3184   13411    12000147.0   894.798822   \n",
       "103  POA3121   27444    24471396.5   891.684758   \n",
       "1    POA3002    4631     4082104.5   881.473656   \n",
       "11   POA3015   13837    12134495.5   876.959999   \n",
       "497  POA3704      17       14891.5   875.970588   \n",
       "10   POA3013   12168    10538549.5   866.087237   \n",
       "\n",
       "                                     suburb  \n",
       "556                               [Tremont]  \n",
       "471                           [Puckapunyal]  \n",
       "600                             [East Sale]  \n",
       "61                             [Abbotsford]  \n",
       "163                                [Elwood]  \n",
       "103           [Burnley, Cremorne, Richmond]  \n",
       "1                          [East Melbourne]  \n",
       "11   [Newport, South Kingsville, Spotswood]  \n",
       "497                               [Koetong]  \n",
       "10                             [Yarraville]  "
      ]
     },
     "execution_count": 36,
     "metadata": {},
     "output_type": "execute_result"
    }
   ],
   "source": [
    "vic_postal_income.nlargest(10, 'avg_income')"
   ]
  },
  {
   "cell_type": "markdown",
   "metadata": {},
   "source": [
    "## Top total population weekly income suburbs"
   ]
  },
  {
   "cell_type": "code",
   "execution_count": 37,
   "metadata": {},
   "outputs": [
    {
     "data": {
      "text/html": [
       "<div>\n",
       "<style>\n",
       "    .dataframe thead tr:only-child th {\n",
       "        text-align: right;\n",
       "    }\n",
       "\n",
       "    .dataframe thead th {\n",
       "        text-align: left;\n",
       "    }\n",
       "\n",
       "    .dataframe tbody tr th {\n",
       "        vertical-align: top;\n",
       "    }\n",
       "</style>\n",
       "<table border=\"1\" class=\"dataframe\">\n",
       "  <thead>\n",
       "    <tr style=\"text-align: right;\">\n",
       "      <th></th>\n",
       "      <th>postcode</th>\n",
       "      <th>number</th>\n",
       "      <th>total_income</th>\n",
       "      <th>avg_income</th>\n",
       "      <th>suburb</th>\n",
       "    </tr>\n",
       "  </thead>\n",
       "  <tbody>\n",
       "    <tr>\n",
       "      <th>25</th>\n",
       "      <td>POA3030</td>\n",
       "      <td>75834</td>\n",
       "      <td>54920404.0</td>\n",
       "      <td>724.218741</td>\n",
       "      <td>[Derrimut, Point Cook, Quandong, Werribee, Wer...</td>\n",
       "    </tr>\n",
       "    <tr>\n",
       "      <th>685</th>\n",
       "      <td>POA3977</td>\n",
       "      <td>70605</td>\n",
       "      <td>48324142.0</td>\n",
       "      <td>684.429460</td>\n",
       "      <td>[Botanic Ridge, Cannons Creek, Cranbourne, Cra...</td>\n",
       "    </tr>\n",
       "    <tr>\n",
       "      <th>24</th>\n",
       "      <td>POA3029</td>\n",
       "      <td>70398</td>\n",
       "      <td>47010874.5</td>\n",
       "      <td>667.787075</td>\n",
       "      <td>[Hoppers Crossing, Tarneit, Truganina]</td>\n",
       "    </tr>\n",
       "    <tr>\n",
       "      <th>58</th>\n",
       "      <td>POA3064</td>\n",
       "      <td>55877</td>\n",
       "      <td>34154114.5</td>\n",
       "      <td>611.237441</td>\n",
       "      <td>[Craigieburn, Donnybrook, Kalkallo, Mickleham,...</td>\n",
       "    </tr>\n",
       "    <tr>\n",
       "      <th>132</th>\n",
       "      <td>POA3150</td>\n",
       "      <td>50230</td>\n",
       "      <td>33846014.0</td>\n",
       "      <td>673.820705</td>\n",
       "      <td>[Glen Waverley, Wheelers Hill]</td>\n",
       "    </tr>\n",
       "    <tr>\n",
       "      <th>285</th>\n",
       "      <td>POA3350</td>\n",
       "      <td>48124</td>\n",
       "      <td>32833054.0</td>\n",
       "      <td>682.259455</td>\n",
       "      <td>[Alfredton, Bakery Hill, Ballarat Central, Bal...</td>\n",
       "    </tr>\n",
       "    <tr>\n",
       "      <th>191</th>\n",
       "      <td>POA3216</td>\n",
       "      <td>46183</td>\n",
       "      <td>32115504.0</td>\n",
       "      <td>695.396661</td>\n",
       "      <td>[Belmont, Grovedale, Highton, Marshall, Wandan...</td>\n",
       "    </tr>\n",
       "    <tr>\n",
       "      <th>18</th>\n",
       "      <td>POA3023</td>\n",
       "      <td>48665</td>\n",
       "      <td>31430910.0</td>\n",
       "      <td>645.862735</td>\n",
       "      <td>[Burnside, Burnside Heights, Cairnlea, Carolin...</td>\n",
       "    </tr>\n",
       "    <tr>\n",
       "      <th>178</th>\n",
       "      <td>POA3199</td>\n",
       "      <td>44887</td>\n",
       "      <td>30262235.5</td>\n",
       "      <td>674.187081</td>\n",
       "      <td>[Frankston, Frankston South]</td>\n",
       "    </tr>\n",
       "    <tr>\n",
       "      <th>572</th>\n",
       "      <td>POA3805</td>\n",
       "      <td>44104</td>\n",
       "      <td>29381543.5</td>\n",
       "      <td>666.187727</td>\n",
       "      <td>[Narre Warren, Narre Warren South]</td>\n",
       "    </tr>\n",
       "  </tbody>\n",
       "</table>\n",
       "</div>"
      ],
      "text/plain": [
       "    postcode  number  total_income  avg_income  \\\n",
       "25   POA3030   75834    54920404.0  724.218741   \n",
       "685  POA3977   70605    48324142.0  684.429460   \n",
       "24   POA3029   70398    47010874.5  667.787075   \n",
       "58   POA3064   55877    34154114.5  611.237441   \n",
       "132  POA3150   50230    33846014.0  673.820705   \n",
       "285  POA3350   48124    32833054.0  682.259455   \n",
       "191  POA3216   46183    32115504.0  695.396661   \n",
       "18   POA3023   48665    31430910.0  645.862735   \n",
       "178  POA3199   44887    30262235.5  674.187081   \n",
       "572  POA3805   44104    29381543.5  666.187727   \n",
       "\n",
       "                                                suburb  \n",
       "25   [Derrimut, Point Cook, Quandong, Werribee, Wer...  \n",
       "685  [Botanic Ridge, Cannons Creek, Cranbourne, Cra...  \n",
       "24              [Hoppers Crossing, Tarneit, Truganina]  \n",
       "58   [Craigieburn, Donnybrook, Kalkallo, Mickleham,...  \n",
       "132                     [Glen Waverley, Wheelers Hill]  \n",
       "285  [Alfredton, Bakery Hill, Ballarat Central, Bal...  \n",
       "191  [Belmont, Grovedale, Highton, Marshall, Wandan...  \n",
       "18   [Burnside, Burnside Heights, Cairnlea, Carolin...  \n",
       "178                       [Frankston, Frankston South]  \n",
       "572                 [Narre Warren, Narre Warren South]  "
      ]
     },
     "execution_count": 37,
     "metadata": {},
     "output_type": "execute_result"
    }
   ],
   "source": [
    "vic_postal_income.nlargest(10, 'total_income')"
   ]
  },
  {
   "cell_type": "markdown",
   "metadata": {},
   "source": [
    "## Bottom average weekly income suburbs"
   ]
  },
  {
   "cell_type": "code",
   "execution_count": 38,
   "metadata": {},
   "outputs": [
    {
     "data": {
      "text/html": [
       "<div>\n",
       "<style>\n",
       "    .dataframe thead tr:only-child th {\n",
       "        text-align: right;\n",
       "    }\n",
       "\n",
       "    .dataframe thead th {\n",
       "        text-align: left;\n",
       "    }\n",
       "\n",
       "    .dataframe tbody tr th {\n",
       "        vertical-align: top;\n",
       "    }\n",
       "</style>\n",
       "<table border=\"1\" class=\"dataframe\">\n",
       "  <thead>\n",
       "    <tr style=\"text-align: right;\">\n",
       "      <th></th>\n",
       "      <th>postcode</th>\n",
       "      <th>number</th>\n",
       "      <th>total_income</th>\n",
       "      <th>avg_income</th>\n",
       "      <th>suburb</th>\n",
       "    </tr>\n",
       "  </thead>\n",
       "  <tbody>\n",
       "    <tr>\n",
       "      <th>77</th>\n",
       "      <td>POA3086</td>\n",
       "      <td>881</td>\n",
       "      <td>145962.5</td>\n",
       "      <td>165.678207</td>\n",
       "      <td>[]</td>\n",
       "    </tr>\n",
       "    <tr>\n",
       "      <th>568</th>\n",
       "      <td>POA3800</td>\n",
       "      <td>2180</td>\n",
       "      <td>398334.5</td>\n",
       "      <td>182.722248</td>\n",
       "      <td>[]</td>\n",
       "    </tr>\n",
       "    <tr>\n",
       "      <th>44</th>\n",
       "      <td>POA3050</td>\n",
       "      <td>76</td>\n",
       "      <td>14292.0</td>\n",
       "      <td>188.052632</td>\n",
       "      <td>[]</td>\n",
       "    </tr>\n",
       "    <tr>\n",
       "      <th>7</th>\n",
       "      <td>POA3010</td>\n",
       "      <td>1581</td>\n",
       "      <td>316896.5</td>\n",
       "      <td>200.440544</td>\n",
       "      <td>[]</td>\n",
       "    </tr>\n",
       "    <tr>\n",
       "      <th>386</th>\n",
       "      <td>POA3520</td>\n",
       "      <td>135</td>\n",
       "      <td>37603.0</td>\n",
       "      <td>278.540741</td>\n",
       "      <td>[Kinypanial, Korong Vale]</td>\n",
       "    </tr>\n",
       "    <tr>\n",
       "      <th>378</th>\n",
       "      <td>POA3506</td>\n",
       "      <td>15</td>\n",
       "      <td>4422.0</td>\n",
       "      <td>294.800000</td>\n",
       "      <td>[Cowangie]</td>\n",
       "    </tr>\n",
       "    <tr>\n",
       "      <th>39</th>\n",
       "      <td>POA3045</td>\n",
       "      <td>86</td>\n",
       "      <td>25743.0</td>\n",
       "      <td>299.337209</td>\n",
       "      <td>[Melbourne Airport]</td>\n",
       "    </tr>\n",
       "    <tr>\n",
       "      <th>21</th>\n",
       "      <td>POA3026</td>\n",
       "      <td>40</td>\n",
       "      <td>12412.5</td>\n",
       "      <td>310.312500</td>\n",
       "      <td>[Laverton North]</td>\n",
       "    </tr>\n",
       "    <tr>\n",
       "      <th>623</th>\n",
       "      <td>POA3889</td>\n",
       "      <td>124</td>\n",
       "      <td>39204.0</td>\n",
       "      <td>316.161290</td>\n",
       "      <td>[Bellbird Creek, Bemm River, Cabbage Tree Cree...</td>\n",
       "    </tr>\n",
       "    <tr>\n",
       "      <th>364</th>\n",
       "      <td>POA3482</td>\n",
       "      <td>111</td>\n",
       "      <td>38861.0</td>\n",
       "      <td>350.099099</td>\n",
       "      <td>[Massey, Morton Plains, Warmur, Watchem, Watch...</td>\n",
       "    </tr>\n",
       "  </tbody>\n",
       "</table>\n",
       "</div>"
      ],
      "text/plain": [
       "    postcode  number  total_income  avg_income  \\\n",
       "77   POA3086     881      145962.5  165.678207   \n",
       "568  POA3800    2180      398334.5  182.722248   \n",
       "44   POA3050      76       14292.0  188.052632   \n",
       "7    POA3010    1581      316896.5  200.440544   \n",
       "386  POA3520     135       37603.0  278.540741   \n",
       "378  POA3506      15        4422.0  294.800000   \n",
       "39   POA3045      86       25743.0  299.337209   \n",
       "21   POA3026      40       12412.5  310.312500   \n",
       "623  POA3889     124       39204.0  316.161290   \n",
       "364  POA3482     111       38861.0  350.099099   \n",
       "\n",
       "                                                suburb  \n",
       "77                                                  []  \n",
       "568                                                 []  \n",
       "44                                                  []  \n",
       "7                                                   []  \n",
       "386                          [Kinypanial, Korong Vale]  \n",
       "378                                         [Cowangie]  \n",
       "39                                 [Melbourne Airport]  \n",
       "21                                    [Laverton North]  \n",
       "623  [Bellbird Creek, Bemm River, Cabbage Tree Cree...  \n",
       "364  [Massey, Morton Plains, Warmur, Watchem, Watch...  "
      ]
     },
     "execution_count": 38,
     "metadata": {},
     "output_type": "execute_result"
    }
   ],
   "source": [
    "vic_postal_income.nsmallest(10, 'avg_income')"
   ]
  },
  {
   "cell_type": "markdown",
   "metadata": {},
   "source": [
    "## Bottom total population weekly income suburbs"
   ]
  },
  {
   "cell_type": "code",
   "execution_count": 39,
   "metadata": {},
   "outputs": [
    {
     "data": {
      "text/html": [
       "<div>\n",
       "<style>\n",
       "    .dataframe thead tr:only-child th {\n",
       "        text-align: right;\n",
       "    }\n",
       "\n",
       "    .dataframe thead th {\n",
       "        text-align: left;\n",
       "    }\n",
       "\n",
       "    .dataframe tbody tr th {\n",
       "        vertical-align: top;\n",
       "    }\n",
       "</style>\n",
       "<table border=\"1\" class=\"dataframe\">\n",
       "  <thead>\n",
       "    <tr style=\"text-align: right;\">\n",
       "      <th></th>\n",
       "      <th>postcode</th>\n",
       "      <th>number</th>\n",
       "      <th>total_income</th>\n",
       "      <th>avg_income</th>\n",
       "      <th>suburb</th>\n",
       "    </tr>\n",
       "  </thead>\n",
       "  <tbody>\n",
       "    <tr>\n",
       "      <th>56</th>\n",
       "      <td>POA3062</td>\n",
       "      <td>0</td>\n",
       "      <td>0.0</td>\n",
       "      <td>NaN</td>\n",
       "      <td>[Somerton]</td>\n",
       "    </tr>\n",
       "    <tr>\n",
       "      <th>378</th>\n",
       "      <td>POA3506</td>\n",
       "      <td>15</td>\n",
       "      <td>4422.0</td>\n",
       "      <td>294.800000</td>\n",
       "      <td>[Cowangie]</td>\n",
       "    </tr>\n",
       "    <tr>\n",
       "      <th>322</th>\n",
       "      <td>POA3415</td>\n",
       "      <td>20</td>\n",
       "      <td>7168.0</td>\n",
       "      <td>358.400000</td>\n",
       "      <td>[Miram]</td>\n",
       "    </tr>\n",
       "    <tr>\n",
       "      <th>627</th>\n",
       "      <td>POA3893</td>\n",
       "      <td>13</td>\n",
       "      <td>7543.5</td>\n",
       "      <td>580.269231</td>\n",
       "      <td>[Double Bridges, Tambo Crossing]</td>\n",
       "    </tr>\n",
       "    <tr>\n",
       "      <th>466</th>\n",
       "      <td>POA3647</td>\n",
       "      <td>23</td>\n",
       "      <td>9070.0</td>\n",
       "      <td>394.347826</td>\n",
       "      <td>[Dookie College]</td>\n",
       "    </tr>\n",
       "    <tr>\n",
       "      <th>500</th>\n",
       "      <td>POA3708</td>\n",
       "      <td>21</td>\n",
       "      <td>11091.0</td>\n",
       "      <td>528.142857</td>\n",
       "      <td>[Tintaldra]</td>\n",
       "    </tr>\n",
       "    <tr>\n",
       "      <th>21</th>\n",
       "      <td>POA3026</td>\n",
       "      <td>40</td>\n",
       "      <td>12412.5</td>\n",
       "      <td>310.312500</td>\n",
       "      <td>[Laverton North]</td>\n",
       "    </tr>\n",
       "    <tr>\n",
       "      <th>44</th>\n",
       "      <td>POA3050</td>\n",
       "      <td>76</td>\n",
       "      <td>14292.0</td>\n",
       "      <td>188.052632</td>\n",
       "      <td>[]</td>\n",
       "    </tr>\n",
       "    <tr>\n",
       "      <th>369</th>\n",
       "      <td>POA3489</td>\n",
       "      <td>33</td>\n",
       "      <td>14464.5</td>\n",
       "      <td>438.318182</td>\n",
       "      <td>[Tempy]</td>\n",
       "    </tr>\n",
       "    <tr>\n",
       "      <th>497</th>\n",
       "      <td>POA3704</td>\n",
       "      <td>17</td>\n",
       "      <td>14891.5</td>\n",
       "      <td>875.970588</td>\n",
       "      <td>[Koetong]</td>\n",
       "    </tr>\n",
       "  </tbody>\n",
       "</table>\n",
       "</div>"
      ],
      "text/plain": [
       "    postcode  number  total_income  avg_income  \\\n",
       "56   POA3062       0           0.0         NaN   \n",
       "378  POA3506      15        4422.0  294.800000   \n",
       "322  POA3415      20        7168.0  358.400000   \n",
       "627  POA3893      13        7543.5  580.269231   \n",
       "466  POA3647      23        9070.0  394.347826   \n",
       "500  POA3708      21       11091.0  528.142857   \n",
       "21   POA3026      40       12412.5  310.312500   \n",
       "44   POA3050      76       14292.0  188.052632   \n",
       "369  POA3489      33       14464.5  438.318182   \n",
       "497  POA3704      17       14891.5  875.970588   \n",
       "\n",
       "                               suburb  \n",
       "56                         [Somerton]  \n",
       "378                        [Cowangie]  \n",
       "322                           [Miram]  \n",
       "627  [Double Bridges, Tambo Crossing]  \n",
       "466                  [Dookie College]  \n",
       "500                       [Tintaldra]  \n",
       "21                   [Laverton North]  \n",
       "44                                 []  \n",
       "369                           [Tempy]  \n",
       "497                         [Koetong]  "
      ]
     },
     "execution_count": 39,
     "metadata": {},
     "output_type": "execute_result"
    }
   ],
   "source": [
    "vic_postal_income.nsmallest(10, 'total_income')"
   ]
  },
  {
   "cell_type": "code",
   "execution_count": 40,
   "metadata": {},
   "outputs": [],
   "source": [
    "postcode_lowest_total_pop_income = vic_postal_income.nsmallest(10, 'total_income')['postcode']\n",
    "postcode_lowest_avg_pop_income = vic_postal_income.nsmallest(10, 'avg_income')['postcode']\n",
    "postcode_top_total_pop_income = vic_postal_income.nlargest(10, 'total_income')['postcode']\n",
    "postcode_top_avg_pop_income = vic_postal_income.nlargest(10, 'avg_income')['postcode']"
   ]
  },
  {
   "cell_type": "code",
   "execution_count": 41,
   "metadata": {},
   "outputs": [
    {
     "name": "stderr",
     "output_type": "stream",
     "text": [
      "/Users/apple/anaconda3/lib/python3.6/site-packages/ipykernel_launcher.py:4: UserWarning: Boolean Series key will be reindexed to match DataFrame index.\n",
      "  after removing the cwd from sys.path.\n"
     ]
    },
    {
     "data": {
      "text/html": [
       "<div>\n",
       "<style>\n",
       "    .dataframe thead tr:only-child th {\n",
       "        text-align: right;\n",
       "    }\n",
       "\n",
       "    .dataframe thead th {\n",
       "        text-align: left;\n",
       "    }\n",
       "\n",
       "    .dataframe tbody tr th {\n",
       "        vertical-align: top;\n",
       "    }\n",
       "</style>\n",
       "<table border=\"1\" class=\"dataframe\">\n",
       "  <thead>\n",
       "    <tr style=\"text-align: right;\">\n",
       "      <th></th>\n",
       "      <th>postcode</th>\n",
       "      <th>gender</th>\n",
       "      <th>age_low</th>\n",
       "      <th>age_high</th>\n",
       "      <th>income_low</th>\n",
       "      <th>income_high</th>\n",
       "      <th>number</th>\n",
       "      <th>income</th>\n",
       "      <th>total_income</th>\n",
       "    </tr>\n",
       "  </thead>\n",
       "  <tbody>\n",
       "    <tr>\n",
       "      <th>73846</th>\n",
       "      <td>POA3785</td>\n",
       "      <td>F</td>\n",
       "      <td>15</td>\n",
       "      <td>19</td>\n",
       "      <td>1.0</td>\n",
       "      <td>149.0</td>\n",
       "      <td>0</td>\n",
       "      <td>75.0</td>\n",
       "      <td>0.0</td>\n",
       "    </tr>\n",
       "    <tr>\n",
       "      <th>74544</th>\n",
       "      <td>POA3785</td>\n",
       "      <td>F</td>\n",
       "      <td>20</td>\n",
       "      <td>24</td>\n",
       "      <td>1.0</td>\n",
       "      <td>149.0</td>\n",
       "      <td>0</td>\n",
       "      <td>75.0</td>\n",
       "      <td>0.0</td>\n",
       "    </tr>\n",
       "    <tr>\n",
       "      <th>75242</th>\n",
       "      <td>POA3785</td>\n",
       "      <td>F</td>\n",
       "      <td>25</td>\n",
       "      <td>34</td>\n",
       "      <td>1.0</td>\n",
       "      <td>149.0</td>\n",
       "      <td>0</td>\n",
       "      <td>75.0</td>\n",
       "      <td>0.0</td>\n",
       "    </tr>\n",
       "    <tr>\n",
       "      <th>75940</th>\n",
       "      <td>POA3785</td>\n",
       "      <td>F</td>\n",
       "      <td>35</td>\n",
       "      <td>44</td>\n",
       "      <td>1.0</td>\n",
       "      <td>149.0</td>\n",
       "      <td>0</td>\n",
       "      <td>75.0</td>\n",
       "      <td>0.0</td>\n",
       "    </tr>\n",
       "    <tr>\n",
       "      <th>76638</th>\n",
       "      <td>POA3785</td>\n",
       "      <td>F</td>\n",
       "      <td>45</td>\n",
       "      <td>54</td>\n",
       "      <td>1.0</td>\n",
       "      <td>149.0</td>\n",
       "      <td>0</td>\n",
       "      <td>75.0</td>\n",
       "      <td>0.0</td>\n",
       "    </tr>\n",
       "  </tbody>\n",
       "</table>\n",
       "</div>"
      ],
      "text/plain": [
       "      postcode gender  age_low  age_high  income_low  income_high  number  \\\n",
       "73846  POA3785      F       15        19         1.0        149.0       0   \n",
       "74544  POA3785      F       20        24         1.0        149.0       0   \n",
       "75242  POA3785      F       25        34         1.0        149.0       0   \n",
       "75940  POA3785      F       35        44         1.0        149.0       0   \n",
       "76638  POA3785      F       45        54         1.0        149.0       0   \n",
       "\n",
       "       income  total_income  \n",
       "73846    75.0           0.0  \n",
       "74544    75.0           0.0  \n",
       "75242    75.0           0.0  \n",
       "75940    75.0           0.0  \n",
       "76638    75.0           0.0  "
      ]
     },
     "execution_count": 41,
     "metadata": {},
     "output_type": "execute_result"
    }
   ],
   "source": [
    "top_fa_list = []\n",
    "for code in postcode_top_avg_pop_income:\n",
    "    #print(vic_f[vic['postcode'] == code])\n",
    "    top_fa_list.append(vic_f[vic['postcode'] == code])\n",
    "top_fa = pd.concat(top_fa_list)\n",
    "top_fa.head()"
   ]
  },
  {
   "cell_type": "code",
   "execution_count": 42,
   "metadata": {},
   "outputs": [
    {
     "name": "stderr",
     "output_type": "stream",
     "text": [
      "/Users/apple/anaconda3/lib/python3.6/site-packages/ipykernel_launcher.py:4: UserWarning: Boolean Series key will be reindexed to match DataFrame index.\n",
      "  after removing the cwd from sys.path.\n"
     ]
    },
    {
     "data": {
      "text/html": [
       "<div>\n",
       "<style>\n",
       "    .dataframe thead tr:only-child th {\n",
       "        text-align: right;\n",
       "    }\n",
       "\n",
       "    .dataframe thead th {\n",
       "        text-align: left;\n",
       "    }\n",
       "\n",
       "    .dataframe tbody tr th {\n",
       "        vertical-align: top;\n",
       "    }\n",
       "</style>\n",
       "<table border=\"1\" class=\"dataframe\">\n",
       "  <thead>\n",
       "    <tr style=\"text-align: right;\">\n",
       "      <th></th>\n",
       "      <th>postcode</th>\n",
       "      <th>gender</th>\n",
       "      <th>age_low</th>\n",
       "      <th>age_high</th>\n",
       "      <th>income_low</th>\n",
       "      <th>income_high</th>\n",
       "      <th>number</th>\n",
       "      <th>income</th>\n",
       "      <th>total_income</th>\n",
       "    </tr>\n",
       "  </thead>\n",
       "  <tbody>\n",
       "    <tr>\n",
       "      <th>556</th>\n",
       "      <td>POA3785</td>\n",
       "      <td>M</td>\n",
       "      <td>15</td>\n",
       "      <td>19</td>\n",
       "      <td>1.0</td>\n",
       "      <td>149.0</td>\n",
       "      <td>0</td>\n",
       "      <td>75.0</td>\n",
       "      <td>0.0</td>\n",
       "    </tr>\n",
       "    <tr>\n",
       "      <th>1254</th>\n",
       "      <td>POA3785</td>\n",
       "      <td>M</td>\n",
       "      <td>20</td>\n",
       "      <td>24</td>\n",
       "      <td>1.0</td>\n",
       "      <td>149.0</td>\n",
       "      <td>0</td>\n",
       "      <td>75.0</td>\n",
       "      <td>0.0</td>\n",
       "    </tr>\n",
       "    <tr>\n",
       "      <th>1952</th>\n",
       "      <td>POA3785</td>\n",
       "      <td>M</td>\n",
       "      <td>25</td>\n",
       "      <td>34</td>\n",
       "      <td>1.0</td>\n",
       "      <td>149.0</td>\n",
       "      <td>0</td>\n",
       "      <td>75.0</td>\n",
       "      <td>0.0</td>\n",
       "    </tr>\n",
       "    <tr>\n",
       "      <th>2650</th>\n",
       "      <td>POA3785</td>\n",
       "      <td>M</td>\n",
       "      <td>35</td>\n",
       "      <td>44</td>\n",
       "      <td>1.0</td>\n",
       "      <td>149.0</td>\n",
       "      <td>0</td>\n",
       "      <td>75.0</td>\n",
       "      <td>0.0</td>\n",
       "    </tr>\n",
       "    <tr>\n",
       "      <th>3348</th>\n",
       "      <td>POA3785</td>\n",
       "      <td>M</td>\n",
       "      <td>45</td>\n",
       "      <td>54</td>\n",
       "      <td>1.0</td>\n",
       "      <td>149.0</td>\n",
       "      <td>0</td>\n",
       "      <td>75.0</td>\n",
       "      <td>0.0</td>\n",
       "    </tr>\n",
       "  </tbody>\n",
       "</table>\n",
       "</div>"
      ],
      "text/plain": [
       "     postcode gender  age_low  age_high  income_low  income_high  number  \\\n",
       "556   POA3785      M       15        19         1.0        149.0       0   \n",
       "1254  POA3785      M       20        24         1.0        149.0       0   \n",
       "1952  POA3785      M       25        34         1.0        149.0       0   \n",
       "2650  POA3785      M       35        44         1.0        149.0       0   \n",
       "3348  POA3785      M       45        54         1.0        149.0       0   \n",
       "\n",
       "      income  total_income  \n",
       "556     75.0           0.0  \n",
       "1254    75.0           0.0  \n",
       "1952    75.0           0.0  \n",
       "2650    75.0           0.0  \n",
       "3348    75.0           0.0  "
      ]
     },
     "execution_count": 42,
     "metadata": {},
     "output_type": "execute_result"
    }
   ],
   "source": [
    "top_ma_list = []\n",
    "for code in postcode_top_avg_pop_income:\n",
    "    #print(vic_f[vic['postcode'] == code])\n",
    "    top_ma_list.append(vic_m[vic['postcode'] == code])\n",
    "top_ma = pd.concat(top_ma_list)\n",
    "top_ma.head()\n"
   ]
  },
  {
   "cell_type": "code",
   "execution_count": 43,
   "metadata": {},
   "outputs": [
    {
     "data": {
      "text/plain": [
       "(41063, 38653)"
      ]
     },
     "execution_count": 43,
     "metadata": {},
     "output_type": "execute_result"
    }
   ],
   "source": [
    "# I can't tell much from the female vs male population in the top suburbs.\n",
    "top_fa['number'].sum(), top_ma['number'].sum()"
   ]
  },
  {
   "cell_type": "code",
   "execution_count": 44,
   "metadata": {},
   "outputs": [],
   "source": [
    "# I couldn't find an applicable case for crosstab now\n",
    "# pd.crosstab(age2['GROUPED_AGE'], age2['AGE'])"
   ]
  },
  {
   "cell_type": "markdown",
   "metadata": {},
   "source": [
    "# Sum up\n",
    "\n",
    "Replacing missing values should make the data analysis more accurate and show a real picture.\n",
    "\n",
    "Here are the missing data:\n",
    "* negative income -1  in the “income_low” column\n",
    "* unknown income -99  in the “income_low” column\n",
    "* unknown income -99  in the “income_high” column\n",
    "* unknown income 9999  in the “income_high” column\n",
    "All are changed to nump.nan\n",
    "\n",
    "\n",
    "When using qcut to explore the distribution of population, it’s discovered that the majority of population is fewer or equal to 3, accounting for nearly 50%. The reason is that Victoria has a relatively smaller population so the population per post code per income bracket is small. That can have an impact on analysis based on post code.\n",
    "\n",
    "I also created secondary variables and discover some meaningful facts:\n",
    "\n",
    "* “income” is created by averaging the lower and higher ends of the income brackets.\n",
    "* “total_income” is created by timing “income” and “number” together. We made an assumption that the average income is the average of the lower and higher ends.\n",
    "* Using the secondary variables, we can quickly tell the average weekly income ratio is, Female : Male = 591.53 : 773.68\n",
    "\n",
    "To further explore the influence of post code (location), I extract top and bottom 10 income post codes. Since it’s difficult to use the post code alone, I try to map the code to suburb names. In the process, I realise the mapping is not perfect but I try it anyway because it is far more easier to interpreter the data by name.\n",
    "\n",
    "The analysis is not yet complete and I hope some data visualization techniques can help me discover more interesting areas I can use for further investigation next week.\n"
   ]
  },
  {
   "cell_type": "code",
   "execution_count": null,
   "metadata": {},
   "outputs": [],
   "source": []
  }
 ],
 "metadata": {
  "kernelspec": {
   "display_name": "Python 3",
   "language": "python",
   "name": "python3"
  },
  "language_info": {
   "codemirror_mode": {
    "name": "ipython",
    "version": 3
   },
   "file_extension": ".py",
   "mimetype": "text/x-python",
   "name": "python",
   "nbconvert_exporter": "python",
   "pygments_lexer": "ipython3",
   "version": "3.6.3"
  }
 },
 "nbformat": 4,
 "nbformat_minor": 2
}

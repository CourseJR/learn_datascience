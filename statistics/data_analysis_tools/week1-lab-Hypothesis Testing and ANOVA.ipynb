{
 "cells": [
  {
   "cell_type": "markdown",
   "metadata": {},
   "source": [
    "# Course 2: Data Analysis Tools - Week 1: Hypothesis Testing and ANOVA\n",
    "\n",
    "## Peer-graded Assignment: Running an analysis of variance\n",
    "\n",
    "The assignments for this course start where the Data Management and Visualization course  assignments left off. Now that you have selected a data set and research question, managed your variables of interest and visualized their relationship graphically, we are ready to test those relationships statistically. We have included the codebooks and data sets from Data Management and Visualization for your convenience. \n",
    "\n",
    "The first assignment deals with analysis of variance. Analysis of variance assesses whether the means of two or more groups are statistically different from each other. This analysis is appropriate whenever you want to compare the means (quantitative variables) of groups (categorical variables). The null hypothesis is that there is no difference in the mean of the quantitative variable across groups (categorical variable), while the alternative is that there is a difference. Note that if your research question does not include one quantitative variable, you can use one from your data set just to get some practice with the tool. If your research question does not include a categorical variable, you can categorize one that is quantitative.\n",
    "\n",
    "\n",
    "## Instructions\n",
    "\n",
    "Run an analysis of variance.\n",
    "\n",
    "You will need to analyze and interpret post hoc paired comparisons in instances where your original statistical test was significant, and you were examining more than two groups (i.e. more than two levels of a categorical, explanatory variable). \n",
    "\n",
    "WHAT TO SUBMIT:\n",
    "\n",
    "Following completion of the steps described above, create a blog entry where you submit syntax used to run an ANOVA (copied and pasted from your program) along with corresponding output and a few sentences of interpretation. \n",
    "\n",
    "\n",
    "## Review Criteria\n",
    "\n",
    "Your assessment will be based on the evidence you provide that you have completed all of the steps. In all cases, consider that the peer assessing your work is likely not an expert in the field you are analyzing. "
   ]
  },
  {
   "cell_type": "markdown",
   "metadata": {},
   "source": [
    "# ANOVA Analysis using the Gap Minder dataset\n",
    "\n",
    "## Examine life related data in the Gap Minder dataset\n",
    "\n",
    "Because I'm not sure which data is suitable for this assignment (ANOVA), I have include four types of data. I'll start with life expectancy.\n",
    "\n",
    "* lifeexpectancy:\n",
    "\n",
    "    2011 life expectancy at birth (years)\n",
    "    The average number of years a newborn child would live if current\n",
    "    mortality patterns were to stay the same.\n",
    "\n",
    "* suicideper100TH:\n",
    "\n",
    "    2005 Suicide, age adjusted, per 100 000\n",
    "    Mortality due to self-inflicted injury, per 100 000 standard population, age adjusted\n",
    "\n",
    "* breastcancerper100TH:\n",
    "\n",
    "    2002 breast cancer new cases per 100,000 female\n",
    "    Number of new cases of breast cancer in 100,000 female residents\n",
    "    during the certain year.\n",
    "\n",
    "* HIVrate:\n",
    "\n",
    "    2009 estimated HIV Prevalence % - (Ages 15-49)\n",
    "    Estimated number of people living with HIV per 100 population of age\n",
    "    group 15-49."
   ]
  },
  {
   "cell_type": "code",
   "execution_count": 60,
   "metadata": {},
   "outputs": [],
   "source": [
    "import pandas as pd\n",
    "import numpy as np\n",
    "import seaborn as sns\n",
    "import matplotlib.pyplot as plt\n",
    "import statsmodels.formula.api as smf\n",
    "from statsmodels.sandbox.stats.multicomp import MultiComparison\n",
    "\n",
    "%matplotlib inline"
   ]
  },
  {
   "cell_type": "code",
   "execution_count": 24,
   "metadata": {},
   "outputs": [
    {
     "name": "stdout",
     "output_type": "stream",
     "text": [
      "<class 'pandas.core.frame.DataFrame'>\n",
      "RangeIndex: 213 entries, 0 to 212\n",
      "Data columns (total 16 columns):\n",
      "country                 213 non-null object\n",
      "incomeperperson         213 non-null object\n",
      "alcconsumption          213 non-null object\n",
      "armedforcesrate         213 non-null object\n",
      "breastcancerper100th    213 non-null object\n",
      "co2emissions            213 non-null object\n",
      "femaleemployrate        213 non-null object\n",
      "hivrate                 213 non-null object\n",
      "internetuserate         213 non-null object\n",
      "lifeexpectancy          213 non-null object\n",
      "oilperperson            213 non-null object\n",
      "polityscore             213 non-null object\n",
      "relectricperperson      213 non-null object\n",
      "suicideper100th         213 non-null object\n",
      "employrate              213 non-null object\n",
      "urbanrate               213 non-null object\n",
      "dtypes: object(16)\n",
      "memory usage: 26.7+ KB\n"
     ]
    }
   ],
   "source": [
    "gm_data = pd.read_csv('../../datasets/gapminder.csv')\n",
    "gm_data.info()"
   ]
  },
  {
   "cell_type": "code",
   "execution_count": 26,
   "metadata": {},
   "outputs": [
    {
     "data": {
      "text/plain": [
       "Index(['country', 'incomeperperson', 'alcconsumption', 'armedforcesrate',\n",
       "       'breastcancerper100th', 'co2emissions', 'femaleemployrate', 'hivrate',\n",
       "       'internetuserate', 'lifeexpectancy', 'oilperperson', 'polityscore',\n",
       "       'relectricperperson', 'suicideper100th', 'employrate', 'urbanrate'],\n",
       "      dtype='object')"
      ]
     },
     "execution_count": 26,
     "metadata": {},
     "output_type": "execute_result"
    }
   ],
   "source": [
    "gm_data.columns"
   ]
  },
  {
   "cell_type": "code",
   "execution_count": 33,
   "metadata": {},
   "outputs": [],
   "source": [
    "selected_columns = ['country', 'incomeperperson', 'lifeexpectancy', 'suicideper100th', 'breastcancerper100th', 'hivrate']\n",
    "gm = gm_data[selected_columns].copy()\n",
    "\n",
    "for col in selected_columns[1:]:\n",
    "    gm[col] = pd.to_numeric(gm[col], errors='coerce')"
   ]
  },
  {
   "cell_type": "code",
   "execution_count": 34,
   "metadata": {},
   "outputs": [
    {
     "data": {
      "text/html": [
       "<div>\n",
       "<style scoped>\n",
       "    .dataframe tbody tr th:only-of-type {\n",
       "        vertical-align: middle;\n",
       "    }\n",
       "\n",
       "    .dataframe tbody tr th {\n",
       "        vertical-align: top;\n",
       "    }\n",
       "\n",
       "    .dataframe thead th {\n",
       "        text-align: right;\n",
       "    }\n",
       "</style>\n",
       "<table border=\"1\" class=\"dataframe\">\n",
       "  <thead>\n",
       "    <tr style=\"text-align: right;\">\n",
       "      <th></th>\n",
       "      <th>country</th>\n",
       "      <th>incomeperperson</th>\n",
       "      <th>lifeexpectancy</th>\n",
       "      <th>suicideper100th</th>\n",
       "      <th>breastcancerper100th</th>\n",
       "      <th>hivrate</th>\n",
       "    </tr>\n",
       "  </thead>\n",
       "  <tbody>\n",
       "    <tr>\n",
       "      <th>0</th>\n",
       "      <td>Afghanistan</td>\n",
       "      <td>NaN</td>\n",
       "      <td>48.673</td>\n",
       "      <td>6.684385</td>\n",
       "      <td>26.8</td>\n",
       "      <td>NaN</td>\n",
       "    </tr>\n",
       "    <tr>\n",
       "      <th>1</th>\n",
       "      <td>Albania</td>\n",
       "      <td>1914.996551</td>\n",
       "      <td>76.918</td>\n",
       "      <td>7.699330</td>\n",
       "      <td>57.4</td>\n",
       "      <td>NaN</td>\n",
       "    </tr>\n",
       "    <tr>\n",
       "      <th>2</th>\n",
       "      <td>Algeria</td>\n",
       "      <td>2231.993335</td>\n",
       "      <td>73.131</td>\n",
       "      <td>4.848770</td>\n",
       "      <td>23.5</td>\n",
       "      <td>0.1</td>\n",
       "    </tr>\n",
       "    <tr>\n",
       "      <th>3</th>\n",
       "      <td>Andorra</td>\n",
       "      <td>21943.339898</td>\n",
       "      <td>NaN</td>\n",
       "      <td>5.362179</td>\n",
       "      <td>NaN</td>\n",
       "      <td>NaN</td>\n",
       "    </tr>\n",
       "    <tr>\n",
       "      <th>4</th>\n",
       "      <td>Angola</td>\n",
       "      <td>1381.004268</td>\n",
       "      <td>51.093</td>\n",
       "      <td>14.554677</td>\n",
       "      <td>23.1</td>\n",
       "      <td>2.0</td>\n",
       "    </tr>\n",
       "  </tbody>\n",
       "</table>\n",
       "</div>"
      ],
      "text/plain": [
       "       country  incomeperperson  lifeexpectancy  suicideper100th  \\\n",
       "0  Afghanistan              NaN          48.673         6.684385   \n",
       "1      Albania      1914.996551          76.918         7.699330   \n",
       "2      Algeria      2231.993335          73.131         4.848770   \n",
       "3      Andorra     21943.339898             NaN         5.362179   \n",
       "4       Angola      1381.004268          51.093        14.554677   \n",
       "\n",
       "   breastcancerper100th  hivrate  \n",
       "0                  26.8      NaN  \n",
       "1                  57.4      NaN  \n",
       "2                  23.5      0.1  \n",
       "3                   NaN      NaN  \n",
       "4                  23.1      2.0  "
      ]
     },
     "execution_count": 34,
     "metadata": {},
     "output_type": "execute_result"
    }
   ],
   "source": [
    "gm.head()"
   ]
  },
  {
   "cell_type": "markdown",
   "metadata": {},
   "source": [
    "# Question to answer\n",
    "\n",
    "Is the life expectancy equal or not equal in four different income level country groups?\n",
    "\n",
    "Association between Income_level of the country and Life Expectancy:\n",
    "* Explantatory variable: Income_level of the country (categorical)\n",
    "* Response variable: Life expectancy"
   ]
  },
  {
   "cell_type": "code",
   "execution_count": 36,
   "metadata": {},
   "outputs": [
    {
     "data": {
      "text/html": [
       "<div>\n",
       "<style scoped>\n",
       "    .dataframe tbody tr th:only-of-type {\n",
       "        vertical-align: middle;\n",
       "    }\n",
       "\n",
       "    .dataframe tbody tr th {\n",
       "        vertical-align: top;\n",
       "    }\n",
       "\n",
       "    .dataframe thead th {\n",
       "        text-align: right;\n",
       "    }\n",
       "</style>\n",
       "<table border=\"1\" class=\"dataframe\">\n",
       "  <thead>\n",
       "    <tr style=\"text-align: right;\">\n",
       "      <th></th>\n",
       "      <th>country</th>\n",
       "      <th>incomeperperson</th>\n",
       "      <th>lifeexpectancy</th>\n",
       "      <th>suicideper100th</th>\n",
       "      <th>breastcancerper100th</th>\n",
       "      <th>hivrate</th>\n",
       "      <th>income_level</th>\n",
       "    </tr>\n",
       "  </thead>\n",
       "  <tbody>\n",
       "    <tr>\n",
       "      <th>0</th>\n",
       "      <td>Afghanistan</td>\n",
       "      <td>NaN</td>\n",
       "      <td>48.673</td>\n",
       "      <td>6.684385</td>\n",
       "      <td>26.8</td>\n",
       "      <td>NaN</td>\n",
       "      <td>NaN</td>\n",
       "    </tr>\n",
       "    <tr>\n",
       "      <th>1</th>\n",
       "      <td>Albania</td>\n",
       "      <td>1914.996551</td>\n",
       "      <td>76.918</td>\n",
       "      <td>7.699330</td>\n",
       "      <td>57.4</td>\n",
       "      <td>NaN</td>\n",
       "      <td>Medium-Low</td>\n",
       "    </tr>\n",
       "    <tr>\n",
       "      <th>2</th>\n",
       "      <td>Algeria</td>\n",
       "      <td>2231.993335</td>\n",
       "      <td>73.131</td>\n",
       "      <td>4.848770</td>\n",
       "      <td>23.5</td>\n",
       "      <td>0.1</td>\n",
       "      <td>Medium-Low</td>\n",
       "    </tr>\n",
       "    <tr>\n",
       "      <th>3</th>\n",
       "      <td>Andorra</td>\n",
       "      <td>21943.339898</td>\n",
       "      <td>NaN</td>\n",
       "      <td>5.362179</td>\n",
       "      <td>NaN</td>\n",
       "      <td>NaN</td>\n",
       "      <td>High</td>\n",
       "    </tr>\n",
       "    <tr>\n",
       "      <th>4</th>\n",
       "      <td>Angola</td>\n",
       "      <td>1381.004268</td>\n",
       "      <td>51.093</td>\n",
       "      <td>14.554677</td>\n",
       "      <td>23.1</td>\n",
       "      <td>2.0</td>\n",
       "      <td>Medium-Low</td>\n",
       "    </tr>\n",
       "  </tbody>\n",
       "</table>\n",
       "</div>"
      ],
      "text/plain": [
       "       country  incomeperperson  lifeexpectancy  suicideper100th  \\\n",
       "0  Afghanistan              NaN          48.673         6.684385   \n",
       "1      Albania      1914.996551          76.918         7.699330   \n",
       "2      Algeria      2231.993335          73.131         4.848770   \n",
       "3      Andorra     21943.339898             NaN         5.362179   \n",
       "4       Angola      1381.004268          51.093        14.554677   \n",
       "\n",
       "   breastcancerper100th  hivrate income_level  \n",
       "0                  26.8      NaN          NaN  \n",
       "1                  57.4      NaN   Medium-Low  \n",
       "2                  23.5      0.1   Medium-Low  \n",
       "3                   NaN      NaN         High  \n",
       "4                  23.1      2.0   Medium-Low  "
      ]
     },
     "execution_count": 36,
     "metadata": {},
     "output_type": "execute_result"
    }
   ],
   "source": [
    "income_pp = gm['incomeperperson']\n",
    "gm['income_level'] = pd.qcut(income_pp, 4, labels=['Low', 'Medium-Low', 'Medium-High', 'High'])\n",
    "gm.head()"
   ]
  },
  {
   "cell_type": "code",
   "execution_count": 37,
   "metadata": {},
   "outputs": [
    {
     "data": {
      "text/plain": [
       "income_level\n",
       "Low            48\n",
       "Medium-Low     47\n",
       "Medium-High    47\n",
       "High           48\n",
       "dtype: int64"
      ]
     },
     "execution_count": 37,
     "metadata": {},
     "output_type": "execute_result"
    }
   ],
   "source": [
    "gm.groupby(['income_level']).size()"
   ]
  },
  {
   "cell_type": "code",
   "execution_count": 39,
   "metadata": {},
   "outputs": [
    {
     "data": {
      "text/html": [
       "<div>\n",
       "<style scoped>\n",
       "    .dataframe tbody tr th:only-of-type {\n",
       "        vertical-align: middle;\n",
       "    }\n",
       "\n",
       "    .dataframe tbody tr th {\n",
       "        vertical-align: top;\n",
       "    }\n",
       "\n",
       "    .dataframe thead th {\n",
       "        text-align: right;\n",
       "    }\n",
       "</style>\n",
       "<table border=\"1\" class=\"dataframe\">\n",
       "  <thead>\n",
       "    <tr style=\"text-align: right;\">\n",
       "      <th></th>\n",
       "      <th>country</th>\n",
       "      <th>income_level</th>\n",
       "      <th>lifeexpectancy</th>\n",
       "    </tr>\n",
       "  </thead>\n",
       "  <tbody>\n",
       "    <tr>\n",
       "      <th>1</th>\n",
       "      <td>Albania</td>\n",
       "      <td>Medium-Low</td>\n",
       "      <td>76.918</td>\n",
       "    </tr>\n",
       "    <tr>\n",
       "      <th>2</th>\n",
       "      <td>Algeria</td>\n",
       "      <td>Medium-Low</td>\n",
       "      <td>73.131</td>\n",
       "    </tr>\n",
       "    <tr>\n",
       "      <th>4</th>\n",
       "      <td>Angola</td>\n",
       "      <td>Medium-Low</td>\n",
       "      <td>51.093</td>\n",
       "    </tr>\n",
       "    <tr>\n",
       "      <th>6</th>\n",
       "      <td>Argentina</td>\n",
       "      <td>High</td>\n",
       "      <td>75.901</td>\n",
       "    </tr>\n",
       "    <tr>\n",
       "      <th>7</th>\n",
       "      <td>Armenia</td>\n",
       "      <td>Medium-Low</td>\n",
       "      <td>74.241</td>\n",
       "    </tr>\n",
       "  </tbody>\n",
       "</table>\n",
       "</div>"
      ],
      "text/plain": [
       "     country income_level  lifeexpectancy\n",
       "1    Albania   Medium-Low          76.918\n",
       "2    Algeria   Medium-Low          73.131\n",
       "4     Angola   Medium-Low          51.093\n",
       "6  Argentina         High          75.901\n",
       "7    Armenia   Medium-Low          74.241"
      ]
     },
     "execution_count": 39,
     "metadata": {},
     "output_type": "execute_result"
    }
   ],
   "source": [
    "# create a sub data frame and drop NaN entries\n",
    "gm_in_life = gm[['country', 'income_level', 'lifeexpectancy']].dropna().copy()\n",
    "gm_in_life.head()"
   ]
  },
  {
   "cell_type": "code",
   "execution_count": 51,
   "metadata": {},
   "outputs": [
    {
     "data": {
      "text/plain": [
       "<matplotlib.axes._subplots.AxesSubplot at 0x126ec4160>"
      ]
     },
     "execution_count": 51,
     "metadata": {},
     "output_type": "execute_result"
    },
    {
     "data": {
      "image/png": "[encoded data removed]",
      "text/plain": [
       "<matplotlib.figure.Figure at 0x126da9ba8>"
      ]
     },
     "metadata": {},
     "output_type": "display_data"
    }
   ],
   "source": [
    "# Plot the scatter plot to see the rough distribution of life expectancy\n",
    "\n",
    "sns.stripplot(x='incomeperperson', y='lifeexpectancy', hue='income_level', data=gm)"
   ]
  },
  {
   "cell_type": "markdown",
   "metadata": {},
   "source": [
    "# Answer is Yes\n",
    "\n",
    "The answer is Yes because we have a very small F-statistic probabilty.\n",
    "\n",
    "But we have four categories for the explanatory variable, so we have to conduct the post hoc test."
   ]
  },
  {
   "cell_type": "code",
   "execution_count": 46,
   "metadata": {},
   "outputs": [
    {
     "data": {
      "text/html": [
       "<table class=\"simpletable\">\n",
       "<caption>OLS Regression Results</caption>\n",
       "<tr>\n",
       "  <th>Dep. Variable:</th>     <td>lifeexpectancy</td>  <th>  R-squared:         </th> <td>   0.631</td>\n",
       "</tr>\n",
       "<tr>\n",
       "  <th>Model:</th>                   <td>OLS</td>       <th>  Adj. R-squared:    </th> <td>   0.625</td>\n",
       "</tr>\n",
       "<tr>\n",
       "  <th>Method:</th>             <td>Least Squares</td>  <th>  F-statistic:       </th> <td>   98.07</td>\n",
       "</tr>\n",
       "<tr>\n",
       "  <th>Date:</th>             <td>Fri, 16 Mar 2018</td> <th>  Prob (F-statistic):</th> <td>4.80e-37</td>\n",
       "</tr>\n",
       "<tr>\n",
       "  <th>Time:</th>                 <td>15:37:27</td>     <th>  Log-Likelihood:    </th> <td> -561.91</td>\n",
       "</tr>\n",
       "<tr>\n",
       "  <th>No. Observations:</th>      <td>   176</td>      <th>  AIC:               </th> <td>   1132.</td>\n",
       "</tr>\n",
       "<tr>\n",
       "  <th>Df Residuals:</th>          <td>   172</td>      <th>  BIC:               </th> <td>   1145.</td>\n",
       "</tr>\n",
       "<tr>\n",
       "  <th>Df Model:</th>              <td>     3</td>      <th>                     </th>     <td> </td>   \n",
       "</tr>\n",
       "<tr>\n",
       "  <th>Covariance Type:</th>      <td>nonrobust</td>    <th>                     </th>     <td> </td>   \n",
       "</tr>\n",
       "</table>\n",
       "<table class=\"simpletable\">\n",
       "<tr>\n",
       "                 <td></td>                   <th>coef</th>     <th>std err</th>      <th>t</th>      <th>P>|t|</th>  <th>[0.025</th>    <th>0.975]</th>  \n",
       "</tr>\n",
       "<tr>\n",
       "  <th>Intercept</th>                      <td>   58.3588</td> <td>    0.860</td> <td>   67.827</td> <td> 0.000</td> <td>   56.661</td> <td>   60.057</td>\n",
       "</tr>\n",
       "<tr>\n",
       "  <th>C(income_level)[T.Medium-Low]</th>  <td>   11.6391</td> <td>    1.244</td> <td>    9.355</td> <td> 0.000</td> <td>    9.183</td> <td>   14.095</td>\n",
       "</tr>\n",
       "<tr>\n",
       "  <th>C(income_level)[T.Medium-High]</th> <td>   14.1737</td> <td>    1.252</td> <td>   11.324</td> <td> 0.000</td> <td>   11.703</td> <td>   16.644</td>\n",
       "</tr>\n",
       "<tr>\n",
       "  <th>C(income_level)[T.High]</th>        <td>   21.1340</td> <td>    1.268</td> <td>   16.672</td> <td> 0.000</td> <td>   18.632</td> <td>   23.636</td>\n",
       "</tr>\n",
       "</table>\n",
       "<table class=\"simpletable\">\n",
       "<tr>\n",
       "  <th>Omnibus:</th>       <td>42.859</td> <th>  Durbin-Watson:     </th> <td>   1.946</td>\n",
       "</tr>\n",
       "<tr>\n",
       "  <th>Prob(Omnibus):</th> <td> 0.000</td> <th>  Jarque-Bera (JB):  </th> <td>  86.437</td>\n",
       "</tr>\n",
       "<tr>\n",
       "  <th>Skew:</th>          <td>-1.127</td> <th>  Prob(JB):          </th> <td>1.70e-19</td>\n",
       "</tr>\n",
       "<tr>\n",
       "  <th>Kurtosis:</th>      <td> 5.591</td> <th>  Cond. No.          </th> <td>    4.62</td>\n",
       "</tr>\n",
       "</table>"
      ],
      "text/plain": [
       "<class 'statsmodels.iolib.summary.Summary'>\n",
       "\"\"\"\n",
       "                            OLS Regression Results                            \n",
       "==============================================================================\n",
       "Dep. Variable:         lifeexpectancy   R-squared:                       0.631\n",
       "Model:                            OLS   Adj. R-squared:                  0.625\n",
       "Method:                 Least Squares   F-statistic:                     98.07\n",
       "Date:                Fri, 16 Mar 2018   Prob (F-statistic):           4.80e-37\n",
       "Time:                        15:37:27   Log-Likelihood:                -561.91\n",
       "No. Observations:                 176   AIC:                             1132.\n",
       "Df Residuals:                     172   BIC:                             1145.\n",
       "Df Model:                           3                                         \n",
       "Covariance Type:            nonrobust                                         \n",
       "==================================================================================================\n",
       "                                     coef    std err          t      P>|t|      [0.025      0.975]\n",
       "--------------------------------------------------------------------------------------------------\n",
       "Intercept                         58.3588      0.860     67.827      0.000      56.661      60.057\n",
       "C(income_level)[T.Medium-Low]     11.6391      1.244      9.355      0.000       9.183      14.095\n",
       "C(income_level)[T.Medium-High]    14.1737      1.252     11.324      0.000      11.703      16.644\n",
       "C(income_level)[T.High]           21.1340      1.268     16.672      0.000      18.632      23.636\n",
       "==============================================================================\n",
       "Omnibus:                       42.859   Durbin-Watson:                   1.946\n",
       "Prob(Omnibus):                  0.000   Jarque-Bera (JB):               86.437\n",
       "Skew:                          -1.127   Prob(JB):                     1.70e-19\n",
       "Kurtosis:                       5.591   Cond. No.                         4.62\n",
       "==============================================================================\n",
       "\n",
       "Warnings:\n",
       "[1] Standard Errors assume that the covariance matrix of the errors is correctly specified.\n",
       "\"\"\""
      ]
     },
     "execution_count": 46,
     "metadata": {},
     "output_type": "execute_result"
    }
   ],
   "source": [
    "# ANOVA: Explanatory variables with more than 2 levels\n",
    "model_in_life = smf.ols(formula='lifeexpectancy ~ C(income_level)', data=gm_in_life)\n",
    "result_in_life = model_in_life.fit()\n",
    "result_in_life.summary()"
   ]
  },
  {
   "cell_type": "markdown",
   "metadata": {},
   "source": [
    "$ f = \\frac{Variation\\ among\\ sample\\ means} {Variation\\ within\\ groups} $\n",
    "\n",
    "$ p-value \\leq 0.05 $"
   ]
  },
  {
   "cell_type": "code",
   "execution_count": 65,
   "metadata": {},
   "outputs": [
    {
     "name": "stdout",
     "output_type": "stream",
     "text": [
      "F-statistic: 98.06760955677281\n",
      "Prob (F-statistic): 4.798254910855845e-37\n"
     ]
    }
   ],
   "source": [
    "print(f'F-statistic: {result_in_life.fvalue}')\n",
    "print(f'Prob (F-statistic): {result_in_life.f_pvalue}')"
   ]
  },
  {
   "cell_type": "code",
   "execution_count": 53,
   "metadata": {},
   "outputs": [
    {
     "name": "stdout",
     "output_type": "stream",
     "text": [
      "Means for life expectancy by income level\n",
      "              lifeexpectancy\n",
      "income_level                \n",
      "Low                58.358812\n",
      "Medium-Low         69.997955\n",
      "Medium-High        72.532465\n",
      "High               79.492780\n",
      "Standard deviations for life expectancy by income level\n",
      "              lifeexpectancy\n",
      "income_level                \n",
      "Low                 7.146260\n",
      "Medium-Low          6.108889\n",
      "Medium-High         6.543514\n",
      "High                2.777572\n"
     ]
    }
   ],
   "source": [
    "print('Means for life expectancy by income level')\n",
    "mean_in_life= gm_in_life.groupby('income_level').mean()\n",
    "print(mean_in_life)\n",
    "\n",
    "print('Standard deviations for life expectancy by income level')\n",
    "std_in_life= gm_in_life.groupby('income_level').std()\n",
    "print(std_in_life)\n"
   ]
  },
  {
   "cell_type": "markdown",
   "metadata": {},
   "source": [
    "# Post Hoc Test\n",
    "\n",
    "Explanatory Vairable (income level) has more than two groups. (four here)\n",
    "\n",
    "Therefore, a significant ANOVA doesn't tell us which groups are different from the others.\n",
    "\n",
    "Prevent type 1 error: Reject the null hypothesis when it is true. (i.e. there is no difference in life expectancy).\n",
    "\n",
    "[Tukey's range test](https://en.wikipedia.org/wiki/Tukey%27s_range_test)\n",
    "\n",
    "All but the \"Medium-High\" versus \"Medium-Low\" group reject the null hypothesis.\n"
   ]
  },
  {
   "cell_type": "code",
   "execution_count": 61,
   "metadata": {},
   "outputs": [
    {
     "name": "stdout",
     "output_type": "stream",
     "text": [
      "   Multiple Comparison of Means - Tukey HSD,FWER=0.05   \n",
      "========================================================\n",
      "   group1      group2   meandiff  lower    upper  reject\n",
      "--------------------------------------------------------\n",
      "    High        Low     -21.134  -24.4229 -17.845  True \n",
      "    High    Medium-High -6.9603  -10.3362 -3.5844  True \n",
      "    High     Medium-Low -9.4948  -12.8519 -6.1377  True \n",
      "    Low     Medium-High 14.1737  10.9262  17.4211  True \n",
      "    Low      Medium-Low 11.6391   8.4112   14.867  True \n",
      "Medium-High  Medium-Low -2.5345  -5.8509   0.7819 False \n",
      "--------------------------------------------------------\n"
     ]
    }
   ],
   "source": [
    "mc = MultiComparison(gm_in_life['lifeexpectancy'], gm_in_life['income_level'])\n",
    "res = mc.tukeyhsd()\n",
    "print(res.summary())"
   ]
  },
  {
   "cell_type": "code",
   "execution_count": 58,
   "metadata": {},
   "outputs": [],
   "source": []
  },
  {
   "cell_type": "code",
   "execution_count": null,
   "metadata": {},
   "outputs": [],
   "source": []
  }
 ],
 "metadata": {
  "kernelspec": {
   "display_name": "Python 3",
   "language": "python",
   "name": "python3"
  },
  "language_info": {
   "codemirror_mode": {
    "name": "ipython",
    "version": 3
   },
   "file_extension": ".py",
   "mimetype": "text/x-python",
   "name": "python",
   "nbconvert_exporter": "python",
   "pygments_lexer": "ipython3",
   "version": "3.6.4"
  }
 },
 "nbformat": 4,
 "nbformat_minor": 2
}

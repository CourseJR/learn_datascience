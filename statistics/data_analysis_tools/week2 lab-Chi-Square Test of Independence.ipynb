{
 "cells": [
  {
   "cell_type": "markdown",
   "metadata": {},
   "source": [
    "# Peer-graded Assignment: Running a Chi-Square Test of Independence\n",
    "\n",
    "## Discussions\n",
    "\n",
    "The second assignment deals with the Chi-Square Test of Independence. A Chi-Square Test of Independence compares frequencies of one categorical variable for different values of a second categorical variable. The null hypothesis is that the relative proportions of one variable are independent of the second variable; in other words, the proportions of one variable are the same for different values of the second variable. The alternate hypothesis is that the relative proportions of one variable are associated with the second variable. Note that if your research question only includes quantitative variables, you can categorize those just to get some practice with the tool.\n",
    "Review criteria\n",
    "\n",
    "## Run a Chi-Square Test of Independence.\n",
    "\n",
    "You will need to analyze and interpret post hoc paired comparisons in instances where your original statistical test was significant, and you were examining more than two groups (i.e. more than two levels of a categorical, explanatory variable).\n",
    "\n",
    "Note: although it is possible to run large Chi-Square tables (e.g. 5 x 5, 4 x 6, etc.), the test is really only interpretable when your response variable has only 2 levels (see Graphing decisions flow chart in Bivariate Graphing chapter).\n",
    "\n",
    "## WHAT TO SUBMIT:\n",
    "\n",
    "Following completion of the steps described above, create a blog entry where you submit syntax used to run a Chi-Square Test (copied and pasted from your program) along with corresponding output and a few sentences of interpretation.\n",
    "Instructions\n",
    "\n",
    "\n",
    "Your assessment will be based on the evidence you provide that you have completed all of the steps. In all cases, consider that the peer assessing your work is likely not an expert in the field you are analyzing. "
   ]
  },
  {
   "cell_type": "code",
   "execution_count": 2,
   "metadata": {},
   "outputs": [],
   "source": [
    "import pandas as pd\n",
    "import numpy as np\n",
    "import scipy.stats\n",
    "import seaborn as sns\n",
    "import matplotlib.pyplot as plt\n",
    "\n",
    "%matplotlib inline"
   ]
  },
  {
   "cell_type": "code",
   "execution_count": 3,
   "metadata": {},
   "outputs": [],
   "source": [
    "data_from = pd.read_csv('../../datasets/ool_pds.csv', low_memory=False)"
   ]
  },
  {
   "cell_type": "code",
   "execution_count": 4,
   "metadata": {},
   "outputs": [
    {
     "name": "stdout",
     "output_type": "stream",
     "text": [
      "<class 'pandas.core.frame.DataFrame'>\n",
      "RangeIndex: 2294 entries, 0 to 2293\n",
      "Columns: 436 entries, CASEID to PPNET\n",
      "dtypes: float64(3), int64(238), object(195)\n",
      "memory usage: 7.6+ MB\n"
     ]
    }
   ],
   "source": [
    "data_from.info()"
   ]
  },
  {
   "cell_type": "markdown",
   "metadata": {},
   "source": [
    "# Extracted data\n",
    "\n",
    "** There are a lot to be explored but here we only inspect race and dating.**\n",
    "\n",
    "PPAGE: Age\n",
    "\n",
    "PPSTATEN: State\n",
    "\n",
    "PPETHM: \n",
    "\n",
    "    Race / Ethnicity\n",
    "    1: white \n",
    "    2: black \n",
    "    3: other \n",
    "    4: hispanic \n",
    "    5: 2+ races\n",
    "\n",
    "PPEDUCAT: \n",
    "\n",
    "    Education (Categorical)\n",
    "    1: Less than high school \n",
    "    2: High School \n",
    "    3: Some College \n",
    "    4: Bachelor's degree or higher\n",
    "    \n",
    "PPEDUC: Education (Highest Degree Received)\n",
    "    Education (Highest Degree Received)\n",
    "    Value Label Unweighted\n",
    "    Frequency\n",
    "\n",
    "    1 No formal education 6 0.3 %\n",
    "    2 1st, 2nd, 3rd, or 4th grade 1 0.0 %\n",
    "    3 5th or 6th grade 4 0.2 %\n",
    "    4 7th or 8th grade 22 1.0 %\n",
    "    5 9th grade 19 0.8 %\n",
    "    6 10th grade 35 1.5 %\n",
    "    7 11th grade 53 2.3 %\n",
    "    8 12th grade NO DIPLOMA 79 3.4 %\n",
    "    9 HIGH SCHOOL GRADUATE - high school DIPLOMA or the equivalent (GED) 700 30.5 %\n",
    "    10 Some college, no degree 490 21.4 %\n",
    "    11 Associate degree 192 8.4 %\n",
    "    12 Bachelors degree 414 18.0 %\n",
    "    13 Masters degree 215 9.4 %\n",
    "    14 Professional or Doctorate degree 64 2.8 %\n",
    "    Total 2,294 100%\n",
    "\n",
    "PPGENDER: \n",
    "\n",
    "    Gender\n",
    "    1: Male 2: Female\n",
    "    \n",
    "PPNET: HH Internet Access\n",
    "    0: No\n",
    "    1: Yes\n",
    "\n",
    "W2_QK3: If you could choose between the following two approaches, which one do you think\n",
    "    is the better penalty for murder-the death penalty, or life imprisonment?\n",
    "\n",
    "    Value Label Unweighted\n",
    "    Frequency %\n",
    "    1 Death penalty 744 32.4 %\n",
    "    2 Life imprisonment 791 34.5 %\n",
    "    Missing Data\n",
    "    -1 REFUSED 66 2.9 %\n",
    "\n",
    "\n",
    "W2_QL2A: [Work with children ] Gays and lesbians should be allowed to:\n",
    "\n",
    "    1 Strongly Agree 447 19.5 %\n",
    "    2 Somewhat Agree 541 23.6 %\n",
    "    3 Somewhat Disagree 305 13.3 %\n",
    "    4 Strongly Disagree 237 10.3 %\n",
    "    -1 REFUSED 71 3.1 %\n",
    "\n",
    "W2_QL2C: [Have and Raise Children ] Gays and lesbians should be allowed to:\n",
    "\n",
    "    1 Strongly Agree 427 18.6 %\n",
    "    2 Somewhat Agree 477 20.8 %\n",
    "    3 Somewhat Disagree 310 13.5 %\n",
    "    4 Strongly Disagree 320 13.9 %\n",
    "    -1 REFUSED 79 3.4 %\n",
    "    \n",
    "    \n",
    "W1_F5_A: [To own a home ] For your children or the children of people like yourself, how easy\n",
    "or hard will it be for your children to reach these goals in the future?\n",
    "\n",
    "    1 Very hard 507 22.1 %\n",
    "    2 Somewhat hard 940 41.0 %\n",
    "    3 Somewhat easy 578 25.2 %\n",
    "    4 Very easy 185 8.1 %\n",
    "    -1 Refused 84 3.7 %\n",
    "\n",
    "W1_E1: Which of the following most characterizes your relationship status at this time?\n",
    "\n",
    "    1 In a relationship or married and not dating 1398 60.9 %\n",
    "    2 Dating and looking for serious relationship and/or marital partner 168 7.3 %\n",
    "    3 Casual dating that is not serious only 119 5.2 %\n",
    "    4 Friends with benefits 66 2.9 %\n",
    "    5 One-night stands 14 0.6 %\n",
    "    6 Not interested in dating or pursuing a relationship at this time 492 21.4 %\n",
    "\n",
    "W1_E4: Were you ever willing to date outside of your racial group?\n",
    "\n",
    "    1 Yes 671 29.3 %\n",
    "    2 No 603 26.3 %\n",
    "\n",
    "W1_A5A: Who did you vote for?\n",
    "\n",
    "    1 John McCain 389 17.0 %\n",
    "    2 Barack Obama 1338 58.3 %\n",
    "    3 Other, please specify: 26 1.1 %\n",
    "\n",
    "W1_A5B: Who would you have voted for?\n",
    "\n",
    "    1 John McCain 70 3.1 %\n",
    "    2 Barack Obama 283 12.3 %\n",
    "    3 Other, please specify: 13 0.6 %\n",
    "    4 No one/Refused to vote for a candidate 133 5.8 %\n",
    "\n",
    "W1_N1A How would you rate people on welfare?\n",
    "\n",
    "W1_N1B How would you rate American Indians or Native Americans?\n",
    "\n",
    "W1_N1C: How would you rate Latinos?\n",
    "\n",
    "W1_N1D: How would you rate Whites?\n",
    "\n",
    "W1_N1E: How would you rate Blacks?\n",
    "\n",
    "W1_N1F: How would you rate Asians?\n",
    "\n",
    "W1_N1G: How would you rate gays/lesbians?\n",
    "\n",
    "W1_N1H: How would you rate unionized workers?\n",
    "\n",
    "W1_N1I: How would you rate Congress?\n",
    "\n",
    "W1_N1J: How would you rate the wealthiest 1%?\n",
    "\n",
    "W1_N1K: How would you rate the unemployed?\n",
    "\n",
    "W1_N1L: How would you rate unmarried mothers?\n",
    "\n",
    "W1_N1M: How would you rate undocumented immigrants?\n",
    "\n",
    "W1_N1N: How would you rate public school teachers?\n",
    "\n",
    "W1_P20 Which of the following income groups includes YOUR personal annual income (Do \n",
    "not include the income of other members of your household)? \n",
    "\n",
    "```\n",
    "    1 Less than $5,000\n",
    "    2 $5,000 to $7,499\n",
    "    3 $7,500 to $9,999\n",
    "    4 $10,000 to $12,499\n",
    "    5 $12,500 to $14,999\n",
    "    6 $15,000 to $19,999\n",
    "    7 $20,000 to $24,999\n",
    "    8 $25,000 to $29,999\n",
    "    9 $30,000 to $34,999\n",
    "    10 $35,000 to $39,999\n",
    "    11 $40,000 to $49,999\n",
    "    12 $50,000 to $59,999\n",
    "    13 $60,000 to $74,999\n",
    "    14 $75,000 to $84,999\n",
    "    15 $85,000 to $99,999\n",
    "    16 $100,000 to $124,999\n",
    "    17 $125,000 to $149,999\n",
    "    18 $150,000 to $174,999\n",
    "    19 $175,000 or more\n",
    "```"
   ]
  },
  {
   "cell_type": "code",
   "execution_count": 5,
   "metadata": {},
   "outputs": [
    {
     "data": {
      "text/html": [
       "<div>\n",
       "<style scoped>\n",
       "    .dataframe tbody tr th:only-of-type {\n",
       "        vertical-align: middle;\n",
       "    }\n",
       "\n",
       "    .dataframe tbody tr th {\n",
       "        vertical-align: top;\n",
       "    }\n",
       "\n",
       "    .dataframe thead th {\n",
       "        text-align: right;\n",
       "    }\n",
       "</style>\n",
       "<table border=\"1\" class=\"dataframe\">\n",
       "  <thead>\n",
       "    <tr style=\"text-align: right;\">\n",
       "      <th></th>\n",
       "      <th>PPAGE</th>\n",
       "      <th>PPGENDER</th>\n",
       "      <th>PPETHM</th>\n",
       "      <th>PPEDUCAT</th>\n",
       "      <th>W1_P20</th>\n",
       "      <th>W1_E1</th>\n",
       "      <th>W1_E4</th>\n",
       "    </tr>\n",
       "  </thead>\n",
       "  <tbody>\n",
       "    <tr>\n",
       "      <th>0</th>\n",
       "      <td>56</td>\n",
       "      <td>2</td>\n",
       "      <td>4</td>\n",
       "      <td>2</td>\n",
       "      <td>11</td>\n",
       "      <td>1</td>\n",
       "      <td></td>\n",
       "    </tr>\n",
       "    <tr>\n",
       "      <th>1</th>\n",
       "      <td>59</td>\n",
       "      <td>1</td>\n",
       "      <td>2</td>\n",
       "      <td>1</td>\n",
       "      <td>4</td>\n",
       "      <td>1</td>\n",
       "      <td>2</td>\n",
       "    </tr>\n",
       "    <tr>\n",
       "      <th>2</th>\n",
       "      <td>36</td>\n",
       "      <td>1</td>\n",
       "      <td>2</td>\n",
       "      <td>4</td>\n",
       "      <td>16</td>\n",
       "      <td>1</td>\n",
       "      <td>2</td>\n",
       "    </tr>\n",
       "    <tr>\n",
       "      <th>3</th>\n",
       "      <td>70</td>\n",
       "      <td>1</td>\n",
       "      <td>2</td>\n",
       "      <td>4</td>\n",
       "      <td>6</td>\n",
       "      <td>6</td>\n",
       "      <td></td>\n",
       "    </tr>\n",
       "    <tr>\n",
       "      <th>4</th>\n",
       "      <td>37</td>\n",
       "      <td>2</td>\n",
       "      <td>1</td>\n",
       "      <td>4</td>\n",
       "      <td>13</td>\n",
       "      <td>3</td>\n",
       "      <td>2</td>\n",
       "    </tr>\n",
       "  </tbody>\n",
       "</table>\n",
       "</div>"
      ],
      "text/plain": [
       "   PPAGE  PPGENDER  PPETHM  PPEDUCAT  W1_P20  W1_E1 W1_E4\n",
       "0     56         2       4         2      11      1      \n",
       "1     59         1       2         1       4      1     2\n",
       "2     36         1       2         4      16      1     2\n",
       "3     70         1       2         4       6      6      \n",
       "4     37         2       1         4      13      3     2"
      ]
     },
     "execution_count": 5,
     "metadata": {},
     "output_type": "execute_result"
    }
   ],
   "source": [
    "data_from[['PPAGE', 'PPGENDER', 'PPETHM', 'PPEDUCAT', 'W1_P20', 'W1_E1', 'W1_E4']].head()"
   ]
  },
  {
   "cell_type": "code",
   "execution_count": 6,
   "metadata": {},
   "outputs": [],
   "source": [
    "data = data_from[['PPAGE', 'PPGENDER', 'PPETHM', 'PPEDUCAT', 'W1_P20', 'W1_E1', 'W1_E4']].copy()"
   ]
  },
  {
   "cell_type": "code",
   "execution_count": 7,
   "metadata": {},
   "outputs": [
    {
     "name": "stdout",
     "output_type": "stream",
     "text": [
      "<class 'pandas.core.frame.DataFrame'>\n",
      "RangeIndex: 2294 entries, 0 to 2293\n",
      "Data columns (total 7 columns):\n",
      "PPAGE       2294 non-null int64\n",
      "PPGENDER    2294 non-null int64\n",
      "PPETHM      2294 non-null int64\n",
      "PPEDUCAT    2294 non-null int64\n",
      "W1_P20      2294 non-null int64\n",
      "W1_E1       2294 non-null int64\n",
      "W1_E4       2294 non-null object\n",
      "dtypes: int64(6), object(1)\n",
      "memory usage: 125.5+ KB\n"
     ]
    }
   ],
   "source": [
    "data.info()"
   ]
  },
  {
   "cell_type": "code",
   "execution_count": 8,
   "metadata": {},
   "outputs": [],
   "source": [
    "data['W1_E4'] = pd.to_numeric(data['W1_E4'], errors='coerce')"
   ]
  },
  {
   "cell_type": "code",
   "execution_count": 9,
   "metadata": {},
   "outputs": [
    {
     "data": {
      "text/html": [
       "<div>\n",
       "<style scoped>\n",
       "    .dataframe tbody tr th:only-of-type {\n",
       "        vertical-align: middle;\n",
       "    }\n",
       "\n",
       "    .dataframe tbody tr th {\n",
       "        vertical-align: top;\n",
       "    }\n",
       "\n",
       "    .dataframe thead th {\n",
       "        text-align: right;\n",
       "    }\n",
       "</style>\n",
       "<table border=\"1\" class=\"dataframe\">\n",
       "  <thead>\n",
       "    <tr style=\"text-align: right;\">\n",
       "      <th></th>\n",
       "      <th>age</th>\n",
       "      <th>gender</th>\n",
       "      <th>race</th>\n",
       "      <th>edu</th>\n",
       "      <th>income</th>\n",
       "      <th>relationship</th>\n",
       "      <th>dateout</th>\n",
       "    </tr>\n",
       "  </thead>\n",
       "  <tbody>\n",
       "    <tr>\n",
       "      <th>0</th>\n",
       "      <td>56</td>\n",
       "      <td>2</td>\n",
       "      <td>4</td>\n",
       "      <td>2</td>\n",
       "      <td>11</td>\n",
       "      <td>1</td>\n",
       "      <td>NaN</td>\n",
       "    </tr>\n",
       "    <tr>\n",
       "      <th>1</th>\n",
       "      <td>59</td>\n",
       "      <td>1</td>\n",
       "      <td>2</td>\n",
       "      <td>1</td>\n",
       "      <td>4</td>\n",
       "      <td>1</td>\n",
       "      <td>2.0</td>\n",
       "    </tr>\n",
       "    <tr>\n",
       "      <th>2</th>\n",
       "      <td>36</td>\n",
       "      <td>1</td>\n",
       "      <td>2</td>\n",
       "      <td>4</td>\n",
       "      <td>16</td>\n",
       "      <td>1</td>\n",
       "      <td>2.0</td>\n",
       "    </tr>\n",
       "    <tr>\n",
       "      <th>3</th>\n",
       "      <td>70</td>\n",
       "      <td>1</td>\n",
       "      <td>2</td>\n",
       "      <td>4</td>\n",
       "      <td>6</td>\n",
       "      <td>6</td>\n",
       "      <td>NaN</td>\n",
       "    </tr>\n",
       "    <tr>\n",
       "      <th>4</th>\n",
       "      <td>37</td>\n",
       "      <td>2</td>\n",
       "      <td>1</td>\n",
       "      <td>4</td>\n",
       "      <td>13</td>\n",
       "      <td>3</td>\n",
       "      <td>2.0</td>\n",
       "    </tr>\n",
       "  </tbody>\n",
       "</table>\n",
       "</div>"
      ],
      "text/plain": [
       "   age  gender  race  edu  income  relationship  dateout\n",
       "0   56       2     4    2      11             1      NaN\n",
       "1   59       1     2    1       4             1      2.0\n",
       "2   36       1     2    4      16             1      2.0\n",
       "3   70       1     2    4       6             6      NaN\n",
       "4   37       2     1    4      13             3      2.0"
      ]
     },
     "execution_count": 9,
     "metadata": {},
     "output_type": "execute_result"
    }
   ],
   "source": [
    "data.columns = ['age', 'gender', 'race', 'edu', 'income', 'relationship', 'dateout']\n",
    "data.head()"
   ]
  },
  {
   "cell_type": "code",
   "execution_count": 10,
   "metadata": {},
   "outputs": [],
   "source": [
    "# data['gender'] = data['gender'].map({1: 'Male', 2: 'Female'})\n",
    "\n",
    "# race_labels = {1: 'white',  2: 'black', 3: 'other', 4: 'hispanic', 5: 'two or more'}\n",
    "# data['race'] = data['race'].map(race_labels)\n",
    "\n",
    "# edu_labels = {1: 'Less than high school', 2: 'High school', 3: 'Some college', 4: \"Bachelor's degree or higher\"}\n",
    "# data['edu'] = data['edu'].map(edu_labels)\n",
    "\n",
    "# data['dateout'] = data['dateout'].map({'1': 'yes', '2': 'no'})\n",
    "\n",
    "# rel_labels = {1: 'ongoing', 2: 'serious dating', 3: 'casual dating', \n",
    "#               4: 'friend with benefits', 5: 'one-night stands', 6: 'not dating now'}\n",
    "# data['relationship'] = data['relationship'].map(rel_labels)\n",
    "\n",
    "# def income_num_to_cat(number):\n",
    "#     income_labels = '''\n",
    "#     1 Less than $5,000\n",
    "#     2 $5,000 to $7,499\n",
    "#     3 $7,500 to $9,999\n",
    "#     4 $10,000 to $12,499\n",
    "#     5 $12,500 to $14,999\n",
    "#     6 $15,000 to $19,999\n",
    "#     7 $20,000 to $24,999\n",
    "#     8 $25,000 to $29,999\n",
    "#     9 $30,000 to $34,999\n",
    "#     10 $35,000 to $39,999\n",
    "#     11 $40,000 to $49,999\n",
    "#     12 $50,000 to $59,999\n",
    "#     13 $60,000 to $74,999\n",
    "#     14 $75,000 to $84,999\n",
    "#     15 $85,000 to $99,999\n",
    "#     16 $100,000 to $124,999\n",
    "#     17 $125,000 to $149,999\n",
    "#     18 $150,000 to $174,999\n",
    "#     19 $175,000 or more\n",
    "#     '''\n",
    "#     incomes = [i.strip() for i in income_labels.splitlines() if i.strip() != '']  # get 19 income levels\n",
    "#     incomes = [i[2:].strip() for i in incomes]  # remove numbering\n",
    "#     incomes = [i.replace('$', '') for i in incomes]  # remove numbering\n",
    "#     return incomes[number-1]\n",
    "\n",
    "# data['income'] = data['income'].apply(income_num_to_cat)"
   ]
  },
  {
   "cell_type": "code",
   "execution_count": null,
   "metadata": {},
   "outputs": [],
   "source": []
  },
  {
   "cell_type": "code",
   "execution_count": 11,
   "metadata": {},
   "outputs": [
    {
     "data": {
      "text/html": [
       "<div>\n",
       "<style scoped>\n",
       "    .dataframe tbody tr th:only-of-type {\n",
       "        vertical-align: middle;\n",
       "    }\n",
       "\n",
       "    .dataframe tbody tr th {\n",
       "        vertical-align: top;\n",
       "    }\n",
       "\n",
       "    .dataframe thead th {\n",
       "        text-align: right;\n",
       "    }\n",
       "</style>\n",
       "<table border=\"1\" class=\"dataframe\">\n",
       "  <thead>\n",
       "    <tr style=\"text-align: right;\">\n",
       "      <th></th>\n",
       "      <th>age</th>\n",
       "      <th>gender</th>\n",
       "      <th>race</th>\n",
       "      <th>edu</th>\n",
       "      <th>income</th>\n",
       "      <th>relationship</th>\n",
       "      <th>dateout</th>\n",
       "    </tr>\n",
       "  </thead>\n",
       "  <tbody>\n",
       "    <tr>\n",
       "      <th>0</th>\n",
       "      <td>56</td>\n",
       "      <td>2</td>\n",
       "      <td>4</td>\n",
       "      <td>2</td>\n",
       "      <td>11</td>\n",
       "      <td>1</td>\n",
       "      <td>NaN</td>\n",
       "    </tr>\n",
       "    <tr>\n",
       "      <th>1</th>\n",
       "      <td>59</td>\n",
       "      <td>1</td>\n",
       "      <td>2</td>\n",
       "      <td>1</td>\n",
       "      <td>4</td>\n",
       "      <td>1</td>\n",
       "      <td>2.0</td>\n",
       "    </tr>\n",
       "    <tr>\n",
       "      <th>2</th>\n",
       "      <td>36</td>\n",
       "      <td>1</td>\n",
       "      <td>2</td>\n",
       "      <td>4</td>\n",
       "      <td>16</td>\n",
       "      <td>1</td>\n",
       "      <td>2.0</td>\n",
       "    </tr>\n",
       "    <tr>\n",
       "      <th>3</th>\n",
       "      <td>70</td>\n",
       "      <td>1</td>\n",
       "      <td>2</td>\n",
       "      <td>4</td>\n",
       "      <td>6</td>\n",
       "      <td>6</td>\n",
       "      <td>NaN</td>\n",
       "    </tr>\n",
       "    <tr>\n",
       "      <th>4</th>\n",
       "      <td>37</td>\n",
       "      <td>2</td>\n",
       "      <td>1</td>\n",
       "      <td>4</td>\n",
       "      <td>13</td>\n",
       "      <td>3</td>\n",
       "      <td>2.0</td>\n",
       "    </tr>\n",
       "    <tr>\n",
       "      <th>5</th>\n",
       "      <td>18</td>\n",
       "      <td>1</td>\n",
       "      <td>1</td>\n",
       "      <td>1</td>\n",
       "      <td>1</td>\n",
       "      <td>6</td>\n",
       "      <td>2.0</td>\n",
       "    </tr>\n",
       "    <tr>\n",
       "      <th>6</th>\n",
       "      <td>52</td>\n",
       "      <td>1</td>\n",
       "      <td>2</td>\n",
       "      <td>4</td>\n",
       "      <td>12</td>\n",
       "      <td>1</td>\n",
       "      <td>1.0</td>\n",
       "    </tr>\n",
       "    <tr>\n",
       "      <th>7</th>\n",
       "      <td>22</td>\n",
       "      <td>2</td>\n",
       "      <td>1</td>\n",
       "      <td>2</td>\n",
       "      <td>3</td>\n",
       "      <td>1</td>\n",
       "      <td>2.0</td>\n",
       "    </tr>\n",
       "    <tr>\n",
       "      <th>8</th>\n",
       "      <td>35</td>\n",
       "      <td>2</td>\n",
       "      <td>1</td>\n",
       "      <td>4</td>\n",
       "      <td>10</td>\n",
       "      <td>1</td>\n",
       "      <td>NaN</td>\n",
       "    </tr>\n",
       "    <tr>\n",
       "      <th>9</th>\n",
       "      <td>45</td>\n",
       "      <td>1</td>\n",
       "      <td>1</td>\n",
       "      <td>3</td>\n",
       "      <td>16</td>\n",
       "      <td>1</td>\n",
       "      <td>NaN</td>\n",
       "    </tr>\n",
       "  </tbody>\n",
       "</table>\n",
       "</div>"
      ],
      "text/plain": [
       "   age  gender  race  edu  income  relationship  dateout\n",
       "0   56       2     4    2      11             1      NaN\n",
       "1   59       1     2    1       4             1      2.0\n",
       "2   36       1     2    4      16             1      2.0\n",
       "3   70       1     2    4       6             6      NaN\n",
       "4   37       2     1    4      13             3      2.0\n",
       "5   18       1     1    1       1             6      2.0\n",
       "6   52       1     2    4      12             1      1.0\n",
       "7   22       2     1    2       3             1      2.0\n",
       "8   35       2     1    4      10             1      NaN\n",
       "9   45       1     1    3      16             1      NaN"
      ]
     },
     "execution_count": 11,
     "metadata": {},
     "output_type": "execute_result"
    }
   ],
   "source": [
    "data.head(10)"
   ]
  },
  {
   "cell_type": "code",
   "execution_count": 12,
   "metadata": {},
   "outputs": [
    {
     "data": {
      "text/plain": [
       "2    1278\n",
       "1     814\n",
       "4     123\n",
       "3      46\n",
       "5      33\n",
       "Name: race, dtype: int64"
      ]
     },
     "execution_count": 12,
     "metadata": {},
     "output_type": "execute_result"
    }
   ],
   "source": [
    "data['race'].value_counts()"
   ]
  },
  {
   "cell_type": "code",
   "execution_count": 13,
   "metadata": {},
   "outputs": [
    {
     "data": {
      "text/plain": [
       " 1.0    671\n",
       " 2.0    603\n",
       "-1.0     23\n",
       "Name: dateout, dtype: int64"
      ]
     },
     "execution_count": 13,
     "metadata": {},
     "output_type": "execute_result"
    }
   ],
   "source": [
    "data['dateout'].value_counts()"
   ]
  },
  {
   "cell_type": "code",
   "execution_count": 14,
   "metadata": {},
   "outputs": [
    {
     "data": {
      "text/plain": [
       "1.0    671\n",
       "2.0    603\n",
       "Name: dateout, dtype: int64"
      ]
     },
     "execution_count": 14,
     "metadata": {},
     "output_type": "execute_result"
    }
   ],
   "source": [
    "df = data.dropna()\n",
    "df = df[df['dateout'] != -1.0]\n",
    "df['dateout'].value_counts()"
   ]
  },
  {
   "cell_type": "code",
   "execution_count": 15,
   "metadata": {},
   "outputs": [],
   "source": [
    "race_labels = {1: 'white',  2: 'black', 3: 'other', 4: 'hispanic', 5: 'two or more'}\n",
    "df['race'] = df['race'].map(race_labels)\n",
    "\n",
    "# this won't work with crosstab \n",
    "#df['dateout'] = df['dateout'].map({1: 'yes', 2: 'no'})\n",
    "\n",
    "df['dateout'] = df['dateout'].map({1: 1, 2: 0})"
   ]
  },
  {
   "cell_type": "code",
   "execution_count": 16,
   "metadata": {},
   "outputs": [
    {
     "data": {
      "text/html": [
       "<div>\n",
       "<style scoped>\n",
       "    .dataframe tbody tr th:only-of-type {\n",
       "        vertical-align: middle;\n",
       "    }\n",
       "\n",
       "    .dataframe tbody tr th {\n",
       "        vertical-align: top;\n",
       "    }\n",
       "\n",
       "    .dataframe thead th {\n",
       "        text-align: right;\n",
       "    }\n",
       "</style>\n",
       "<table border=\"1\" class=\"dataframe\">\n",
       "  <thead>\n",
       "    <tr style=\"text-align: right;\">\n",
       "      <th>race</th>\n",
       "      <th>black</th>\n",
       "      <th>hispanic</th>\n",
       "      <th>other</th>\n",
       "      <th>two or more</th>\n",
       "      <th>white</th>\n",
       "    </tr>\n",
       "    <tr>\n",
       "      <th>dateout</th>\n",
       "      <th></th>\n",
       "      <th></th>\n",
       "      <th></th>\n",
       "      <th></th>\n",
       "      <th></th>\n",
       "    </tr>\n",
       "  </thead>\n",
       "  <tbody>\n",
       "    <tr>\n",
       "      <th>0</th>\n",
       "      <td>226</td>\n",
       "      <td>27</td>\n",
       "      <td>8</td>\n",
       "      <td>7</td>\n",
       "      <td>335</td>\n",
       "    </tr>\n",
       "    <tr>\n",
       "      <th>1</th>\n",
       "      <td>371</td>\n",
       "      <td>22</td>\n",
       "      <td>8</td>\n",
       "      <td>6</td>\n",
       "      <td>264</td>\n",
       "    </tr>\n",
       "  </tbody>\n",
       "</table>\n",
       "</div>"
      ],
      "text/plain": [
       "race     black  hispanic  other  two or more  white\n",
       "dateout                                            \n",
       "0          226        27      8            7    335\n",
       "1          371        22      8            6    264"
      ]
     },
     "execution_count": 16,
     "metadata": {},
     "output_type": "execute_result"
    }
   ],
   "source": [
    "ct=pd.crosstab(df['dateout'], df['race'])\n",
    "ct"
   ]
  },
  {
   "cell_type": "code",
   "execution_count": 17,
   "metadata": {},
   "outputs": [
    {
     "data": {
      "text/html": [
       "<div>\n",
       "<style scoped>\n",
       "    .dataframe tbody tr th:only-of-type {\n",
       "        vertical-align: middle;\n",
       "    }\n",
       "\n",
       "    .dataframe tbody tr th {\n",
       "        vertical-align: top;\n",
       "    }\n",
       "\n",
       "    .dataframe thead th {\n",
       "        text-align: right;\n",
       "    }\n",
       "</style>\n",
       "<table border=\"1\" class=\"dataframe\">\n",
       "  <thead>\n",
       "    <tr style=\"text-align: right;\">\n",
       "      <th>race</th>\n",
       "      <th>black</th>\n",
       "      <th>hispanic</th>\n",
       "      <th>other</th>\n",
       "      <th>two or more</th>\n",
       "      <th>white</th>\n",
       "    </tr>\n",
       "    <tr>\n",
       "      <th>dateout</th>\n",
       "      <th></th>\n",
       "      <th></th>\n",
       "      <th></th>\n",
       "      <th></th>\n",
       "      <th></th>\n",
       "    </tr>\n",
       "  </thead>\n",
       "  <tbody>\n",
       "    <tr>\n",
       "      <th>0</th>\n",
       "      <td>0.378559</td>\n",
       "      <td>0.55102</td>\n",
       "      <td>0.5</td>\n",
       "      <td>0.538462</td>\n",
       "      <td>0.559265</td>\n",
       "    </tr>\n",
       "    <tr>\n",
       "      <th>1</th>\n",
       "      <td>0.621441</td>\n",
       "      <td>0.44898</td>\n",
       "      <td>0.5</td>\n",
       "      <td>0.461538</td>\n",
       "      <td>0.440735</td>\n",
       "    </tr>\n",
       "  </tbody>\n",
       "</table>\n",
       "</div>"
      ],
      "text/plain": [
       "race        black  hispanic  other  two or more     white\n",
       "dateout                                                  \n",
       "0        0.378559   0.55102    0.5     0.538462  0.559265\n",
       "1        0.621441   0.44898    0.5     0.461538  0.440735"
      ]
     },
     "execution_count": 17,
     "metadata": {},
     "output_type": "execute_result"
    }
   ],
   "source": [
    "colsum=ct.sum(axis=0)\n",
    "colpct=ct/colsum\n",
    "colpct"
   ]
  },
  {
   "cell_type": "code",
   "execution_count": 18,
   "metadata": {},
   "outputs": [
    {
     "data": {
      "text/plain": [
       "age              int64\n",
       "gender           int64\n",
       "race            object\n",
       "edu              int64\n",
       "income           int64\n",
       "relationship     int64\n",
       "dateout          int64\n",
       "dtype: object"
      ]
     },
     "execution_count": 18,
     "metadata": {},
     "output_type": "execute_result"
    }
   ],
   "source": [
    "df.dtypes"
   ]
  },
  {
   "cell_type": "code",
   "execution_count": 19,
   "metadata": {},
   "outputs": [
    {
     "data": {
      "text/plain": [
       "age                int64\n",
       "gender             int64\n",
       "race            category\n",
       "edu                int64\n",
       "income             int64\n",
       "relationship       int64\n",
       "dateout            int64\n",
       "dtype: object"
      ]
     },
     "execution_count": 19,
     "metadata": {},
     "output_type": "execute_result"
    }
   ],
   "source": [
    "df['race'] = df['race'].astype('category')\n",
    "df.dtypes"
   ]
  },
  {
   "cell_type": "code",
   "execution_count": 20,
   "metadata": {},
   "outputs": [
    {
     "data": {
      "text/plain": [
       "Text(0.5,1,'population of each race')"
      ]
     },
     "execution_count": 20,
     "metadata": {},
     "output_type": "execute_result"
    },
    {
     "data": {
      "image/png": "[encoded data removed]",
      "text/plain": [
       "<matplotlib.figure.Figure at 0x1030f8e10>"
      ]
     },
     "metadata": {},
     "output_type": "display_data"
    }
   ],
   "source": [
    "sns.countplot(x='race', data=df)\n",
    "plt.title('population of each race')\n",
    "# plt.xlabel('Race')\n",
    "# plt.ylabel(\"Date someone outside one's racial group \")"
   ]
  },
  {
   "cell_type": "code",
   "execution_count": 21,
   "metadata": {},
   "outputs": [
    {
     "data": {
      "text/plain": [
       "Text(0.5,1,'dating outside races')"
      ]
     },
     "execution_count": 21,
     "metadata": {},
     "output_type": "execute_result"
    },
    {
     "data": {
      "image/png": "[encoded data removed]",
      "text/plain": [
       "<matplotlib.figure.Figure at 0x10df0f080>"
      ]
     },
     "metadata": {},
     "output_type": "display_data"
    }
   ],
   "source": [
    "sns.countplot(x='race', hue='dateout', data=df)\n",
    "plt.title('dating outside races')"
   ]
  },
  {
   "cell_type": "code",
   "execution_count": 22,
   "metadata": {},
   "outputs": [
    {
     "data": {
      "text/plain": [
       "Text(0.5,1,'percentage of dating outside races')"
      ]
     },
     "execution_count": 22,
     "metadata": {},
     "output_type": "execute_result"
    },
    {
     "data": {
      "image/png": "[encoded data removed]",
      "text/plain": [
       "<matplotlib.figure.Figure at 0x10e9977b8>"
      ]
     },
     "metadata": {},
     "output_type": "display_data"
    }
   ],
   "source": [
    "sns.barplot(x='race', y='dateout', data=df)\n",
    "plt.title('percentage of dating outside races')"
   ]
  },
  {
   "cell_type": "markdown",
   "metadata": {},
   "source": [
    "# Post hoc tests for Chi Square tests of independence\n",
    "\n",
    "## bonferroni adjustment\n",
    "\n",
    "$ \\frac{p}{c} $\n",
    "\n",
    "c: number of comparisons\n",
    "\n",
    "5 groups will have 15 comparisions: 5 * 4 /2\n",
    "\n",
    "bonferroni adjustment for p = 0.05/10"
   ]
  },
  {
   "cell_type": "code",
   "execution_count": 23,
   "metadata": {},
   "outputs": [
    {
     "data": {
      "text/plain": [
       "0.005"
      ]
     },
     "execution_count": 23,
     "metadata": {},
     "output_type": "execute_result"
    }
   ],
   "source": [
    "p_adjust = .05 / 10  # only one side p\n",
    "p_adjust"
   ]
  },
  {
   "cell_type": "markdown",
   "metadata": {},
   "source": [
    "# Chi Square Test\n",
    "\n",
    "p value is smaller than adjusted p (0.005)"
   ]
  },
  {
   "cell_type": "code",
   "execution_count": 24,
   "metadata": {},
   "outputs": [
    {
     "data": {
      "text/plain": [
       "(40.707032816899769,\n",
       " 3.0906479595905409e-08,\n",
       " 4,\n",
       " array([[ 282.56750392,   23.19230769,    7.57299843,    6.15306122,\n",
       "          283.51412873],\n",
       "        [ 314.43249608,   25.80769231,    8.42700157,    6.84693878,\n",
       "          315.48587127]]))"
      ]
     },
     "execution_count": 24,
     "metadata": {},
     "output_type": "execute_result"
    }
   ],
   "source": [
    "cs= scipy.stats.chi2_contingency(ct)\n",
    "cs"
   ]
  },
  {
   "cell_type": "markdown",
   "metadata": {},
   "source": [
    "## Post Hoc Test"
   ]
  },
  {
   "cell_type": "code",
   "execution_count": 25,
   "metadata": {},
   "outputs": [
    {
     "data": {
      "text/plain": [
       "['black', 'white', 'hispanic', 'other', 'two or more']"
      ]
     },
     "execution_count": 25,
     "metadata": {},
     "output_type": "execute_result"
    }
   ],
   "source": [
    "races = list(df['race'].unique())\n",
    "races"
   ]
  },
  {
   "cell_type": "code",
   "execution_count": 26,
   "metadata": {},
   "outputs": [
    {
     "name": "stdout",
     "output_type": "stream",
     "text": [
      "Post Hoc Test for races: \"black\" and \"white\"\n",
      "race     black  white\n",
      "dateout              \n",
      "0          226    335\n",
      "1          371    264\n",
      "race        black     white\n",
      "dateout                    \n",
      "0        0.378559  0.559265\n",
      "1        0.621441  0.440735\n",
      "chi2 = 38.482695170235495, p = 5.524133365740496e-10\n",
      "[[ 280.03093645  280.96906355]\n",
      " [ 316.96906355  318.03093645]]\n",
      "--------------------------------------------------\n",
      "Post Hoc Test for races: \"black\" and \"hispanic\"\n",
      "race     black  hispanic\n",
      "dateout                 \n",
      "0          226        27\n",
      "1          371        22\n",
      "race        black  hispanic\n",
      "dateout                    \n",
      "0        0.378559   0.55102\n",
      "1        0.621441   0.44898\n",
      "chi2 = 4.952232212604054, p = 0.026057003924525795\n",
      "[[ 233.80959752   19.19040248]\n",
      " [ 363.19040248   29.80959752]]\n",
      "--------------------------------------------------\n",
      "Post Hoc Test for races: \"black\" and \"other\"\n",
      "race     black  other\n",
      "dateout              \n",
      "0          226      8\n",
      "1          371      8\n",
      "race        black  other\n",
      "dateout                 \n",
      "0        0.378559    0.5\n",
      "1        0.621441    0.5\n",
      "chi2 = 0.5271304986003353, p = 0.46781576203993924\n",
      "[[ 227.89233279    6.10766721]\n",
      " [ 369.10766721    9.89233279]]\n",
      "--------------------------------------------------\n",
      "Post Hoc Test for races: \"black\" and \"two or more\"\n",
      "race     black  two or more\n",
      "dateout                    \n",
      "0          226            7\n",
      "1          371            6\n",
      "race        black  two or more\n",
      "dateout                       \n",
      "0        0.378559     0.538462\n",
      "1        0.621441     0.461538\n",
      "chi2 = 0.783910673688109, p = 0.3759477788635559\n",
      "[[ 228.03442623    4.96557377]\n",
      " [ 368.96557377    8.03442623]]\n",
      "--------------------------------------------------\n",
      "Post Hoc Test for races: \"white\" and \"hispanic\"\n",
      "race     white  hispanic\n",
      "dateout                 \n",
      "0          335        27\n",
      "1          264        22\n",
      "race        white  hispanic\n",
      "dateout                    \n",
      "0        0.559265   0.55102\n",
      "1        0.440735   0.44898\n",
      "chi2 = 0.0014338548991806126, p = 0.9697943011757576\n",
      "[[ 334.62654321   27.37345679]\n",
      " [ 264.37345679   21.62654321]]\n",
      "--------------------------------------------------\n",
      "Post Hoc Test for races: \"white\" and \"other\"\n",
      "race     white  other\n",
      "dateout              \n",
      "0          335      8\n",
      "1          264      8\n",
      "race        white  other\n",
      "dateout                 \n",
      "0        0.559265    0.5\n",
      "1        0.440735    0.5\n",
      "chi2 = 0.04667461474289823, p = 0.8289541632261088\n",
      "[[ 334.07642276    8.92357724]\n",
      " [ 264.92357724    7.07642276]]\n",
      "--------------------------------------------------\n",
      "Post Hoc Test for races: \"white\" and \"two or more\"\n",
      "race     white  two or more\n",
      "dateout                    \n",
      "0          335            7\n",
      "1          264            6\n",
      "race        white  two or more\n",
      "dateout                       \n",
      "0        0.559265     0.538462\n",
      "1        0.440735     0.461538\n",
      "chi2 = 0.017648847944955543, p = 0.894312827736136\n",
      "[[ 334.73529412    7.26470588]\n",
      " [ 264.26470588    5.73529412]]\n",
      "--------------------------------------------------\n",
      "Post Hoc Test for races: \"hispanic\" and \"other\"\n",
      "race     hispanic  other\n",
      "dateout                 \n",
      "0              27      8\n",
      "1              22      8\n",
      "race     hispanic  other\n",
      "dateout                 \n",
      "0         0.55102    0.5\n",
      "1         0.44898    0.5\n",
      "chi2 = 0.004441508746355688, p = 0.9468646029232067\n",
      "[[ 26.38461538   8.61538462]\n",
      " [ 22.61538462   7.38461538]]\n",
      "--------------------------------------------------\n",
      "Post Hoc Test for races: \"hispanic\" and \"two or more\"\n",
      "race     hispanic  two or more\n",
      "dateout                       \n",
      "0              27            7\n",
      "1              22            6\n",
      "race     hispanic  two or more\n",
      "dateout                       \n",
      "0         0.55102     0.538462\n",
      "1         0.44898     0.461538\n",
      "chi2 = 0.05408427107106583, p = 0.8161028949182271\n",
      "[[ 26.87096774   7.12903226]\n",
      " [ 22.12903226   5.87096774]]\n",
      "--------------------------------------------------\n",
      "Post Hoc Test for races: \"other\" and \"two or more\"\n",
      "race     other  two or more\n",
      "dateout                    \n",
      "0            8            7\n",
      "1            8            6\n",
      "race     other  two or more\n",
      "dateout                    \n",
      "0          0.5     0.538462\n",
      "1          0.5     0.461538\n",
      "chi2 = 0.028050595238095274, p = 0.8669899288028957\n",
      "[[ 8.27586207  6.72413793]\n",
      " [ 7.72413793  6.27586207]]\n",
      "--------------------------------------------------\n",
      "\n",
      "\n",
      "Significant difference for the race pair that do not date outside their own race\n",
      "[('black', 'white')]\n"
     ]
    }
   ],
   "source": [
    "from itertools import combinations\n",
    "\n",
    "races_diff = []\n",
    "for r1, r2 in combinations(races, 2):\n",
    "    print(f'Post Hoc Test for races: \"{r1}\" and \"{r2}\"')\n",
    "    dfr = df[(df['race'] == r1) | (df['race'] == r2)]\n",
    "    ct = pd.crosstab(dfr['dateout'], dfr['race'])\n",
    "    print(ct[[r1, r2]])\n",
    "    colsum=ct[[r1, r2]].sum(axis=0)\n",
    "    colpct=ct[[r1, r2]]/colsum\n",
    "    print(colpct)\n",
    "    chi2, p, dof, ex = scipy.stats.chi2_contingency(ct[[r1, r2]])\n",
    "    print(f'chi2 = {chi2}, p = {p}')\n",
    "    print(ex)\n",
    "    print('-'*50)\n",
    "    if p < p_adjust:\n",
    "        races_diff.append((r1, r2))\n",
    "print('\\n')\n",
    "print('Significant difference for the race pair that do not date outside their own race')\n",
    "print(races_diff)\n"
   ]
  },
  {
   "cell_type": "markdown",
   "metadata": {},
   "source": [
    "# Model Interpretation for Chi-Square Tests:\n",
    "\n",
    "When examining the association between race groups (categorical response) and willingness to date outside one's racial group (categorical explanatory), a chi-square test of independence revealed that among 5 racial groups (my sample), \n",
    "only black-white shows a difference.\n",
    "\n",
    "The df or degree of freedom we record is the number of levels of the explanatory variable -1. Here the df is 1; willingness to  which has 2 levels (df 2-1=1).\n",
    "\n",
    "# Model Interpretation for post hoc Chi-Square Test results:\n",
    "\n",
    "A Chi Square test of independence revealed that among racial groups and willingness to date outside one's racial group (binary categorical variable) were significantly associated, X2 =40.71, 4 df, p=3.09e-08.\n",
    "\n",
    "\n",
    "Post hoc comparisons of rates of \"willingness of dating outside racial groups\" by pairs of races shows a significant difference in the \"white vs black\" group."
   ]
  },
  {
   "cell_type": "markdown",
   "metadata": {},
   "source": [
    "# Conclusion:\n",
    "\n",
    "According to the post hoc test, we can only be confident that the \"white vs black\" race group have a difference when dating outside one's own race. That is, black people are more likely to date someone outside their racial group compared to white people. \n",
    "\n",
    "Some race groups have very small samples so it may contibute to the high p-value of the Chi Square Test."
   ]
  },
  {
   "cell_type": "code",
   "execution_count": null,
   "metadata": {},
   "outputs": [],
   "source": []
  },
  {
   "cell_type": "code",
   "execution_count": null,
   "metadata": {},
   "outputs": [],
   "source": []
  }
 ],
 "metadata": {
  "kernelspec": {
   "display_name": "Python 3",
   "language": "python",
   "name": "python3"
  },
  "language_info": {
   "codemirror_mode": {
    "name": "ipython",
    "version": 3
   },
   "file_extension": ".py",
   "mimetype": "text/x-python",
   "name": "python",
   "nbconvert_exporter": "python",
   "pygments_lexer": "ipython3",
   "version": "3.6.4"
  }
 },
 "nbformat": 4,
 "nbformat_minor": 2
}

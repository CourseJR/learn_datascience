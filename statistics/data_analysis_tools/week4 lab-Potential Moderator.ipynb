{
 "cells": [
  {
   "cell_type": "markdown",
   "metadata": {},
   "source": [
    "# Peer-graded Assignment: Testing a Potential Moderator\n",
    "\n",
    "\n",
    "The final assignment deals with testing a potential moderator. When testing a potential moderator, we are asking the question whether there is an association between two constructs for different subgroups within the sample.\n",
    "\n",
    "**Instructions**\n",
    "\n",
    "Run an ANOVA, Chi-Square Test or correlation coefficient that includes a moderator.\n",
    "\n",
    "## WHAT TO SUBMIT:\n",
    "\n",
    "Following completion of the steps described above, create a blog entry where you submit syntax used to test moderation (copied and pasted from your program) along with corresponding output and a few sentences of interpretation. \n",
    "\n",
    "**Review Criteria**\n",
    "\n",
    "Your assessment will be based on the evidence you provide that you have completed all of the steps. In all cases, consider that the peer assessing your work is likely not an expert in the field you are analyzing. "
   ]
  },
  {
   "cell_type": "markdown",
   "metadata": {},
   "source": [
    "# Data Info (Code Book):\n",
    "\n",
    "PPAGE: Age\n",
    "\n",
    "* 18 to 67: numeric\n",
    "\n",
    "PPGENDER: Gender\n",
    "\n",
    "* 1: Male\n",
    "* 2: Female\n",
    "* -2: Not asked\n",
    "* -1: Refused\n",
    "\n",
    "PPEDUCAT: Education (Categorical)\n",
    "\n",
    "* 1    Less than high school    219    9.5%\n",
    "* 2    High school    700    30.5%\n",
    "* 3    Some college    682    29.7%\n",
    "* 4    Bachelor's degree or higher    693    30.2%\n",
    "* -2    Not asked    0    0.0%\n",
    "* -1    REFUSED    0    0.0%\n",
    "\n",
    "\n",
    "PPETHM: Race / Ethnicity\n",
    "\n",
    "* 1    White, Non-Hispanic    814    35.5%\n",
    "* 2    Black, Non-Hispanic    1278    55.7%\n",
    "* 3    Other, Non-Hispanic    46    2.0%\n",
    "* 4    Hispanic    123    5.4%\n",
    "* 5    2+ Races, Non-Hispanic    33    1.4%      \n",
    "* -2    Not asked    0    0.0%\n",
    "* -1    REFUSED    0    0.0%\n",
    "\n",
    "W1_N1A How would you rate people on welfare?\n",
    "\n",
    "* 0 to 100: numeric\n",
    "* -1    Refused\n",
    "* 998    Don't Recognize\n",
    "\n",
    "W1_N1D: How would you rate Whites?\n",
    "\n",
    "* 0 to 100: numeric\n",
    "* -1    Refused\n",
    "* 998    Don't Recognize\n",
    "\n",
    "W1_N1G: How would you rate gays/lesbians?\n",
    "\n",
    "* 0 to 100: numeric\n",
    "* -1    Refused\n",
    "* 998    Don't Recognize\n",
    "\n",
    "W1_N1I: How would you rate Congress?\n",
    "\n",
    "* 0 to 100: numeric\n",
    "* -1    Refused\n",
    "* 998    Don't Recognize\n",
    "\n",
    "W1_N1J: How would you rate the wealthiest 1%?\n",
    "\n",
    "* 0 to 100: numeric\n",
    "* -1    Refused\n",
    "* 998    Don't Recognize\n",
    "\n",
    "W1_N1K: How would you rate the unemployed?\n",
    "\n",
    "* 0 to 100: numeric\n",
    "* -1    Refused\n",
    "* 998    Don't Recognize\n",
    "\n",
    "W1_N1L: How would you rate unmarried mothers?\n",
    "\n",
    "* 0 to 100: numeric\n",
    "* -1    Refused\n",
    "* 998    Don't Recognize\n",
    "\n",
    "W1_N1M: How would you rate undocumented immigrants?\n",
    "\n",
    "* 0 to 100: numeric\n",
    "* -1    Refused\n",
    "* 998    Don't Recognize\n",
    "\n",
    "W1_N1N: How would you rate public school teachers?\n",
    "\n",
    "* 0 to 100: numeric\n",
    "* -1    Refused\n",
    "* 998    Don't Recognize\n"
   ]
  },
  {
   "cell_type": "markdown",
   "metadata": {},
   "source": [
    "# Research: Attitude to selected groups\n",
    "\n",
    "\n",
    "## Attitude (how one rates) the interested groups:\n",
    "\n",
    "* 'welfare': people on welfare payment\n",
    "* 'gays': gays and lesbians\n",
    "* 'immigrants': undocumented immigrants\n",
    "* 'white': white people (maybe can be used as a reference point)\n",
    "* 'mothers': unmarried mothers\n",
    "* 'immigrants': undocumented immigrants\n",
    "* 'teachers': public school teachers\n",
    "\n",
    "## Methods\n",
    "\n",
    "* ANOVA (X: categorical Y: quantative)\n",
    " - how males and females rate unmarried mothers\n",
    " - test if age group is a moderator \n",
    "\n",
    "* Chi-Square Test (X: categorical Y: categorical)\n",
    " - Chi squared Test on how one rates unmarried mother when we know how the same person rates people on welfare\n",
    " - Then we test if race is a moderator\n",
    " \n",
    "* Corelation coefficient\n",
    " - Find correlation coefficient and p-value on how one rates unemployed people\n",
    " - Then test if sex is a moderator\n",
    " - Test again if the education level is a moderator"
   ]
  },
  {
   "cell_type": "code",
   "execution_count": 1,
   "metadata": {},
   "outputs": [
    {
     "name": "stderr",
     "output_type": "stream",
     "text": [
      "/Users/apple/anaconda3/envs/deep/lib/python3.6/site-packages/statsmodels/compat/pandas.py:56: FutureWarning: The pandas.core.datetools module is deprecated and will be removed in a future version. Please use the pandas.tseries module instead.\n",
      "  from pandas.core import datetools\n"
     ]
    }
   ],
   "source": [
    "import pandas as pd\n",
    "import seaborn as sns\n",
    "import matplotlib.pyplot as plt\n",
    "import numpy as np\n",
    "from scipy.stats import norm\n",
    "from scipy.stats import t\n",
    "from scipy.stats import ttest_ind\n",
    "from scipy.stats import chi2_contingency\n",
    "from scipy.stats import pearsonr\n",
    "from scipy.stats import probplot\n",
    "from statsmodels.formula.api import ols\n",
    "import statsmodels.api as sm\n",
    "from statsmodels.stats import multicomp\n",
    "\n",
    "%matplotlib inline\n",
    "\n",
    "from itertools import combinations\n",
    "from pprint import pprint"
   ]
  },
  {
   "cell_type": "code",
   "execution_count": 2,
   "metadata": {},
   "outputs": [],
   "source": [
    "data_from = pd.read_csv('../../datasets/ool_pds.csv', low_memory=False)"
   ]
  },
  {
   "cell_type": "code",
   "execution_count": 3,
   "metadata": {},
   "outputs": [],
   "source": [
    "data = data_from[['PPAGE', 'PPGENDER', 'PPEDUCAT', 'PPETHM', 'W1_N1A', 'W1_N1D', 'W1_N1G', 'W1_N1I', 'W1_N1J', \n",
    "                  'W1_N1K', 'W1_N1L', 'W1_N1M', 'W1_N1N']].copy()\n",
    "data.columns = ['age', 'sex', 'edu', 'race', 'welfare', 'white', 'gays', 'congress', 'rich1', 'unemployed',\n",
    "               'mothers', 'immigrants', 'teachers']\n"
   ]
  },
  {
   "cell_type": "code",
   "execution_count": 4,
   "metadata": {},
   "outputs": [
    {
     "data": {
      "text/html": [
       "<div>\n",
       "<style scoped>\n",
       "    .dataframe tbody tr th:only-of-type {\n",
       "        vertical-align: middle;\n",
       "    }\n",
       "\n",
       "    .dataframe tbody tr th {\n",
       "        vertical-align: top;\n",
       "    }\n",
       "\n",
       "    .dataframe thead th {\n",
       "        text-align: right;\n",
       "    }\n",
       "</style>\n",
       "<table border=\"1\" class=\"dataframe\">\n",
       "  <thead>\n",
       "    <tr style=\"text-align: right;\">\n",
       "      <th></th>\n",
       "      <th>count</th>\n",
       "      <th>mean</th>\n",
       "      <th>std</th>\n",
       "      <th>min</th>\n",
       "      <th>25%</th>\n",
       "      <th>50%</th>\n",
       "      <th>75%</th>\n",
       "      <th>max</th>\n",
       "    </tr>\n",
       "  </thead>\n",
       "  <tbody>\n",
       "    <tr>\n",
       "      <th>age</th>\n",
       "      <td>2294.0</td>\n",
       "      <td>48.899303</td>\n",
       "      <td>16.457583</td>\n",
       "      <td>18.0</td>\n",
       "      <td>36.0</td>\n",
       "      <td>51.0</td>\n",
       "      <td>62.0</td>\n",
       "      <td>81.0</td>\n",
       "    </tr>\n",
       "    <tr>\n",
       "      <th>sex</th>\n",
       "      <td>2294.0</td>\n",
       "      <td>1.550131</td>\n",
       "      <td>0.497589</td>\n",
       "      <td>1.0</td>\n",
       "      <td>1.0</td>\n",
       "      <td>2.0</td>\n",
       "      <td>2.0</td>\n",
       "      <td>2.0</td>\n",
       "    </tr>\n",
       "    <tr>\n",
       "      <th>edu</th>\n",
       "      <td>2294.0</td>\n",
       "      <td>2.806016</td>\n",
       "      <td>0.975647</td>\n",
       "      <td>1.0</td>\n",
       "      <td>2.0</td>\n",
       "      <td>3.0</td>\n",
       "      <td>4.0</td>\n",
       "      <td>4.0</td>\n",
       "    </tr>\n",
       "    <tr>\n",
       "      <th>race</th>\n",
       "      <td>2294.0</td>\n",
       "      <td>1.815606</td>\n",
       "      <td>0.827725</td>\n",
       "      <td>1.0</td>\n",
       "      <td>1.0</td>\n",
       "      <td>2.0</td>\n",
       "      <td>2.0</td>\n",
       "      <td>5.0</td>\n",
       "    </tr>\n",
       "    <tr>\n",
       "      <th>welfare</th>\n",
       "      <td>2294.0</td>\n",
       "      <td>83.614211</td>\n",
       "      <td>177.877455</td>\n",
       "      <td>-1.0</td>\n",
       "      <td>40.0</td>\n",
       "      <td>50.0</td>\n",
       "      <td>70.0</td>\n",
       "      <td>998.0</td>\n",
       "    </tr>\n",
       "    <tr>\n",
       "      <th>white</th>\n",
       "      <td>2294.0</td>\n",
       "      <td>95.629468</td>\n",
       "      <td>165.648334</td>\n",
       "      <td>-1.0</td>\n",
       "      <td>50.0</td>\n",
       "      <td>70.0</td>\n",
       "      <td>85.0</td>\n",
       "      <td>998.0</td>\n",
       "    </tr>\n",
       "    <tr>\n",
       "      <th>gays</th>\n",
       "      <td>2294.0</td>\n",
       "      <td>95.956844</td>\n",
       "      <td>203.805058</td>\n",
       "      <td>-1.0</td>\n",
       "      <td>40.0</td>\n",
       "      <td>50.0</td>\n",
       "      <td>80.0</td>\n",
       "      <td>998.0</td>\n",
       "    </tr>\n",
       "    <tr>\n",
       "      <th>congress</th>\n",
       "      <td>2294.0</td>\n",
       "      <td>75.812990</td>\n",
       "      <td>195.378451</td>\n",
       "      <td>-1.0</td>\n",
       "      <td>15.0</td>\n",
       "      <td>40.0</td>\n",
       "      <td>50.0</td>\n",
       "      <td>998.0</td>\n",
       "    </tr>\n",
       "    <tr>\n",
       "      <th>rich1</th>\n",
       "      <td>2294.0</td>\n",
       "      <td>102.053618</td>\n",
       "      <td>240.327383</td>\n",
       "      <td>-1.0</td>\n",
       "      <td>15.0</td>\n",
       "      <td>50.0</td>\n",
       "      <td>60.0</td>\n",
       "      <td>998.0</td>\n",
       "    </tr>\n",
       "    <tr>\n",
       "      <th>unemployed</th>\n",
       "      <td>2294.0</td>\n",
       "      <td>95.384917</td>\n",
       "      <td>187.429109</td>\n",
       "      <td>-1.0</td>\n",
       "      <td>50.0</td>\n",
       "      <td>60.0</td>\n",
       "      <td>80.0</td>\n",
       "      <td>998.0</td>\n",
       "    </tr>\n",
       "    <tr>\n",
       "      <th>mothers</th>\n",
       "      <td>2294.0</td>\n",
       "      <td>94.789015</td>\n",
       "      <td>178.053839</td>\n",
       "      <td>-1.0</td>\n",
       "      <td>50.0</td>\n",
       "      <td>60.0</td>\n",
       "      <td>85.0</td>\n",
       "      <td>998.0</td>\n",
       "    </tr>\n",
       "    <tr>\n",
       "      <th>immigrants</th>\n",
       "      <td>2294.0</td>\n",
       "      <td>89.073235</td>\n",
       "      <td>223.588169</td>\n",
       "      <td>-1.0</td>\n",
       "      <td>10.0</td>\n",
       "      <td>40.0</td>\n",
       "      <td>60.0</td>\n",
       "      <td>998.0</td>\n",
       "    </tr>\n",
       "    <tr>\n",
       "      <th>teachers</th>\n",
       "      <td>2294.0</td>\n",
       "      <td>95.728422</td>\n",
       "      <td>151.326508</td>\n",
       "      <td>-1.0</td>\n",
       "      <td>60.0</td>\n",
       "      <td>80.0</td>\n",
       "      <td>90.0</td>\n",
       "      <td>998.0</td>\n",
       "    </tr>\n",
       "  </tbody>\n",
       "</table>\n",
       "</div>"
      ],
      "text/plain": [
       "             count        mean         std   min   25%   50%   75%    max\n",
       "age         2294.0   48.899303   16.457583  18.0  36.0  51.0  62.0   81.0\n",
       "sex         2294.0    1.550131    0.497589   1.0   1.0   2.0   2.0    2.0\n",
       "edu         2294.0    2.806016    0.975647   1.0   2.0   3.0   4.0    4.0\n",
       "race        2294.0    1.815606    0.827725   1.0   1.0   2.0   2.0    5.0\n",
       "welfare     2294.0   83.614211  177.877455  -1.0  40.0  50.0  70.0  998.0\n",
       "white       2294.0   95.629468  165.648334  -1.0  50.0  70.0  85.0  998.0\n",
       "gays        2294.0   95.956844  203.805058  -1.0  40.0  50.0  80.0  998.0\n",
       "congress    2294.0   75.812990  195.378451  -1.0  15.0  40.0  50.0  998.0\n",
       "rich1       2294.0  102.053618  240.327383  -1.0  15.0  50.0  60.0  998.0\n",
       "unemployed  2294.0   95.384917  187.429109  -1.0  50.0  60.0  80.0  998.0\n",
       "mothers     2294.0   94.789015  178.053839  -1.0  50.0  60.0  85.0  998.0\n",
       "immigrants  2294.0   89.073235  223.588169  -1.0  10.0  40.0  60.0  998.0\n",
       "teachers    2294.0   95.728422  151.326508  -1.0  60.0  80.0  90.0  998.0"
      ]
     },
     "execution_count": 4,
     "metadata": {},
     "output_type": "execute_result"
    }
   ],
   "source": [
    "# Here we will look at these variables: 'welfare', 'gays', 'immigrants', 'white', 'teachers'\n",
    "# data = data.drop(['congress', 'rich1', 'unemployed', 'mother'], axis=1)\n",
    "data.describe().T"
   ]
  },
  {
   "cell_type": "code",
   "execution_count": 5,
   "metadata": {},
   "outputs": [
    {
     "data": {
      "text/html": [
       "<div>\n",
       "<style scoped>\n",
       "    .dataframe tbody tr th:only-of-type {\n",
       "        vertical-align: middle;\n",
       "    }\n",
       "\n",
       "    .dataframe tbody tr th {\n",
       "        vertical-align: top;\n",
       "    }\n",
       "\n",
       "    .dataframe thead th {\n",
       "        text-align: right;\n",
       "    }\n",
       "</style>\n",
       "<table border=\"1\" class=\"dataframe\">\n",
       "  <thead>\n",
       "    <tr style=\"text-align: right;\">\n",
       "      <th></th>\n",
       "      <th>count</th>\n",
       "      <th>mean</th>\n",
       "      <th>std</th>\n",
       "      <th>min</th>\n",
       "      <th>25%</th>\n",
       "      <th>50%</th>\n",
       "      <th>75%</th>\n",
       "      <th>max</th>\n",
       "    </tr>\n",
       "  </thead>\n",
       "  <tbody>\n",
       "    <tr>\n",
       "      <th>age</th>\n",
       "      <td>2294.0</td>\n",
       "      <td>48.899303</td>\n",
       "      <td>16.457583</td>\n",
       "      <td>18.0</td>\n",
       "      <td>36.0</td>\n",
       "      <td>51.0</td>\n",
       "      <td>62.0</td>\n",
       "      <td>81.0</td>\n",
       "    </tr>\n",
       "    <tr>\n",
       "      <th>sex</th>\n",
       "      <td>2294.0</td>\n",
       "      <td>1.550131</td>\n",
       "      <td>0.497589</td>\n",
       "      <td>1.0</td>\n",
       "      <td>1.0</td>\n",
       "      <td>2.0</td>\n",
       "      <td>2.0</td>\n",
       "      <td>2.0</td>\n",
       "    </tr>\n",
       "    <tr>\n",
       "      <th>edu</th>\n",
       "      <td>2294.0</td>\n",
       "      <td>2.806016</td>\n",
       "      <td>0.975647</td>\n",
       "      <td>1.0</td>\n",
       "      <td>2.0</td>\n",
       "      <td>3.0</td>\n",
       "      <td>4.0</td>\n",
       "      <td>4.0</td>\n",
       "    </tr>\n",
       "    <tr>\n",
       "      <th>race</th>\n",
       "      <td>2294.0</td>\n",
       "      <td>1.815606</td>\n",
       "      <td>0.827725</td>\n",
       "      <td>1.0</td>\n",
       "      <td>1.0</td>\n",
       "      <td>2.0</td>\n",
       "      <td>2.0</td>\n",
       "      <td>5.0</td>\n",
       "    </tr>\n",
       "    <tr>\n",
       "      <th>welfare</th>\n",
       "      <td>2128.0</td>\n",
       "      <td>51.719455</td>\n",
       "      <td>23.997860</td>\n",
       "      <td>0.0</td>\n",
       "      <td>40.0</td>\n",
       "      <td>50.0</td>\n",
       "      <td>70.0</td>\n",
       "      <td>100.0</td>\n",
       "    </tr>\n",
       "    <tr>\n",
       "      <th>white</th>\n",
       "      <td>2113.0</td>\n",
       "      <td>69.393280</td>\n",
       "      <td>21.908234</td>\n",
       "      <td>0.0</td>\n",
       "      <td>50.0</td>\n",
       "      <td>70.0</td>\n",
       "      <td>85.0</td>\n",
       "      <td>100.0</td>\n",
       "    </tr>\n",
       "    <tr>\n",
       "      <th>gays</th>\n",
       "      <td>2079.0</td>\n",
       "      <td>53.607023</td>\n",
       "      <td>29.649119</td>\n",
       "      <td>0.0</td>\n",
       "      <td>40.0</td>\n",
       "      <td>50.0</td>\n",
       "      <td>75.0</td>\n",
       "      <td>100.0</td>\n",
       "    </tr>\n",
       "    <tr>\n",
       "      <th>congress</th>\n",
       "      <td>2101.0</td>\n",
       "      <td>36.746787</td>\n",
       "      <td>24.549147</td>\n",
       "      <td>0.0</td>\n",
       "      <td>15.0</td>\n",
       "      <td>40.0</td>\n",
       "      <td>50.0</td>\n",
       "      <td>100.0</td>\n",
       "    </tr>\n",
       "    <tr>\n",
       "      <th>rich1</th>\n",
       "      <td>2033.0</td>\n",
       "      <td>40.592228</td>\n",
       "      <td>27.943815</td>\n",
       "      <td>0.0</td>\n",
       "      <td>15.0</td>\n",
       "      <td>50.0</td>\n",
       "      <td>50.0</td>\n",
       "      <td>100.0</td>\n",
       "    </tr>\n",
       "    <tr>\n",
       "      <th>unemployed</th>\n",
       "      <td>2092.0</td>\n",
       "      <td>60.281071</td>\n",
       "      <td>23.889879</td>\n",
       "      <td>0.0</td>\n",
       "      <td>50.0</td>\n",
       "      <td>60.0</td>\n",
       "      <td>75.0</td>\n",
       "      <td>100.0</td>\n",
       "    </tr>\n",
       "    <tr>\n",
       "      <th>mothers</th>\n",
       "      <td>2115.0</td>\n",
       "      <td>63.219385</td>\n",
       "      <td>23.720106</td>\n",
       "      <td>0.0</td>\n",
       "      <td>50.0</td>\n",
       "      <td>60.0</td>\n",
       "      <td>85.0</td>\n",
       "      <td>100.0</td>\n",
       "    </tr>\n",
       "    <tr>\n",
       "      <th>immigrants</th>\n",
       "      <td>2060.0</td>\n",
       "      <td>36.746117</td>\n",
       "      <td>27.572997</td>\n",
       "      <td>0.0</td>\n",
       "      <td>15.0</td>\n",
       "      <td>40.0</td>\n",
       "      <td>50.0</td>\n",
       "      <td>100.0</td>\n",
       "    </tr>\n",
       "    <tr>\n",
       "      <th>teachers</th>\n",
       "      <td>2144.0</td>\n",
       "      <td>74.072761</td>\n",
       "      <td>21.721530</td>\n",
       "      <td>0.0</td>\n",
       "      <td>60.0</td>\n",
       "      <td>80.0</td>\n",
       "      <td>90.0</td>\n",
       "      <td>100.0</td>\n",
       "    </tr>\n",
       "  </tbody>\n",
       "</table>\n",
       "</div>"
      ],
      "text/plain": [
       "             count       mean        std   min   25%   50%   75%    max\n",
       "age         2294.0  48.899303  16.457583  18.0  36.0  51.0  62.0   81.0\n",
       "sex         2294.0   1.550131   0.497589   1.0   1.0   2.0   2.0    2.0\n",
       "edu         2294.0   2.806016   0.975647   1.0   2.0   3.0   4.0    4.0\n",
       "race        2294.0   1.815606   0.827725   1.0   1.0   2.0   2.0    5.0\n",
       "welfare     2128.0  51.719455  23.997860   0.0  40.0  50.0  70.0  100.0\n",
       "white       2113.0  69.393280  21.908234   0.0  50.0  70.0  85.0  100.0\n",
       "gays        2079.0  53.607023  29.649119   0.0  40.0  50.0  75.0  100.0\n",
       "congress    2101.0  36.746787  24.549147   0.0  15.0  40.0  50.0  100.0\n",
       "rich1       2033.0  40.592228  27.943815   0.0  15.0  50.0  50.0  100.0\n",
       "unemployed  2092.0  60.281071  23.889879   0.0  50.0  60.0  75.0  100.0\n",
       "mothers     2115.0  63.219385  23.720106   0.0  50.0  60.0  85.0  100.0\n",
       "immigrants  2060.0  36.746117  27.572997   0.0  15.0  40.0  50.0  100.0\n",
       "teachers    2144.0  74.072761  21.721530   0.0  60.0  80.0  90.0  100.0"
      ]
     },
     "execution_count": 5,
     "metadata": {},
     "output_type": "execute_result"
    }
   ],
   "source": [
    "# change cell values -1 Refused and 998 Don't Recognize to NaN\n",
    "data = data.applymap(lambda x: np.NaN if x == -1.0 or x == -2.0 or x == 998.0 else x)\n",
    "data.describe().T"
   ]
  },
  {
   "cell_type": "code",
   "execution_count": 6,
   "metadata": {},
   "outputs": [
    {
     "name": "stdout",
     "output_type": "stream",
     "text": [
      "<class 'pandas.core.frame.DataFrame'>\n",
      "RangeIndex: 2294 entries, 0 to 2293\n",
      "Data columns (total 13 columns):\n",
      "age           2294 non-null int64\n",
      "sex           2294 non-null int64\n",
      "edu           2294 non-null int64\n",
      "race          2294 non-null int64\n",
      "welfare       2128 non-null float64\n",
      "white         2113 non-null float64\n",
      "gays          2079 non-null float64\n",
      "congress      2101 non-null float64\n",
      "rich1         2033 non-null float64\n",
      "unemployed    2092 non-null float64\n",
      "mothers       2115 non-null float64\n",
      "immigrants    2060 non-null float64\n",
      "teachers      2144 non-null float64\n",
      "dtypes: float64(9), int64(4)\n",
      "memory usage: 233.1 KB\n"
     ]
    }
   ],
   "source": [
    "data.info()"
   ]
  },
  {
   "cell_type": "code",
   "execution_count": 7,
   "metadata": {},
   "outputs": [],
   "source": [
    "data = data.dropna()"
   ]
  },
  {
   "cell_type": "code",
   "execution_count": 8,
   "metadata": {},
   "outputs": [],
   "source": [
    "data.edu = data.edu.astype('category')\n",
    "data.race = data.race.astype('category')\n",
    "\n",
    "def classify_age(age):\n",
    "    if age < 30:\n",
    "        return 1\n",
    "    elif age < 50:\n",
    "        return 2\n",
    "    elif age < 70:\n",
    "        return 3\n",
    "    else:\n",
    "        return 4\n",
    "\n",
    "data['age_cat'] = data['age'].apply(classify_age)\n",
    "data.age_cat = data.age_cat.astype('category')"
   ]
  },
  {
   "cell_type": "code",
   "execution_count": 9,
   "metadata": {},
   "outputs": [],
   "source": [
    "data['age_cat2'] = pd.qcut(data['age'], 4, labels=['young', 'middle', 'mature', 'senior'])"
   ]
  },
  {
   "cell_type": "code",
   "execution_count": 10,
   "metadata": {},
   "outputs": [
    {
     "data": {
      "text/html": [
       "<div>\n",
       "<style scoped>\n",
       "    .dataframe tbody tr th:only-of-type {\n",
       "        vertical-align: middle;\n",
       "    }\n",
       "\n",
       "    .dataframe tbody tr th {\n",
       "        vertical-align: top;\n",
       "    }\n",
       "\n",
       "    .dataframe thead th {\n",
       "        text-align: right;\n",
       "    }\n",
       "</style>\n",
       "<table border=\"1\" class=\"dataframe\">\n",
       "  <thead>\n",
       "    <tr style=\"text-align: right;\">\n",
       "      <th></th>\n",
       "      <th>0</th>\n",
       "      <th>1</th>\n",
       "      <th>2</th>\n",
       "      <th>3</th>\n",
       "      <th>5</th>\n",
       "    </tr>\n",
       "  </thead>\n",
       "  <tbody>\n",
       "    <tr>\n",
       "      <th>age</th>\n",
       "      <td>56</td>\n",
       "      <td>59</td>\n",
       "      <td>36</td>\n",
       "      <td>70</td>\n",
       "      <td>18</td>\n",
       "    </tr>\n",
       "    <tr>\n",
       "      <th>sex</th>\n",
       "      <td>2</td>\n",
       "      <td>1</td>\n",
       "      <td>1</td>\n",
       "      <td>1</td>\n",
       "      <td>1</td>\n",
       "    </tr>\n",
       "    <tr>\n",
       "      <th>edu</th>\n",
       "      <td>2</td>\n",
       "      <td>1</td>\n",
       "      <td>4</td>\n",
       "      <td>4</td>\n",
       "      <td>1</td>\n",
       "    </tr>\n",
       "    <tr>\n",
       "      <th>race</th>\n",
       "      <td>4</td>\n",
       "      <td>2</td>\n",
       "      <td>2</td>\n",
       "      <td>2</td>\n",
       "      <td>1</td>\n",
       "    </tr>\n",
       "    <tr>\n",
       "      <th>welfare</th>\n",
       "      <td>50</td>\n",
       "      <td>80</td>\n",
       "      <td>70</td>\n",
       "      <td>50</td>\n",
       "      <td>0</td>\n",
       "    </tr>\n",
       "    <tr>\n",
       "      <th>white</th>\n",
       "      <td>50</td>\n",
       "      <td>50</td>\n",
       "      <td>78</td>\n",
       "      <td>50</td>\n",
       "      <td>85</td>\n",
       "    </tr>\n",
       "    <tr>\n",
       "      <th>gays</th>\n",
       "      <td>0</td>\n",
       "      <td>0</td>\n",
       "      <td>55</td>\n",
       "      <td>100</td>\n",
       "      <td>50</td>\n",
       "    </tr>\n",
       "    <tr>\n",
       "      <th>congress</th>\n",
       "      <td>60</td>\n",
       "      <td>10</td>\n",
       "      <td>55</td>\n",
       "      <td>40</td>\n",
       "      <td>0</td>\n",
       "    </tr>\n",
       "    <tr>\n",
       "      <th>rich1</th>\n",
       "      <td>50</td>\n",
       "      <td>15</td>\n",
       "      <td>15</td>\n",
       "      <td>1</td>\n",
       "      <td>50</td>\n",
       "    </tr>\n",
       "    <tr>\n",
       "      <th>unemployed</th>\n",
       "      <td>50</td>\n",
       "      <td>70</td>\n",
       "      <td>80</td>\n",
       "      <td>50</td>\n",
       "      <td>50</td>\n",
       "    </tr>\n",
       "    <tr>\n",
       "      <th>mothers</th>\n",
       "      <td>50</td>\n",
       "      <td>60</td>\n",
       "      <td>90</td>\n",
       "      <td>100</td>\n",
       "      <td>85</td>\n",
       "    </tr>\n",
       "    <tr>\n",
       "      <th>immigrants</th>\n",
       "      <td>50</td>\n",
       "      <td>10</td>\n",
       "      <td>70</td>\n",
       "      <td>30</td>\n",
       "      <td>0</td>\n",
       "    </tr>\n",
       "    <tr>\n",
       "      <th>teachers</th>\n",
       "      <td>50</td>\n",
       "      <td>80</td>\n",
       "      <td>100</td>\n",
       "      <td>100</td>\n",
       "      <td>85</td>\n",
       "    </tr>\n",
       "    <tr>\n",
       "      <th>age_cat</th>\n",
       "      <td>3</td>\n",
       "      <td>3</td>\n",
       "      <td>2</td>\n",
       "      <td>4</td>\n",
       "      <td>1</td>\n",
       "    </tr>\n",
       "    <tr>\n",
       "      <th>age_cat2</th>\n",
       "      <td>mature</td>\n",
       "      <td>mature</td>\n",
       "      <td>young</td>\n",
       "      <td>senior</td>\n",
       "      <td>young</td>\n",
       "    </tr>\n",
       "  </tbody>\n",
       "</table>\n",
       "</div>"
      ],
      "text/plain": [
       "                 0       1      2       3      5\n",
       "age             56      59     36      70     18\n",
       "sex              2       1      1       1      1\n",
       "edu              2       1      4       4      1\n",
       "race             4       2      2       2      1\n",
       "welfare         50      80     70      50      0\n",
       "white           50      50     78      50     85\n",
       "gays             0       0     55     100     50\n",
       "congress        60      10     55      40      0\n",
       "rich1           50      15     15       1     50\n",
       "unemployed      50      70     80      50     50\n",
       "mothers         50      60     90     100     85\n",
       "immigrants      50      10     70      30      0\n",
       "teachers        50      80    100     100     85\n",
       "age_cat          3       3      2       4      1\n",
       "age_cat2    mature  mature  young  senior  young"
      ]
     },
     "execution_count": 10,
     "metadata": {},
     "output_type": "execute_result"
    }
   ],
   "source": [
    "data.head().T"
   ]
  },
  {
   "cell_type": "code",
   "execution_count": 11,
   "metadata": {},
   "outputs": [
    {
     "data": {
      "text/plain": [
       "2    984\n",
       "1    869\n",
       "Name: sex, dtype: int64"
      ]
     },
     "execution_count": 11,
     "metadata": {},
     "output_type": "execute_result"
    }
   ],
   "source": [
    "data.sex.value_counts()"
   ]
  },
  {
   "cell_type": "code",
   "execution_count": 12,
   "metadata": {},
   "outputs": [
    {
     "data": {
      "text/plain": [
       "4    616\n",
       "3    561\n",
       "2    532\n",
       "1    144\n",
       "Name: edu, dtype: int64"
      ]
     },
     "execution_count": 12,
     "metadata": {},
     "output_type": "execute_result"
    }
   ],
   "source": [
    "data.edu.value_counts()"
   ]
  },
  {
   "cell_type": "code",
   "execution_count": 13,
   "metadata": {},
   "outputs": [
    {
     "data": {
      "text/plain": [
       "2    994\n",
       "1    712\n",
       "4     90\n",
       "3     32\n",
       "5     25\n",
       "Name: race, dtype: int64"
      ]
     },
     "execution_count": 13,
     "metadata": {},
     "output_type": "execute_result"
    }
   ],
   "source": [
    "data.race.value_counts()"
   ]
  },
  {
   "cell_type": "code",
   "execution_count": 14,
   "metadata": {},
   "outputs": [
    {
     "data": {
      "text/plain": [
       "3    826\n",
       "2    553\n",
       "1    284\n",
       "4    190\n",
       "Name: age_cat, dtype: int64"
      ]
     },
     "execution_count": 14,
     "metadata": {},
     "output_type": "execute_result"
    }
   ],
   "source": [
    "data.age_cat.value_counts()"
   ]
  },
  {
   "cell_type": "markdown",
   "metadata": {},
   "source": [
    "# ANOVA\n",
    "\n",
    "* Exploring which variables are significantly associated with 'sex'\n",
    "* Exploring which variables are significantly associated with 'edu' (education)\n",
    "* Exploring which variables are significantly associated with 'age'"
   ]
  },
  {
   "cell_type": "code",
   "execution_count": 15,
   "metadata": {},
   "outputs": [
    {
     "name": "stdout",
     "output_type": "stream",
     "text": [
      "X: sex Y: welfare     , F-statistic: 14.4023,\tProb (F-statistic): 0.0002**\n",
      "X: sex Y: white       , F-statistic: 0.0543,\tProb (F-statistic): 0.8158\n",
      "X: sex Y: gays        , F-statistic: 27.0980,\tProb (F-statistic): 0.0000**\n",
      "X: sex Y: immigrants  , F-statistic: 5.5794,\tProb (F-statistic): 0.0183\n",
      "X: sex Y: mothers     , F-statistic: 15.1112,\tProb (F-statistic): 0.0001**\n",
      "X: sex Y: teachers    , F-statistic: 3.2156,\tProb (F-statistic): 0.0731\n"
     ]
    }
   ],
   "source": [
    "# exploring which variables are significantly associated with 'sex'\n",
    "y_vars = ['welfare', 'white', 'gays', 'immigrants', 'mothers', 'teachers']\n",
    "x_var = 'sex'\n",
    "\n",
    "for y_var in y_vars:\n",
    "    formula = f'{y_var} ~ C({x_var})'\n",
    "    model = ols(formula=formula, data=data).fit()\n",
    "    flag = '**' if model.f_pvalue < .005 else ''\n",
    "    print(f'X: {x_var} Y: {y_var:<12}, F-statistic: {model.fvalue:.4f},\\tProb (F-statistic): {model.f_pvalue:.4f}{flag}')"
   ]
  },
  {
   "cell_type": "code",
   "execution_count": 16,
   "metadata": {},
   "outputs": [
    {
     "name": "stdout",
     "output_type": "stream",
     "text": [
      "X: edu Y: welfare     , F-statistic: 5.2875,\tProb (F-statistic): 0.0012**\n",
      "X: edu Y: white       , F-statistic: 1.5387,\tProb (F-statistic): 0.2025\n",
      "X: edu Y: gays        , F-statistic: 6.3837,\tProb (F-statistic): 0.0003**\n",
      "X: edu Y: immigrants  , F-statistic: 8.7417,\tProb (F-statistic): 0.0000**\n",
      "X: edu Y: mothers     , F-statistic: 3.7669,\tProb (F-statistic): 0.0104\n",
      "X: edu Y: teachers    , F-statistic: 9.8705,\tProb (F-statistic): 0.0000**\n"
     ]
    }
   ],
   "source": [
    "# exploring which variables are significantly associated with 'sex'\n",
    "y_vars = ['welfare', 'white', 'gays', 'immigrants', 'mothers', 'teachers']\n",
    "x_var = 'edu'\n",
    "\n",
    "for y_var in y_vars:\n",
    "    formula = f'{y_var} ~ C({x_var})'\n",
    "    model = ols(formula=formula, data=data).fit()\n",
    "    flag = '**' if model.f_pvalue < .005 else ''\n",
    "    print(f'X: {x_var} Y: {y_var:<12}, F-statistic: {model.fvalue:.4f},\\tProb (F-statistic): {model.f_pvalue:.4f}{flag}')"
   ]
  },
  {
   "cell_type": "code",
   "execution_count": 17,
   "metadata": {},
   "outputs": [
    {
     "name": "stdout",
     "output_type": "stream",
     "text": [
      "X: age_cat2 Y: welfare     , F-statistic: 4.8744,\tProb (F-statistic): 0.0022**\n",
      "X: age_cat2 Y: white       , F-statistic: 7.7239,\tProb (F-statistic): 0.0000**\n",
      "X: age_cat2 Y: gays        , F-statistic: 1.4384,\tProb (F-statistic): 0.2297\n",
      "X: age_cat2 Y: immigrants  , F-statistic: 0.5995,\tProb (F-statistic): 0.6154\n",
      "X: age_cat2 Y: mothers     , F-statistic: 4.6416,\tProb (F-statistic): 0.0031**\n",
      "X: age_cat2 Y: teachers    , F-statistic: 6.9838,\tProb (F-statistic): 0.0001**\n"
     ]
    }
   ],
   "source": [
    "# exploring which variables are significantly associated with 'sex'\n",
    "y_vars = ['welfare', 'white', 'gays', 'immigrants', 'mothers', 'teachers']\n",
    "x_var = 'age_cat2'\n",
    "\n",
    "for y_var in y_vars:\n",
    "    formula = f'{y_var} ~ C({x_var})'\n",
    "    model = ols(formula=formula, data=data).fit()\n",
    "    flag = '**' if model.f_pvalue < .005 else ''\n",
    "    print(f'X: {x_var} Y: {y_var:<12}, F-statistic: {model.fvalue:.4f},\\tProb (F-statistic): {model.f_pvalue:.4f}{flag}')"
   ]
  },
  {
   "cell_type": "markdown",
   "metadata": {},
   "source": [
    "# Testing moderation in the context of ANOVA\n",
    "\n",
    "First, we want to know how one rate unmarried mothers given one's gender by ANOVA. The result is significant and the X (sex) only has two level so no need for the post hoc test.\n",
    "\n",
    "Then, we divide age into four groups (young, middle, mature and senior). The middle and young groups retain a significant p-value and mature groups are not far off. If we look at the chart ('Gender and Age Group' with 'Rating unmarried mothers'), the gap between gender does shrink a bit in the senior group.\n",
    "\n",
    "There is a significant but weak statistical interaction between sex and how one rate unmarried mothers but the age group doesn't not moderate the relationship.\n"
   ]
  },
  {
   "cell_type": "code",
   "execution_count": 18,
   "metadata": {},
   "outputs": [],
   "source": [
    "# Set Target Response Variable\n",
    "# explored variables and most siginificant factor: \n",
    "#   mothers - sex (yes), age (young, senior)\n",
    "#   gays - sex (yes), age (no)\n",
    "#   immigrants - sex (yes), age (no)\n",
    "#   teachers - sex(no), age (yes)\n",
    "resp = 'mothers'"
   ]
  },
  {
   "cell_type": "code",
   "execution_count": 19,
   "metadata": {},
   "outputs": [
    {
     "name": "stdout",
     "output_type": "stream",
     "text": [
      "       mothers\n",
      "sex           \n",
      "1    60.565017\n",
      "2    64.793699\n",
      "       mothers\n",
      "sex           \n",
      "1    23.393833\n",
      "2    23.345499\n"
     ]
    },
    {
     "data": {
      "text/plain": [
       "Text(10.05,0.5,'Rating unmarried mothers')"
      ]
     },
     "execution_count": 19,
     "metadata": {},
     "output_type": "execute_result"
    },
    {
     "data": {
      "image/png": "[encoded data removed]",
      "text/plain": [
       "<matplotlib.figure.Figure at 0x1069eaf98>"
      ]
     },
     "metadata": {},
     "output_type": "display_data"
    }
   ],
   "source": [
    "data1 = data[['sex', resp]]\n",
    "print(data1.groupby('sex').mean())\n",
    "print(data1.groupby('sex').std())\n",
    "\n",
    "sns.factorplot(x='sex', y='mothers', data=data1, kind=\"bar\", ci=None)\n",
    "plt.xlabel('Gender')\n",
    "plt.ylabel('Rating unmarried mothers')"
   ]
  },
  {
   "cell_type": "code",
   "execution_count": 20,
   "metadata": {},
   "outputs": [
    {
     "name": "stdout",
     "output_type": "stream",
     "text": [
      "            mothers\n",
      "age_cat2           \n",
      "young     62.932914\n",
      "middle    64.106472\n",
      "mature    64.758542\n",
      "senior    59.460699\n",
      "            mothers\n",
      "age_cat2           \n",
      "young     25.439575\n",
      "middle    23.279346\n",
      "mature    22.775678\n",
      "senior    21.796442\n"
     ]
    },
    {
     "data": {
      "text/plain": [
       "Text(10.05,0.5,'Rating unmarried mothers')"
      ]
     },
     "execution_count": 20,
     "metadata": {},
     "output_type": "execute_result"
    },
    {
     "data": {
      "image/png": "[encoded data removed]",
      "text/plain": [
       "<matplotlib.figure.Figure at 0x112a04588>"
      ]
     },
     "metadata": {},
     "output_type": "display_data"
    }
   ],
   "source": [
    "data1 = data[['age_cat2', resp]]\n",
    "print(data1.groupby('age_cat2').mean())\n",
    "print(data1.groupby('age_cat2').std())\n",
    "\n",
    "sns.factorplot(x='age_cat2', y='mothers', data=data1, kind=\"bar\", ci=None)\n",
    "plt.xlabel('Age Group')\n",
    "plt.ylabel('Rating unmarried mothers')"
   ]
  },
  {
   "cell_type": "code",
   "execution_count": 21,
   "metadata": {},
   "outputs": [
    {
     "name": "stdout",
     "output_type": "stream",
     "text": [
      "                mothers\n",
      "age_cat2 sex           \n",
      "young    1    60.101852\n",
      "         2    65.275862\n",
      "middle   1    61.437768\n",
      "         2    66.634146\n",
      "mature   1    62.808824\n",
      "         2    66.451064\n",
      "senior   1    57.967593\n",
      "         2    60.793388\n",
      "                mothers\n",
      "age_cat2 sex           \n",
      "young    1    24.982018\n",
      "         2    25.623617\n",
      "middle   1    23.461758\n",
      "         2    22.866522\n",
      "mature   1    22.621924\n",
      "         2    22.821323\n",
      "senior   1    22.261738\n",
      "         2    21.330405\n"
     ]
    },
    {
     "data": {
      "text/plain": [
       "Text(27.3365,0.5,'Rating unmarried mothers')"
      ]
     },
     "execution_count": 21,
     "metadata": {},
     "output_type": "execute_result"
    },
    {
     "data": {
      "image/png": "[encoded data removed]",
      "text/plain": [
       "<matplotlib.figure.Figure at 0x112aa5b70>"
      ]
     },
     "metadata": {},
     "output_type": "display_data"
    }
   ],
   "source": [
    "data1 = data[['age_cat2', 'sex', resp]]\n",
    "print(data1.groupby(['age_cat2', 'sex']).mean())\n",
    "print(data1.groupby(['age_cat2', 'sex']).std())\n",
    "\n",
    "sns.factorplot(x='age_cat2', y='mothers', hue='sex', data=data1, kind=\"bar\", ci=None)\n",
    "plt.xlabel('Gender and Age Group')\n",
    "plt.ylabel('Rating unmarried mothers')"
   ]
  },
  {
   "cell_type": "code",
   "execution_count": 22,
   "metadata": {},
   "outputs": [
    {
     "data": {
      "text/html": [
       "<table class=\"simpletable\">\n",
       "<caption>OLS Regression Results</caption>\n",
       "<tr>\n",
       "  <th>Dep. Variable:</th>         <td>mothers</td>     <th>  R-squared:         </th> <td>   0.008</td> \n",
       "</tr>\n",
       "<tr>\n",
       "  <th>Model:</th>                   <td>OLS</td>       <th>  Adj. R-squared:    </th> <td>   0.008</td> \n",
       "</tr>\n",
       "<tr>\n",
       "  <th>Method:</th>             <td>Least Squares</td>  <th>  F-statistic:       </th> <td>   15.11</td> \n",
       "</tr>\n",
       "<tr>\n",
       "  <th>Date:</th>             <td>Mon, 26 Mar 2018</td> <th>  Prob (F-statistic):</th> <td>0.000105</td> \n",
       "</tr>\n",
       "<tr>\n",
       "  <th>Time:</th>                 <td>12:03:00</td>     <th>  Log-Likelihood:    </th> <td> -8467.8</td> \n",
       "</tr>\n",
       "<tr>\n",
       "  <th>No. Observations:</th>      <td>  1853</td>      <th>  AIC:               </th> <td>1.694e+04</td>\n",
       "</tr>\n",
       "<tr>\n",
       "  <th>Df Residuals:</th>          <td>  1851</td>      <th>  BIC:               </th> <td>1.695e+04</td>\n",
       "</tr>\n",
       "<tr>\n",
       "  <th>Df Model:</th>              <td>     1</td>      <th>                     </th>     <td> </td>    \n",
       "</tr>\n",
       "<tr>\n",
       "  <th>Covariance Type:</th>      <td>nonrobust</td>    <th>                     </th>     <td> </td>    \n",
       "</tr>\n",
       "</table>\n",
       "<table class=\"simpletable\">\n",
       "<tr>\n",
       "      <td></td>         <th>coef</th>     <th>std err</th>      <th>t</th>      <th>P>|t|</th>  <th>[0.025</th>    <th>0.975]</th>  \n",
       "</tr>\n",
       "<tr>\n",
       "  <th>Intercept</th> <td>   56.3363</td> <td>    1.752</td> <td>   32.161</td> <td> 0.000</td> <td>   52.901</td> <td>   59.772</td>\n",
       "</tr>\n",
       "<tr>\n",
       "  <th>sex</th>       <td>    4.2287</td> <td>    1.088</td> <td>    3.887</td> <td> 0.000</td> <td>    2.095</td> <td>    6.362</td>\n",
       "</tr>\n",
       "</table>\n",
       "<table class=\"simpletable\">\n",
       "<tr>\n",
       "  <th>Omnibus:</th>       <td>20.853</td> <th>  Durbin-Watson:     </th> <td>   1.927</td>\n",
       "</tr>\n",
       "<tr>\n",
       "  <th>Prob(Omnibus):</th> <td> 0.000</td> <th>  Jarque-Bera (JB):  </th> <td>  20.416</td>\n",
       "</tr>\n",
       "<tr>\n",
       "  <th>Skew:</th>          <td>-0.231</td> <th>  Prob(JB):          </th> <td>3.69e-05</td>\n",
       "</tr>\n",
       "<tr>\n",
       "  <th>Kurtosis:</th>      <td> 2.776</td> <th>  Cond. No.          </th> <td>    7.06</td>\n",
       "</tr>\n",
       "</table>"
      ],
      "text/plain": [
       "<class 'statsmodels.iolib.summary.Summary'>\n",
       "\"\"\"\n",
       "                            OLS Regression Results                            \n",
       "==============================================================================\n",
       "Dep. Variable:                mothers   R-squared:                       0.008\n",
       "Model:                            OLS   Adj. R-squared:                  0.008\n",
       "Method:                 Least Squares   F-statistic:                     15.11\n",
       "Date:                Mon, 26 Mar 2018   Prob (F-statistic):           0.000105\n",
       "Time:                        12:03:00   Log-Likelihood:                -8467.8\n",
       "No. Observations:                1853   AIC:                         1.694e+04\n",
       "Df Residuals:                    1851   BIC:                         1.695e+04\n",
       "Df Model:                           1                                         \n",
       "Covariance Type:            nonrobust                                         \n",
       "==============================================================================\n",
       "                 coef    std err          t      P>|t|      [0.025      0.975]\n",
       "------------------------------------------------------------------------------\n",
       "Intercept     56.3363      1.752     32.161      0.000      52.901      59.772\n",
       "sex            4.2287      1.088      3.887      0.000       2.095       6.362\n",
       "==============================================================================\n",
       "Omnibus:                       20.853   Durbin-Watson:                   1.927\n",
       "Prob(Omnibus):                  0.000   Jarque-Bera (JB):               20.416\n",
       "Skew:                          -0.231   Prob(JB):                     3.69e-05\n",
       "Kurtosis:                       2.776   Cond. No.                         7.06\n",
       "==============================================================================\n",
       "\n",
       "Warnings:\n",
       "[1] Standard Errors assume that the covariance matrix of the errors is correctly specified.\n",
       "\"\"\""
      ]
     },
     "execution_count": 22,
     "metadata": {},
     "output_type": "execute_result"
    }
   ],
   "source": [
    "model1a = ols(formula=f'{resp} ~ sex', data=data).fit()\n",
    "model1a.summary()"
   ]
  },
  {
   "cell_type": "code",
   "execution_count": 269,
   "metadata": {},
   "outputs": [
    {
     "name": "stdout",
     "output_type": "stream",
     "text": [
      "Young Group - X: sex, Y: mothers, F-statistic: 4.9293,\tProb (F-statistic): 0.0269\n",
      "Middle Group - X: sex, Y: mothers, F-statistic: 6.0250,\tProb (F-statistic): 0.0145\n",
      "Mature Group - X: sex, Y: mothers, F-statistic: 2.8042,\tProb (F-statistic): 0.0947\n",
      "Senior Group - X: sex, Y: mothers, F-statistic: 1.9222,\tProb (F-statistic): 0.1663\n"
     ]
    }
   ],
   "source": [
    "data1_young = data[data['age_cat2'] == 'young']\n",
    "data1_middle = data[data['age_cat2'] == 'middle']\n",
    "data1_mature = data[data['age_cat2'] == 'mature']\n",
    "data1_senior = data[data['age_cat2'] == 'senior']\n",
    "y_var = resp\n",
    "x_var = 'sex'\n",
    "formula = f'{y_var} ~ C({x_var})'\n",
    "\n",
    "model = ols(formula=formula, data=data1_young).fit()\n",
    "flag = '**' if model.f_pvalue < .005 else ''\n",
    "print(f'Young Group - X: {x_var}, Y: {y_var}, F-statistic: {model.fvalue:.4f},\\tProb (F-statistic): {model.f_pvalue:.4f}{flag}')\n",
    "\n",
    "model = ols(formula=formula, data=data1_middle).fit()\n",
    "flag = '**' if model.f_pvalue < .005 else ''\n",
    "print(f'Middle Group - X: {x_var}, Y: {y_var}, F-statistic: {model.fvalue:.4f},\\tProb (F-statistic): {model.f_pvalue:.4f}{flag}')\n",
    "\n",
    "model = ols(formula=formula, data=data1_mature).fit()\n",
    "flag = '**' if model.f_pvalue < .005 else ''\n",
    "print(f'Mature Group - X: {x_var}, Y: {y_var}, F-statistic: {model.fvalue:.4f},\\tProb (F-statistic): {model.f_pvalue:.4f}{flag}')\n",
    "\n",
    "model = ols(formula=formula, data=data1_senior).fit()\n",
    "flag = '**' if model.f_pvalue < .005 else ''\n",
    "print(f'Senior Group - X: {x_var}, Y: {y_var}, F-statistic: {model.fvalue:.4f},\\tProb (F-statistic): {model.f_pvalue:.4f}{flag}')"
   ]
  },
  {
   "cell_type": "code",
   "execution_count": null,
   "metadata": {},
   "outputs": [],
   "source": []
  },
  {
   "cell_type": "markdown",
   "metadata": {},
   "source": [
    "# Chi-Squared Test\n",
    "\n"
   ]
  },
  {
   "cell_type": "code",
   "execution_count": 50,
   "metadata": {},
   "outputs": [
    {
     "data": {
      "text/plain": [
       "Index(['age', 'sex', 'edu', 'race', 'welfare', 'white', 'gays', 'congress',\n",
       "       'rich1', 'unemployed', 'mothers', 'immigrants', 'teachers', 'age_cat',\n",
       "       'age_cat2'],\n",
       "      dtype='object')"
      ]
     },
     "execution_count": 50,
     "metadata": {},
     "output_type": "execute_result"
    }
   ],
   "source": [
    "data.columns"
   ]
  },
  {
   "cell_type": "code",
   "execution_count": 101,
   "metadata": {},
   "outputs": [],
   "source": [
    "chivars = ['race', 'welfare', 'white', 'gays', 'congress',\n",
    "       'unemployed', 'mothers', 'immigrants', 'teachers']\n",
    "data2 = data[chivars].copy()"
   ]
  },
  {
   "cell_type": "code",
   "execution_count": 102,
   "metadata": {},
   "outputs": [
    {
     "data": {
      "text/plain": [
       "<matplotlib.axes._subplots.AxesSubplot at 0x125dfe0b8>"
      ]
     },
     "execution_count": 102,
     "metadata": {},
     "output_type": "execute_result"
    },
    {
     "data": {
      "image/png": "[encoded data removed]",
      "text/plain": [
       "<matplotlib.figure.Figure at 0x11f7294e0>"
      ]
     },
     "metadata": {},
     "output_type": "display_data"
    }
   ],
   "source": [
    "# can't qcut rich1 into 4\n",
    "data['rich1'].plot(kind='hist', bins=10)"
   ]
  },
  {
   "cell_type": "code",
   "execution_count": 103,
   "metadata": {},
   "outputs": [],
   "source": [
    "for chivar in chivars[1:]:\n",
    "    data2[chivar+'_cat'] = pd.qcut(data2[chivar], 4, labels=['low', 'med-low', 'med-high', 'high'], duplicates='drop')\n",
    "    data2[chivar+'_cat2'] = pd.qcut(data2[chivar], 4, labels=[1, 2, 3, 4], duplicates='drop')\n",
    "    data2[chivar+'_cat2'] = data2[chivar+'_cat2'].astype('int')\n"
   ]
  },
  {
   "cell_type": "markdown",
   "metadata": {},
   "source": [
    "## Chi squared Test on how one rates unmarried mother among four groups (how the same person rates people on welfare)\n",
    "\n",
    "* Chi squared test's p value is 1.5070217022941629e-85 so it's significant (how the same person rates people on welfare)\n",
    "* Bonferroni correction = p/c = 0.05 / 6 = 0.0083\n",
    " - 4 levels = 6 combinations (c = 6)\n",
    "* Post Hoc Test shows all comparisons (6) are sigificant."
   ]
  },
  {
   "cell_type": "code",
   "execution_count": 110,
   "metadata": {},
   "outputs": [
    {
     "name": "stdout",
     "output_type": "stream",
     "text": [
      "mothers_cat  low  med-low  med-high  high\n",
      "welfare_cat                              \n",
      "low          391       45       125    41\n",
      "med-low      293       69       120    56\n",
      "med-high      58       44       121    28\n",
      "high          77       29       205   151\n",
      "\n",
      "mothers_cat       low   med-low  med-high      high\n",
      "welfare_cat                                        \n",
      "low          0.477411  0.240642  0.218914  0.148551\n",
      "med-low      0.357753  0.368984  0.210158  0.202899\n",
      "med-high     0.070818  0.235294  0.211909  0.101449\n",
      "high         0.094017  0.155080  0.359019  0.547101\n",
      "\n",
      "(423.22826912929497, 1.5070217022941629e-85, 9, array([[ 266.07555316,   60.75229358,  185.50566649,   89.66648678],\n",
      "       [ 237.78845116,   54.29357798,  165.78413384,   80.13383702],\n",
      "       [ 110.93847814,   25.33027523,   77.34538586,   37.38586077],\n",
      "       [ 204.19751754,   46.62385321,  142.36481382,   68.81381543]]))\n"
     ]
    }
   ],
   "source": [
    "ct = pd.crosstab(data2['welfare_cat'], data2['mothers_cat'])\n",
    "print(ct)\n",
    "print()\n",
    "print(ct / ct.sum(axis=0))  # column percentage\n",
    "print()\n",
    "print(chi2_contingency(ct))"
   ]
  },
  {
   "cell_type": "code",
   "execution_count": null,
   "metadata": {},
   "outputs": [],
   "source": []
  },
  {
   "cell_type": "code",
   "execution_count": 106,
   "metadata": {},
   "outputs": [
    {
     "data": {
      "text/plain": [
       "Text(6.675,0.5,'how one rates unmarried mothers')"
      ]
     },
     "execution_count": 106,
     "metadata": {},
     "output_type": "execute_result"
    },
    {
     "data": {
      "image/png": "[encoded data removed]",
      "text/plain": [
       "<matplotlib.figure.Figure at 0x125f00668>"
      ]
     },
     "metadata": {},
     "output_type": "display_data"
    }
   ],
   "source": [
    "sns.factorplot(x='welfare_cat2', y='mothers_cat2', data=data2, kind='bar', ci=None)\n",
    "plt.xlabel('how one rates people on welfare')\n",
    "plt.ylabel('how one rates unmarried mothers')"
   ]
  },
  {
   "cell_type": "code",
   "execution_count": 195,
   "metadata": {},
   "outputs": [
    {
     "name": "stdout",
     "output_type": "stream",
     "text": [
      "<<<Group: low and med-low>>>\n",
      "mothers_cat2    1   2    3   4\n",
      "welfare_cat2                  \n",
      "1             391  45  125  41\n",
      "2             293  69  120  56\n",
      "----------------------------------------------------------------------\n",
      "mothers_cat2         1         2         3        4\n",
      "welfare_cat2                                       \n",
      "1             0.571637  0.394737  0.510204  0.42268\n",
      "2             0.428363  0.605263  0.489796  0.57732\n",
      "----------------------------------------------------------------------\n",
      "Chi2: 17.97887797133177, p: 0.0004**, dof: 3\n",
      "array([[ 361.2       ,   60.2       ,  129.37719298,   51.22280702],\n",
      "       [ 322.8       ,   53.8       ,  115.62280702,   45.77719298]])\n",
      "======================================================================\n",
      "<<<Group: low and med-high>>>\n",
      "mothers_cat2    1   2    3   4\n",
      "welfare_cat2                  \n",
      "1             391  45  125  41\n",
      "3              58  44  121  28\n",
      "----------------------------------------------------------------------\n",
      "mothers_cat2         1         2        3         4\n",
      "welfare_cat2                                       \n",
      "1             0.870824  0.505618  0.50813  0.594203\n",
      "3             0.129176  0.494382  0.49187  0.405797\n",
      "----------------------------------------------------------------------\n",
      "Chi2: 126.47730870771689, p: 0.0000**, dof: 3\n",
      "array([[ 316.87924971,   62.8112544 ,  173.61313013,   48.69636577],\n",
      "       [ 132.12075029,   26.1887456 ,   72.38686987,   20.30363423]])\n",
      "======================================================================\n",
      "<<<Group: low and high>>>\n",
      "mothers_cat2    1   2    3    4\n",
      "welfare_cat2                   \n",
      "1             391  45  125   41\n",
      "4              77  29  205  151\n",
      "----------------------------------------------------------------------\n",
      "mothers_cat2        1         2         3         4\n",
      "welfare_cat2                                       \n",
      "1             0.83547  0.608108  0.378788  0.213542\n",
      "4             0.16453  0.391892  0.621212  0.786458\n",
      "----------------------------------------------------------------------\n",
      "Chi2: 283.0284706304791, p: 0.0000**, dof: 3\n",
      "array([[ 264.78947368,   41.86842105,  186.71052632,  108.63157895],\n",
      "       [ 203.21052632,   32.13157895,  143.28947368,   83.36842105]])\n",
      "======================================================================\n",
      "<<<Group: med-low and med-high>>>\n",
      "mothers_cat2    1   2    3   4\n",
      "welfare_cat2                  \n",
      "2             293  69  120  56\n",
      "3              58  44  121  28\n",
      "----------------------------------------------------------------------\n",
      "mothers_cat2         1         2         3         4\n",
      "welfare_cat2                                        \n",
      "2             0.834758  0.610619  0.497925  0.666667\n",
      "3             0.165242  0.389381  0.502075  0.333333\n",
      "----------------------------------------------------------------------\n",
      "Chi2: 78.14811897888958, p: 0.0000**, dof: 3\n",
      "array([[ 239.33840304,   77.05196451,  164.33206591,   57.27756654],\n",
      "       [ 111.66159696,   35.94803549,   76.66793409,   26.72243346]])\n",
      "======================================================================\n",
      "<<<Group: med-low and high>>>\n",
      "mothers_cat2    1   2    3    4\n",
      "welfare_cat2                   \n",
      "2             293  69  120   56\n",
      "4              77  29  205  151\n",
      "----------------------------------------------------------------------\n",
      "mothers_cat2         1         2         3         4\n",
      "welfare_cat2                                        \n",
      "2             0.791892  0.704082  0.369231  0.270531\n",
      "4             0.208108  0.295918  0.630769  0.729469\n",
      "----------------------------------------------------------------------\n",
      "Chi2: 203.65393609160162, p: 0.0000**, dof: 3\n",
      "array([[ 199.06 ,   52.724,  174.85 ,  111.366],\n",
      "       [ 170.94 ,   45.276,  150.15 ,   95.634]])\n",
      "======================================================================\n",
      "<<<Group: med-high and high>>>\n",
      "mothers_cat2   1   2    3    4\n",
      "welfare_cat2                  \n",
      "3             58  44  121   28\n",
      "4             77  29  205  151\n",
      "----------------------------------------------------------------------\n",
      "mothers_cat2        1        2         3         4\n",
      "welfare_cat2                                      \n",
      "3             0.42963  0.60274  0.371166  0.156425\n",
      "4             0.57037  0.39726  0.628834  0.843575\n",
      "----------------------------------------------------------------------\n",
      "Chi2: 54.227205368041815, p: 0.0000**, dof: 3\n",
      "array([[  47.52454418,   25.69845722,  114.76297335,   63.01402525],\n",
      "       [  87.47545582,   47.30154278,  211.23702665,  115.98597475]])\n",
      "======================================================================\n",
      "['low vs med-low', 'low vs med-high', 'low vs high', 'med-low vs med-high', 'med-low vs high', 'med-high vs high']\n"
     ]
    }
   ],
   "source": [
    "# Post Hoc Test for Chi Square Tests\n",
    "\n",
    "\n",
    "levels = ['low', 'med-low', 'med-high', 'high']\n",
    "bc = 0.05 / 6 # bonferronicorrection\n",
    "sig_pairs = []\n",
    "\n",
    "for g1, g2 in combinations([1, 2, 3, 4], 2):\n",
    "    print(f'<<<Group: {levels[g1-1]} and {levels[g2-1]}>>>')\n",
    "    dfr = data2[(data2['welfare_cat2'] == g1) | (data2['welfare_cat2'] == g2)]\n",
    "    ct = pd.crosstab(dfr['welfare_cat2'], dfr['mothers_cat2'])\n",
    "    print(ct)\n",
    "    print('-'*70)\n",
    "    print(ct / ct.sum(axis=0))  # column percentage\n",
    "    print('-'*70)\n",
    "    chi2, p, dof, expected = chi2_contingency(ct)\n",
    "    if p < bc:\n",
    "        flag = '**'\n",
    "        sig_pairs.append((f'{levels[g1-1]} vs {levels[g2-1]}'))\n",
    "    else:\n",
    "        flag = ''\n",
    "    \n",
    "    print(f'Chi2: {chi2}, p: {p:.4f}{flag}, dof: {dof}')\n",
    "    pprint(expected)\n",
    "    print('='*70)\n",
    "    \n",
    "print(sig_pairs)"
   ]
  },
  {
   "cell_type": "markdown",
   "metadata": {},
   "source": [
    "##  Testing moderation in the context of Chi-Square\n",
    "\n",
    "Here, I divide the data into five racial sub groups and conduct post hoc tests for each sub group.\n",
    "\n",
    "It seems that not all 6 pairs in each racial group are significant. Particularly, all are not significant in the 2+ race group, and reduced to 2 in the hispanic group and 1 in the other group but remain significant in the black and white groups.\n",
    "\n",
    "Although it's not conclusive, it is possible to claim that the race variable has some moderation effect."
   ]
  },
  {
   "cell_type": "code",
   "execution_count": 196,
   "metadata": {},
   "outputs": [],
   "source": [
    "# use race to break up to subgroups\n",
    "# 1 White, Non-Hispanic 814 35.5%\n",
    "# 2 Black, Non-Hispanic 1278 55.7%\n",
    "# 3 Other, Non-Hispanic 46 2.0%\n",
    "# 4 Hispanic 123 5.4%\n",
    "# 5 2+ Races, Non-Hispanic 33 1.4%\n",
    "# -2 Not asked 0 0.0%\n",
    "# -1 REFUSED 0 0.0%\n",
    "data2r = {}\n",
    "data2r['white'] = data2[data2.race == 1]\n",
    "data2r['black'] = data2[data2.race == 2]\n",
    "data2r['other'] = data2[data2.race == 3]\n",
    "data2r['hispanic'] = data2[data2.race == 4]\n",
    "data2r['2+races'] = data2[data2.race == 5]"
   ]
  },
  {
   "cell_type": "code",
   "execution_count": 197,
   "metadata": {},
   "outputs": [
    {
     "name": "stdout",
     "output_type": "stream",
     "text": [
      "Racial Group: white\n",
      "####################\n",
      "Chi2: 138.0421673937368, p: 0.0000**, dof: 9\n",
      "array([[  47.52454418,   25.69845722,  114.76297335,   63.01402525],\n",
      "       [  87.47545582,   47.30154278,  211.23702665,  115.98597475]])\n",
      "######################################################################\n",
      "<<<Post Hoc: low and med-low>>>\n",
      "mothers_cat2    1   2   3  4\n",
      "welfare_cat2                \n",
      "1             254  32  68  7\n",
      "2             112  31  30  6\n",
      "----------------------------------------------------------------------\n",
      "mothers_cat2         1         2         3         4\n",
      "welfare_cat2                                        \n",
      "1             0.693989  0.507937  0.693878  0.538462\n",
      "2             0.306011  0.492063  0.306122  0.461538\n",
      "----------------------------------------------------------------------\n",
      "Chi2: 9.679136940928297, p: 0.0215, dof: 3\n",
      "array([[ 244.67777778,   42.11666667,   65.51481481,    8.69074074],\n",
      "       [ 121.32222222,   20.88333333,   32.48518519,    4.30925926]])\n",
      "======================================================================\n",
      "<<<Post Hoc: low and med-high>>>\n",
      "mothers_cat2    1   2   3  4\n",
      "welfare_cat2                \n",
      "1             254  32  68  7\n",
      "3              27  17  33  5\n",
      "----------------------------------------------------------------------\n",
      "mothers_cat2         1         2         3         4\n",
      "welfare_cat2                                        \n",
      "1             0.903915  0.653061  0.673267  0.583333\n",
      "3             0.096085  0.346939  0.326733  0.416667\n",
      "----------------------------------------------------------------------\n",
      "Chi2: 40.96717573849419, p: 0.0000**, dof: 3\n",
      "array([[ 228.98645598,   39.93002257,   82.30474041,    9.77878104],\n",
      "       [  52.01354402,    9.06997743,   18.69525959,    2.22121896]])\n",
      "======================================================================\n",
      "<<<Post Hoc: low and high>>>\n",
      "mothers_cat2    1   2   3   4\n",
      "welfare_cat2                 \n",
      "1             254  32  68   7\n",
      "4              22   7  42  19\n",
      "----------------------------------------------------------------------\n",
      "mothers_cat2        1         2         3         4\n",
      "welfare_cat2                                       \n",
      "1             0.92029  0.820513  0.618182  0.269231\n",
      "4             0.07971  0.179487  0.381818  0.730769\n",
      "----------------------------------------------------------------------\n",
      "Chi2: 93.72424950923927, p: 0.0000**, dof: 3\n",
      "array([[ 220.92239468,   31.2172949 ,   88.04878049,   20.81152993],\n",
      "       [  55.07760532,    7.7827051 ,   21.95121951,    5.18847007]])\n",
      "======================================================================\n",
      "<<<Post Hoc: med-low and med-high>>>\n",
      "mothers_cat2    1   2   3  4\n",
      "welfare_cat2                \n",
      "2             112  31  30  6\n",
      "3              27  17  33  5\n",
      "----------------------------------------------------------------------\n",
      "mothers_cat2         1         2        3         4\n",
      "welfare_cat2                                       \n",
      "2             0.805755  0.645833  0.47619  0.545455\n",
      "3             0.194245  0.354167  0.52381  0.454545\n",
      "----------------------------------------------------------------------\n",
      "Chi2: 23.490221797934282, p: 0.0000**, dof: 3\n",
      "array([[ 95.32950192,  32.91954023,  43.20689655,   7.5440613 ],\n",
      "       [ 43.67049808,  15.08045977,  19.79310345,   3.4559387 ]])\n",
      "======================================================================\n",
      "<<<Post Hoc: med-low and high>>>\n",
      "mothers_cat2    1   2   3   4\n",
      "welfare_cat2                 \n",
      "2             112  31  30   6\n",
      "4              22   7  42  19\n",
      "----------------------------------------------------------------------\n",
      "mothers_cat2         1         2         3     4\n",
      "welfare_cat2                                    \n",
      "2             0.835821  0.815789  0.416667  0.24\n",
      "4             0.164179  0.184211  0.583333  0.76\n",
      "----------------------------------------------------------------------\n",
      "Chi2: 61.67030150238712, p: 0.0000**, dof: 3\n",
      "array([[ 89.16728625,  25.28624535,  47.91078067,  16.63568773],\n",
      "       [ 44.83271375,  12.71375465,  24.08921933,   8.36431227]])\n",
      "======================================================================\n",
      "<<<Post Hoc: med-high and high>>>\n",
      "mothers_cat2   1   2   3   4\n",
      "welfare_cat2                \n",
      "3             27  17  33   5\n",
      "4             22   7  42  19\n",
      "----------------------------------------------------------------------\n",
      "mothers_cat2        1         2     3         4\n",
      "welfare_cat2                                   \n",
      "3             0.55102  0.708333  0.44  0.208333\n",
      "4             0.44898  0.291667  0.56  0.791667\n",
      "----------------------------------------------------------------------\n",
      "Chi2: 13.580824216949653, p: 0.0035**, dof: 3\n",
      "array([[ 23.36046512,  11.44186047,  35.75581395,  11.44186047],\n",
      "       [ 25.63953488,  12.55813953,  39.24418605,  12.55813953]])\n",
      "======================================================================\n",
      "For racial gorup \"white\", these pairs are significant: ['low vs med-high', 'low vs high', 'med-low vs med-high', 'med-low vs high', 'med-high vs high']\n",
      "\n",
      "Racial Group: black\n",
      "####################\n",
      "Chi2: 199.32228421292177, p: 0.0000**, dof: 9\n",
      "array([[ 23.36046512,  11.44186047,  35.75581395,  11.44186047],\n",
      "       [ 25.63953488,  12.55813953,  39.24418605,  12.55813953]])\n",
      "######################################################################\n",
      "<<<Post Hoc: low and med-low>>>\n",
      "mothers_cat2    1   2   3   4\n",
      "welfare_cat2                 \n",
      "1             101   8  47  31\n",
      "2             155  34  73  47\n",
      "----------------------------------------------------------------------\n",
      "mothers_cat2         1         2         3         4\n",
      "welfare_cat2                                        \n",
      "1             0.394531  0.190476  0.391667  0.397436\n",
      "2             0.605469  0.809524  0.608333  0.602564\n",
      "----------------------------------------------------------------------\n",
      "Chi2: 6.804879275810173, p: 0.0784, dof: 3\n",
      "array([[  96.51612903,   15.83467742,   45.24193548,   29.40725806],\n",
      "       [ 159.48387097,   26.16532258,   74.75806452,   48.59274194]])\n",
      "======================================================================\n",
      "<<<Post Hoc: low and med-high>>>\n",
      "mothers_cat2    1   2   3   4\n",
      "welfare_cat2                 \n",
      "1             101   8  47  31\n",
      "3              24  25  79  21\n",
      "----------------------------------------------------------------------\n",
      "mothers_cat2      1         2         3         4\n",
      "welfare_cat2                                     \n",
      "1             0.808  0.242424  0.373016  0.596154\n",
      "3             0.192  0.757576  0.626984  0.403846\n",
      "----------------------------------------------------------------------\n",
      "Chi2: 62.74455404151533, p: 0.0000**, dof: 3\n",
      "array([[ 69.56845238,  18.36607143,  70.125     ,  28.94047619],\n",
      "       [ 55.43154762,  14.63392857,  55.875     ,  23.05952381]])\n",
      "======================================================================\n",
      "<<<Post Hoc: low and high>>>\n",
      "mothers_cat2    1   2    3    4\n",
      "welfare_cat2                   \n",
      "1             101   8   47   31\n",
      "4              52  21  149  127\n",
      "----------------------------------------------------------------------\n",
      "mothers_cat2         1         2         3         4\n",
      "welfare_cat2                                        \n",
      "1             0.660131  0.275862  0.239796  0.196203\n",
      "4             0.339869  0.724138  0.760204  0.803797\n",
      "----------------------------------------------------------------------\n",
      "Chi2: 92.40994793649195, p: 0.0000**, dof: 3\n",
      "array([[  53.37873134,   10.11753731,   68.38059701,   55.12313433],\n",
      "       [  99.62126866,   18.88246269,  127.61940299,  102.87686567]])\n",
      "======================================================================\n",
      "<<<Post Hoc: med-low and med-high>>>\n",
      "mothers_cat2    1   2   3   4\n",
      "welfare_cat2                 \n",
      "2             155  34  73  47\n",
      "3              24  25  79  21\n",
      "----------------------------------------------------------------------\n",
      "mothers_cat2         1         2         3         4\n",
      "welfare_cat2                                        \n",
      "2             0.865922  0.576271  0.480263  0.691176\n",
      "3             0.134078  0.423729  0.519737  0.308824\n",
      "----------------------------------------------------------------------\n",
      "Chi2: 58.68983111297287, p: 0.0000**, dof: 3\n",
      "array([[ 120.76637555,   39.80567686,  102.55021834,   45.87772926],\n",
      "       [  58.23362445,   19.19432314,   49.44978166,   22.12227074]])\n",
      "======================================================================\n",
      "<<<Post Hoc: med-low and high>>>\n",
      "mothers_cat2    1   2    3    4\n",
      "welfare_cat2                   \n",
      "2             155  34   73   47\n",
      "4              52  21  149  127\n",
      "----------------------------------------------------------------------\n",
      "mothers_cat2         1         2         3         4\n",
      "welfare_cat2                                        \n",
      "2             0.748792  0.618182  0.328829  0.270115\n",
      "4             0.251208  0.381818  0.671171  0.729885\n",
      "----------------------------------------------------------------------\n",
      "Chi2: 115.11736257805947, p: 0.0000**, dof: 3\n",
      "array([[  97.20820669,   25.82826748,  104.25227964,   81.7112462 ],\n",
      "       [ 109.79179331,   29.17173252,  117.74772036,   92.2887538 ]])\n",
      "======================================================================\n",
      "<<<Post Hoc: med-high and high>>>\n",
      "mothers_cat2   1   2    3    4\n",
      "welfare_cat2                  \n",
      "3             24  25   79   21\n",
      "4             52  21  149  127\n",
      "----------------------------------------------------------------------\n",
      "mothers_cat2         1         2         3         4\n",
      "welfare_cat2                                        \n",
      "3             0.315789  0.543478  0.346491  0.141892\n",
      "4             0.684211  0.456522  0.653509  0.858108\n",
      "----------------------------------------------------------------------\n",
      "Chi2: 33.08938966262428, p: 0.0000**, dof: 3\n",
      "array([[  22.73895582,   13.76305221,   68.21686747,   44.2811245 ],\n",
      "       [  53.26104418,   32.23694779,  159.78313253,  103.7188755 ]])\n",
      "======================================================================\n",
      "For racial gorup \"black\", these pairs are significant: ['low vs med-high', 'low vs high', 'med-low vs med-high', 'med-low vs high', 'med-high vs high']\n",
      "\n",
      "Racial Group: other\n",
      "####################\n",
      "Chi2: 20.290370370370372, p: 0.0162**, dof: 9\n",
      "array([[  22.73895582,   13.76305221,   68.21686747,   44.2811245 ],\n",
      "       [  53.26104418,   32.23694779,  159.78313253,  103.7188755 ]])\n",
      "######################################################################\n",
      "<<<Post Hoc: low and med-low>>>\n",
      "mothers_cat2  1  2  3  4\n",
      "welfare_cat2            \n",
      "1             7  2  1  0\n",
      "2             5  3  0  2\n",
      "----------------------------------------------------------------------\n",
      "mothers_cat2         1    2    3    4\n",
      "welfare_cat2                         \n",
      "1             0.583333  0.4  1.0  0.0\n",
      "2             0.416667  0.6  0.0  1.0\n",
      "----------------------------------------------------------------------\n",
      "Chi2: 3.533333333333333, p: 0.3165, dof: 3\n",
      "array([[ 6. ,  2.5,  0.5,  1. ],\n",
      "       [ 6. ,  2.5,  0.5,  1. ]])\n",
      "======================================================================\n",
      "<<<Post Hoc: low and med-high>>>\n",
      "mothers_cat2  1  2  3\n",
      "welfare_cat2         \n",
      "1             7  2  1\n",
      "3             2  1  3\n",
      "----------------------------------------------------------------------\n",
      "mothers_cat2         1         2     3\n",
      "welfare_cat2                          \n",
      "1             0.777778  0.666667  0.25\n",
      "3             0.222222  0.333333  0.75\n",
      "----------------------------------------------------------------------\n",
      "Chi2: 3.3185185185185184, p: 0.1903, dof: 2\n",
      "array([[ 5.625,  1.875,  2.5  ],\n",
      "       [ 3.375,  1.125,  1.5  ]])\n",
      "======================================================================\n",
      "<<<Post Hoc: low and high>>>\n",
      "mothers_cat2  1  2  3\n",
      "welfare_cat2         \n",
      "1             7  2  1\n",
      "4             1  0  5\n",
      "----------------------------------------------------------------------\n",
      "mothers_cat2      1    2         3\n",
      "welfare_cat2                      \n",
      "1             0.875  1.0  0.166667\n",
      "4             0.125  0.0  0.833333\n",
      "----------------------------------------------------------------------\n",
      "Chi2: 8.71111111111111, p: 0.0128, dof: 2\n",
      "array([[ 5.  ,  1.25,  3.75],\n",
      "       [ 3.  ,  0.75,  2.25]])\n",
      "======================================================================\n",
      "<<<Post Hoc: med-low and med-high>>>\n",
      "mothers_cat2  1  2  3  4\n",
      "welfare_cat2            \n",
      "2             5  3  0  2\n",
      "3             2  1  3  0\n",
      "----------------------------------------------------------------------\n",
      "mothers_cat2         1     2    3    4\n",
      "welfare_cat2                          \n",
      "2             0.714286  0.75  0.0  1.0\n",
      "3             0.285714  0.25  1.0  0.0\n",
      "----------------------------------------------------------------------\n",
      "Chi2: 6.704761904761905, p: 0.0819, dof: 3\n",
      "array([[ 4.375,  2.5  ,  1.875,  1.25 ],\n",
      "       [ 2.625,  1.5  ,  1.125,  0.75 ]])\n",
      "======================================================================\n",
      "<<<Post Hoc: med-low and high>>>\n",
      "mothers_cat2  1  2  3  4\n",
      "welfare_cat2            \n",
      "2             5  3  0  2\n",
      "4             1  0  5  0\n",
      "----------------------------------------------------------------------\n",
      "mothers_cat2         1    2    3    4\n",
      "welfare_cat2                         \n",
      "2             0.833333  1.0  0.0  1.0\n",
      "4             0.166667  0.0  1.0  0.0\n",
      "----------------------------------------------------------------------\n",
      "Chi2: 12.444444444444445, p: 0.0060**, dof: 3\n",
      "array([[ 3.75 ,  1.875,  3.125,  1.25 ],\n",
      "       [ 2.25 ,  1.125,  1.875,  0.75 ]])\n",
      "======================================================================\n",
      "<<<Post Hoc: med-high and high>>>\n",
      "mothers_cat2  1  2  3\n",
      "welfare_cat2         \n",
      "3             2  1  3\n",
      "4             1  0  5\n",
      "----------------------------------------------------------------------\n",
      "mothers_cat2         1    2      3\n",
      "welfare_cat2                      \n",
      "3             0.666667  1.0  0.375\n",
      "4             0.333333  0.0  0.625\n",
      "----------------------------------------------------------------------\n",
      "Chi2: 1.8333333333333333, p: 0.3998, dof: 2\n",
      "array([[ 1.5,  0.5,  4. ],\n",
      "       [ 1.5,  0.5,  4. ]])\n",
      "======================================================================\n",
      "For racial gorup \"other\", these pairs are significant: ['med-low vs high']\n",
      "\n",
      "Racial Group: hispanic\n",
      "####################\n",
      "Chi2: 33.209090909090904, p: 0.0001, dof: 9\n",
      "array([[ 1.5,  0.5,  4. ],\n",
      "       [ 1.5,  0.5,  4. ]])\n",
      "######################################################################\n",
      "<<<Post Hoc: low and med-low>>>\n",
      "mothers_cat2   1  2   3  4\n",
      "welfare_cat2              \n",
      "1             25  2   8  1\n",
      "2             17  0  15  1\n",
      "----------------------------------------------------------------------\n",
      "mothers_cat2         1    2         3    4\n",
      "welfare_cat2                              \n",
      "1             0.595238  1.0  0.347826  0.5\n",
      "2             0.404762  0.0  0.652174  0.5\n",
      "----------------------------------------------------------------------\n",
      "Chi2: 5.534271284271283, p: 0.1366, dof: 3\n",
      "array([[ 21.91304348,   1.04347826,  12.        ,   1.04347826],\n",
      "       [ 20.08695652,   0.95652174,  11.        ,   0.95652174]])\n",
      "======================================================================\n",
      "<<<Post Hoc: low and med-high>>>\n",
      "mothers_cat2   1  2  3  4\n",
      "welfare_cat2             \n",
      "1             25  2  8  1\n",
      "3              3  1  4  2\n",
      "----------------------------------------------------------------------\n",
      "mothers_cat2         1         2         3         4\n",
      "welfare_cat2                                        \n",
      "1             0.892857  0.666667  0.666667  0.333333\n",
      "3             0.107143  0.333333  0.333333  0.666667\n",
      "----------------------------------------------------------------------\n",
      "Chi2: 6.744841269841269, p: 0.0805, dof: 3\n",
      "array([[ 21.91304348,   2.34782609,   9.39130435,   2.34782609],\n",
      "       [  6.08695652,   0.65217391,   2.60869565,   0.65217391]])\n",
      "======================================================================\n",
      "<<<Post Hoc: low and high>>>\n",
      "mothers_cat2   1  2  3  4\n",
      "welfare_cat2             \n",
      "1             25  2  8  1\n",
      "4              0  1  5  5\n",
      "----------------------------------------------------------------------\n",
      "mothers_cat2    1         2         3         4\n",
      "welfare_cat2                                   \n",
      "1             1.0  0.666667  0.615385  0.166667\n",
      "4             0.0  0.333333  0.384615  0.833333\n",
      "----------------------------------------------------------------------\n",
      "Chi2: 21.468628593628594, p: 0.0001**, dof: 3\n",
      "array([[ 19.14893617,   2.29787234,   9.95744681,   4.59574468],\n",
      "       [  5.85106383,   0.70212766,   3.04255319,   1.40425532]])\n",
      "======================================================================\n",
      "<<<Post Hoc: med-low and med-high>>>\n",
      "mothers_cat2   1  2   3  4\n",
      "welfare_cat2              \n",
      "2             17  0  15  1\n",
      "3              3  1   4  2\n",
      "----------------------------------------------------------------------\n",
      "mothers_cat2     1    2         3         4\n",
      "welfare_cat2                               \n",
      "2             0.85  0.0  0.789474  0.333333\n",
      "3             0.15  1.0  0.210526  0.666667\n",
      "----------------------------------------------------------------------\n",
      "Chi2: 7.283139287612973, p: 0.0634, dof: 3\n",
      "array([[ 15.34883721,   0.76744186,  14.58139535,   2.30232558],\n",
      "       [  4.65116279,   0.23255814,   4.41860465,   0.69767442]])\n",
      "======================================================================\n",
      "<<<Post Hoc: med-low and high>>>\n",
      "mothers_cat2   1  2   3  4\n",
      "welfare_cat2              \n",
      "2             17  0  15  1\n",
      "4              0  1   5  5\n",
      "----------------------------------------------------------------------\n",
      "mothers_cat2    1    2     3         4\n",
      "welfare_cat2                          \n",
      "2             1.0  0.0  0.75  0.166667\n",
      "4             0.0  1.0  0.25  0.833333\n",
      "----------------------------------------------------------------------\n",
      "Chi2: 19.555555555555557, p: 0.0002**, dof: 3\n",
      "array([[ 12.75,   0.75,  15.  ,   4.5 ],\n",
      "       [  4.25,   0.25,   5.  ,   1.5 ]])\n",
      "======================================================================\n",
      "<<<Post Hoc: med-high and high>>>\n",
      "mothers_cat2  1  2  3  4\n",
      "welfare_cat2            \n",
      "3             3  1  4  2\n",
      "4             0  1  5  5\n",
      "----------------------------------------------------------------------\n",
      "mothers_cat2    1    2         3         4\n",
      "welfare_cat2                              \n",
      "3             1.0  0.5  0.444444  0.285714\n",
      "4             0.0  0.5  0.555556  0.714286\n",
      "----------------------------------------------------------------------\n",
      "Chi2: 4.359090909090909, p: 0.2252, dof: 3\n",
      "array([[ 1.42857143,  0.95238095,  4.28571429,  3.33333333],\n",
      "       [ 1.57142857,  1.04761905,  4.71428571,  3.66666667]])\n",
      "======================================================================\n",
      "For racial gorup \"hispanic\", these pairs are significant: ['low vs high', 'med-low vs high']\n",
      "\n",
      "Racial Group: 2+races\n",
      "####################\n",
      "Chi2: 9.11871693121693, p: 0.4264, dof: 9\n",
      "array([[ 1.42857143,  0.95238095,  4.28571429,  3.33333333],\n",
      "       [ 1.57142857,  1.04761905,  4.71428571,  3.66666667]])\n",
      "######################################################################\n"
     ]
    }
   ],
   "source": [
    "# Look at the Chi Squared Tests again but we will isolate each race group first\n",
    "sig_pairs_race = {}\n",
    "for k, i in data2r.items():\n",
    "    print(f'Racial Group: {k}')\n",
    "    print('#'*20)\n",
    "    data2b = data2r[k]\n",
    "    levels = ['low', 'med-low', 'med-high', 'high']\n",
    "    bc = 0.05 / 6 # bonferronicorrection\n",
    "    \n",
    "    # sub racial group chi-test\n",
    "    ct = pd.crosstab(data2b['welfare_cat2'], data2b['mothers_cat2'])\n",
    "    chi2, p, dof, exptected = chi2_contingency(ct)\n",
    "    print(f'Chi2: {chi2}, p: {p:.4f}{flag}, dof: {dof}')\n",
    "    pprint(expected)\n",
    "    print('#'*70)\n",
    "    \n",
    "    if p > .05: continue  # skip post hoc if p is too high\n",
    "\n",
    "    sig_pairs = []\n",
    "\n",
    "    for g1, g2 in combinations([1, 2, 3, 4], 2):\n",
    "        print(f'<<<Post Hoc: {levels[g1-1]} and {levels[g2-1]}>>>')\n",
    "        dfr = data2b[(data2b['welfare_cat2'] == g1) | (data2b['welfare_cat2'] == g2)]\n",
    "        ct = pd.crosstab(dfr['welfare_cat2'], dfr['mothers_cat2'])\n",
    "        print(ct)\n",
    "        print('-'*70)\n",
    "        print(ct / ct.sum(axis=0))  # column percentage\n",
    "        print('-'*70)\n",
    "        chi2, p, dof, expected = chi2_contingency(ct)\n",
    "        if p < bc:\n",
    "            flag = '**'\n",
    "            sig_pairs.append((f'{levels[g1-1]} vs {levels[g2-1]}'))\n",
    "        else:\n",
    "            flag = ''\n",
    "\n",
    "        print(f'Chi2: {chi2}, p: {p:.4f}{flag}, dof: {dof}')\n",
    "        pprint(expected)\n",
    "        print('='*70)\n",
    "\n",
    "    print(f'For racial gorup \"{k}\", these pairs are significant: {sig_pairs}')\n",
    "    sig_pairs_race[k] = sig_pairs\n",
    "    print()"
   ]
  },
  {
   "cell_type": "code",
   "execution_count": 198,
   "metadata": {},
   "outputs": [
    {
     "name": "stdout",
     "output_type": "stream",
     "text": [
      "{'black': ['low vs med-high',\n",
      "           'low vs high',\n",
      "           'med-low vs med-high',\n",
      "           'med-low vs high',\n",
      "           'med-high vs high'],\n",
      " 'hispanic': ['low vs high', 'med-low vs high'],\n",
      " 'other': ['med-low vs high'],\n",
      " 'white': ['low vs med-high',\n",
      "           'low vs high',\n",
      "           'med-low vs med-high',\n",
      "           'med-low vs high',\n",
      "           'med-high vs high']}\n"
     ]
    }
   ],
   "source": [
    "pprint(sig_pairs_race)"
   ]
  },
  {
   "cell_type": "code",
   "execution_count": 189,
   "metadata": {},
   "outputs": [
    {
     "data": {
      "text/plain": [
       "Text(0.5,1,'white group')"
      ]
     },
     "execution_count": 189,
     "metadata": {},
     "output_type": "execute_result"
    },
    {
     "data": {
      "image/png": "[encoded data removed]",
      "text/plain": [
       "<matplotlib.figure.Figure at 0x1270ae9e8>"
      ]
     },
     "metadata": {},
     "output_type": "display_data"
    }
   ],
   "source": [
    "# sns.pointplot(x='welfare_cat2', y='mothers_cat2', data=data2, color='b', ci=None)\n",
    "sns.pointplot(x='welfare_cat2', y='mothers_cat2', data=data2r['white'], color='gold', ci=None)\n",
    "sns.pointplot(x='welfare_cat2', y='mothers_cat2', data=data2r['black'], color='k', ci=None)\n",
    "sns.pointplot(x='welfare_cat2', y='mothers_cat2', data=data2r['other'], color='brown', ci=None)\n",
    "sns.pointplot(x='welfare_cat2', y='mothers_cat2', data=data2r['hispanic'], color='r', ci=None)\n",
    "sns.pointplot(x='welfare_cat2', y='mothers_cat2', data=data2r['2+races'], color='g', ci=None)\n",
    "plt.xlabel('how one rates people on welfare')\n",
    "plt.ylabel('how one rates unmarried mothers')\n",
    "plt.title('white group')"
   ]
  },
  {
   "cell_type": "markdown",
   "metadata": {},
   "source": [
    "# Correlation\n",
    "\n",
    "I have to choose two numeric data: X variable is age and Y variable (response variable) is how one rates unemployed people.\n",
    "\n",
    "* All Rs are weak so I choose the highest one \"unemployed\"."
   ]
  },
  {
   "cell_type": "code",
   "execution_count": 208,
   "metadata": {},
   "outputs": [
    {
     "name": "stdout",
     "output_type": "stream",
     "text": [
      "welfare    0.0503876899914\n",
      "white      0.101429014044\n",
      "gays       -0.0472010170972\n",
      "congress   -0.0407646178288\n",
      "rich1      0.0989510930929\n",
      "unemployed 0.183618625957\n",
      "mothers    -0.0485798389272\n",
      "immigrants -0.0308116955416\n",
      "teachers   0.104642956818\n"
     ]
    }
   ],
   "source": [
    "# Find out which variable has a higher correlation with 'age'\n",
    "for y_var in data.columns[4:-2]:\n",
    "    print(f'{y_var:<10}', data[['age', y_var]].corr().iloc[0, 1])"
   ]
  },
  {
   "cell_type": "markdown",
   "metadata": {},
   "source": [
    "# Testing moderation in the context of correlation\n",
    "\n",
    "I first test if \"sex\" is a moderator for the correlation between \"age\" and \"unemployed\"\n",
    "\n",
    "## Sex\n",
    "* male: R = 0.19 and female: R = 0.18. Compared to original R = 0.18\n",
    "* \"sex\" is not a moderator.\n",
    "\n",
    "## Education\n",
    "* I want to see if a different vairable to change the correlation so I choose \"edu\".\n",
    "* The Rs are between 0.15 to 0.20 so fairly close to the original R.\n",
    "* Again \"edu\" is not a moderator."
   ]
  },
  {
   "cell_type": "code",
   "execution_count": 242,
   "metadata": {},
   "outputs": [],
   "source": [
    "data3 = pd.DataFrame()\n",
    "data3['age'] = data['age']\n",
    "data3['unemployed'] = data['unemployed']\n",
    "data3['sex'] = data['sex']\n",
    "data3['edu'] = data['edu']"
   ]
  },
  {
   "cell_type": "code",
   "execution_count": 243,
   "metadata": {},
   "outputs": [
    {
     "data": {
      "text/html": [
       "<div>\n",
       "<style scoped>\n",
       "    .dataframe tbody tr th:only-of-type {\n",
       "        vertical-align: middle;\n",
       "    }\n",
       "\n",
       "    .dataframe tbody tr th {\n",
       "        vertical-align: top;\n",
       "    }\n",
       "\n",
       "    .dataframe thead th {\n",
       "        text-align: right;\n",
       "    }\n",
       "</style>\n",
       "<table border=\"1\" class=\"dataframe\">\n",
       "  <thead>\n",
       "    <tr style=\"text-align: right;\">\n",
       "      <th></th>\n",
       "      <th>age</th>\n",
       "      <th>unemployed</th>\n",
       "      <th>sex</th>\n",
       "      <th>edu</th>\n",
       "    </tr>\n",
       "  </thead>\n",
       "  <tbody>\n",
       "    <tr>\n",
       "      <th>0</th>\n",
       "      <td>56</td>\n",
       "      <td>50.0</td>\n",
       "      <td>2</td>\n",
       "      <td>2</td>\n",
       "    </tr>\n",
       "    <tr>\n",
       "      <th>1</th>\n",
       "      <td>59</td>\n",
       "      <td>70.0</td>\n",
       "      <td>1</td>\n",
       "      <td>1</td>\n",
       "    </tr>\n",
       "    <tr>\n",
       "      <th>2</th>\n",
       "      <td>36</td>\n",
       "      <td>80.0</td>\n",
       "      <td>1</td>\n",
       "      <td>4</td>\n",
       "    </tr>\n",
       "    <tr>\n",
       "      <th>3</th>\n",
       "      <td>70</td>\n",
       "      <td>50.0</td>\n",
       "      <td>1</td>\n",
       "      <td>4</td>\n",
       "    </tr>\n",
       "    <tr>\n",
       "      <th>5</th>\n",
       "      <td>18</td>\n",
       "      <td>50.0</td>\n",
       "      <td>1</td>\n",
       "      <td>1</td>\n",
       "    </tr>\n",
       "  </tbody>\n",
       "</table>\n",
       "</div>"
      ],
      "text/plain": [
       "   age  unemployed  sex edu\n",
       "0   56        50.0    2   2\n",
       "1   59        70.0    1   1\n",
       "2   36        80.0    1   4\n",
       "3   70        50.0    1   4\n",
       "5   18        50.0    1   1"
      ]
     },
     "execution_count": 243,
     "metadata": {},
     "output_type": "execute_result"
    }
   ],
   "source": [
    "data3.head()"
   ]
  },
  {
   "cell_type": "code",
   "execution_count": 237,
   "metadata": {},
   "outputs": [],
   "source": [
    "data3_m = data3[data3['sex'] == 1]\n",
    "data3_f = data3[data3['sex'] == 2]\n"
   ]
  },
  {
   "cell_type": "code",
   "execution_count": 238,
   "metadata": {},
   "outputs": [
    {
     "data": {
      "text/plain": [
       "(0.19184600742410041, 1.1961082513971352e-08)"
      ]
     },
     "execution_count": 238,
     "metadata": {},
     "output_type": "execute_result"
    }
   ],
   "source": [
    "pearsonr(data3_m['age'], data3_m['unemployed'])"
   ]
  },
  {
   "cell_type": "code",
   "execution_count": 239,
   "metadata": {},
   "outputs": [
    {
     "data": {
      "text/plain": [
       "(0.1771152855043035, 2.2304670342046219e-08)"
      ]
     },
     "execution_count": 239,
     "metadata": {},
     "output_type": "execute_result"
    }
   ],
   "source": [
    "pearsonr(data3_f['age'], data3_f['unemployed'])"
   ]
  },
  {
   "cell_type": "code",
   "execution_count": 240,
   "metadata": {},
   "outputs": [
    {
     "data": {
      "text/plain": [
       "<matplotlib.axes._subplots.AxesSubplot at 0x127509828>"
      ]
     },
     "execution_count": 240,
     "metadata": {},
     "output_type": "execute_result"
    },
    {
     "data": {
      "image/png": "[encoded data removed]",
      "text/plain": [
       "<matplotlib.figure.Figure at 0x127509128>"
      ]
     },
     "metadata": {},
     "output_type": "display_data"
    }
   ],
   "source": [
    "sns.regplot(x='age', y='unemployed', data=data3_m)"
   ]
  },
  {
   "cell_type": "code",
   "execution_count": 241,
   "metadata": {},
   "outputs": [
    {
     "data": {
      "text/plain": [
       "<matplotlib.axes._subplots.AxesSubplot at 0x128091ef0>"
      ]
     },
     "execution_count": 241,
     "metadata": {},
     "output_type": "execute_result"
    },
    {
     "data": {
      "image/png": "[encoded data removed]",
      "text/plain": [
       "<matplotlib.figure.Figure at 0x127a57b00>"
      ]
     },
     "metadata": {},
     "output_type": "display_data"
    }
   ],
   "source": [
    "sns.regplot(x='age', y='unemployed', data=data3_f)"
   ]
  },
  {
   "cell_type": "code",
   "execution_count": 245,
   "metadata": {},
   "outputs": [],
   "source": [
    "data3_bh = data3[data3['edu'] == 1]  # Below High school\n",
    "data3_hs = data3[data3['edu'] == 2]  # High School\n",
    "data3_su = data3[data3['edu'] == 3]  # Some University\n",
    "data3_ua = data3[data3['edu'] == 4]  # Bachelor's degree or Above"
   ]
  },
  {
   "cell_type": "code",
   "execution_count": 253,
   "metadata": {},
   "outputs": [
    {
     "name": "stdout",
     "output_type": "stream",
     "text": [
      "Below High School: (0.18994951004489533, 0.022588115091518292)\n",
      "High School: (0.15988042624805465, 0.0002132049049101922)\n",
      "Some University: (0.1977920399380598, 2.3461739221470709e-06)\n",
      "Bachelor's degree or Above: (0.18623746027481539, 3.2606620188688115e-06)\n"
     ]
    }
   ],
   "source": [
    "print(f\"Below High School: {pearsonr(data3_bh['age'], data3_bh['unemployed'])}\")\n",
    "print(f\"High School: {pearsonr(data3_hs['age'], data3_hs['unemployed'])}\")\n",
    "print(f\"Some University: {pearsonr(data3_su['age'], data3_su['unemployed'])}\")\n",
    "print(f\"Bachelor\\'s degree or Above: {pearsonr(data3_ua['age'], data3_ua['unemployed'])}\")"
   ]
  },
  {
   "cell_type": "code",
   "execution_count": 248,
   "metadata": {},
   "outputs": [
    {
     "data": {
      "text/plain": [
       "(0.15988042624805465, 0.0002132049049101922)"
      ]
     },
     "execution_count": 248,
     "metadata": {},
     "output_type": "execute_result"
    }
   ],
   "source": [
    "pearsonr(data3_hs['age'], data3_hs['unemployed'])"
   ]
  },
  {
   "cell_type": "code",
   "execution_count": 263,
   "metadata": {},
   "outputs": [
    {
     "data": {
      "text/plain": [
       "Text(0.5,1,'Less than high school education')"
      ]
     },
     "execution_count": 263,
     "metadata": {},
     "output_type": "execute_result"
    },
    {
     "data": {
      "image/png": "[encoded data removed]",
      "text/plain": [
       "<matplotlib.figure.Figure at 0x127c9c3c8>"
      ]
     },
     "metadata": {},
     "output_type": "display_data"
    }
   ],
   "source": [
    "sns.regplot(x='age', y='unemployed', data=data3_bh)\n",
    "plt.title('Less than high school education')"
   ]
  },
  {
   "cell_type": "code",
   "execution_count": 264,
   "metadata": {},
   "outputs": [
    {
     "data": {
      "text/plain": [
       "Text(0.5,1,'High school education')"
      ]
     },
     "execution_count": 264,
     "metadata": {},
     "output_type": "execute_result"
    },
    {
     "data": {
      "image/png": "[encoded data removed]",
      "text/plain": [
       "<matplotlib.figure.Figure at 0x1277dff60>"
      ]
     },
     "metadata": {},
     "output_type": "display_data"
    }
   ],
   "source": [
    "sns.regplot(x='age', y='unemployed', data=data3_hs)\n",
    "plt.title('High school education')"
   ]
  },
  {
   "cell_type": "code",
   "execution_count": 265,
   "metadata": {},
   "outputs": [
    {
     "data": {
      "text/plain": [
       "Text(0.5,1,'Some university education')"
      ]
     },
     "execution_count": 265,
     "metadata": {},
     "output_type": "execute_result"
    },
    {
     "data": {
      "image/png": "[encoded data removed]",
      "text/plain": [
       "<matplotlib.figure.Figure at 0x127c75a90>"
      ]
     },
     "metadata": {},
     "output_type": "display_data"
    }
   ],
   "source": [
    "sns.regplot(x='age', y='unemployed', data=data3_su)\n",
    "plt.title('Some university education')"
   ]
  },
  {
   "cell_type": "code",
   "execution_count": 266,
   "metadata": {},
   "outputs": [
    {
     "data": {
      "text/plain": [
       "Text(0.5,1,\"Bachelor's degree or above education\")"
      ]
     },
     "execution_count": 266,
     "metadata": {},
     "output_type": "execute_result"
    },
    {
     "data": {
      "image/png": "[encoded data removed]",
      "text/plain": [
       "<matplotlib.figure.Figure at 0x127c75a20>"
      ]
     },
     "metadata": {},
     "output_type": "display_data"
    }
   ],
   "source": [
    "sns.regplot(x='age', y='unemployed', data=data3_ua)\n",
    "plt.title('Bachelor\\'s degree or above education')"
   ]
  },
  {
   "cell_type": "code",
   "execution_count": null,
   "metadata": {},
   "outputs": [],
   "source": []
  }
 ],
 "metadata": {
  "kernelspec": {
   "display_name": "Python 3",
   "language": "python",
   "name": "python3"
  },
  "language_info": {
   "codemirror_mode": {
    "name": "ipython",
    "version": 3
   },
   "file_extension": ".py",
   "mimetype": "text/x-python",
   "name": "python",
   "nbconvert_exporter": "python",
   "pygments_lexer": "ipython3",
   "version": "3.6.4"
  }
 },
 "nbformat": 4,
 "nbformat_minor": 2
}

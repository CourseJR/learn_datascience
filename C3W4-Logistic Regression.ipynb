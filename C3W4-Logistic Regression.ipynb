{
 "cells": [
  {
   "cell_type": "markdown",
   "metadata": {},
   "source": [
    "# Peer-graded Assignment: Test a Logistic Regression Model\n",
    "\n",
    "Instructions\n",
    "\n",
    "This week's assignment is to test a logistic regression model.\n",
    "\n",
    "Data preparation for this assignment:\n",
    "\n",
    "1) If your response variable is categorical with more than two categories, you will need to collapse it down to two categories, or subset your data to select observations from 2 categories.\n",
    "\n",
    "2) If your response variable is quantitative, you will need to bin it into two categories.\n",
    "\n",
    "The assignment:\n",
    "\n",
    "Write a blog entry that summarize in a few sentences:\n",
    "\n",
    "1) what you found, making sure you discuss the results for the associations between all of your explanatory variables and your response variable. Make sure to include statistical results (odds ratios, p-values, and 95% confidence intervals for the odds ratios) in your summary. \n",
    "\n",
    "2) Report whether or not your results supported your hypothesis for the association between your primary explanatory variable and your response variable. \n",
    "\n",
    "3) Discuss whether or not there was evidence of confounding for the association between your primary explanatory and the response variable (Hint: adding additional explanatory variables to your model one at a time will make it easier to identify which of the variables are confounding variables).\n",
    "\n",
    "What to Submit: Write a blog entry and submit the URL for your blog. Your blog entry should include 1) the summary of your results that addresses parts 1-3 of the assignment, 2) the output from your logistic regression model.\n",
    "\n",
    "Example of how to write logistic regression results:\n",
    "\n",
    "After adjusting for potential confounding factors (list them), the odds of having nicotine dependence were more than two times higher for participants with major depression than for participants without major depression (OR=2.36, 95% CI = 1.44-3.81, p=.0001). Age was also significantly associated with nicotine dependence, such that older older participants were significantly less likely to have nicotine dependence (OR= 0.81, 95% CI=0.40-0.93, p=.041).\n",
    "Review criteria\n",
    "\n",
    "Your assessment will be based on the evidence you provide that you have completed all of the steps. When relevant, gradients in the scoring will be available to reward clarity (for example, you will get one point for submitting an inaccurate or incomplete description of your results, but two points if the description is accurate and complete). In all cases, consider that the peer assessing your work is likely not an expert in the field you are analyzing. You will be assessed equally on all parts of the assignment, and whether you post your program and output. "
   ]
  },
  {
   "cell_type": "code",
   "execution_count": 1,
   "metadata": {},
   "outputs": [
    {
     "name": "stderr",
     "output_type": "stream",
     "text": [
      "/Users/apple/anaconda3/envs/deep/lib/python3.6/site-packages/statsmodels/compat/pandas.py:56: FutureWarning: The pandas.core.datetools module is deprecated and will be removed in a future version. Please use the pandas.tseries module instead.\n",
      "  from pandas.core import datetools\n"
     ]
    }
   ],
   "source": [
    "import numpy as np\n",
    "import pandas as pd\n",
    "import matplotlib.pyplot as plt\n",
    "import statsmodels.api as sm\n",
    "import seaborn as sns\n",
    "import statsmodels.formula.api as smf\n",
    "import scipy\n",
    "from sklearn.preprocessing import scale\n",
    "\n",
    "%matplotlib inline"
   ]
  },
  {
   "cell_type": "code",
   "execution_count": 2,
   "metadata": {},
   "outputs": [],
   "source": [
    "movies_raw = pd.read_feather('../../datasets/movies.feather')"
   ]
  },
  {
   "cell_type": "markdown",
   "metadata": {},
   "source": [
    "## Data wrangling - getting ready for analysis"
   ]
  },
  {
   "cell_type": "code",
   "execution_count": 3,
   "metadata": {},
   "outputs": [
    {
     "name": "stdout",
     "output_type": "stream",
     "text": [
      "<class 'pandas.core.frame.DataFrame'>\n",
      "RangeIndex: 651 entries, 0 to 650\n",
      "Data columns (total 32 columns):\n",
      "title               651 non-null object\n",
      "title_type          651 non-null category\n",
      "genre               651 non-null category\n",
      "runtime             650 non-null float64\n",
      "mpaa_rating         651 non-null category\n",
      "studio              643 non-null category\n",
      "thtr_rel_year       651 non-null float64\n",
      "thtr_rel_month      651 non-null float64\n",
      "thtr_rel_day        651 non-null float64\n",
      "dvd_rel_year        643 non-null float64\n",
      "dvd_rel_month       643 non-null float64\n",
      "dvd_rel_day         643 non-null float64\n",
      "imdb_rating         651 non-null float64\n",
      "imdb_num_votes      651 non-null int32\n",
      "critics_rating      651 non-null category\n",
      "critics_score       651 non-null float64\n",
      "audience_rating     651 non-null category\n",
      "audience_score      651 non-null float64\n",
      "best_pic_nom        651 non-null category\n",
      "best_pic_win        651 non-null category\n",
      "best_actor_win      651 non-null category\n",
      "best_actress_win    651 non-null category\n",
      "best_dir_win        651 non-null category\n",
      "top200_box          651 non-null category\n",
      "director            649 non-null object\n",
      "actor1              649 non-null object\n",
      "actor2              644 non-null object\n",
      "actor3              642 non-null object\n",
      "actor4              638 non-null object\n",
      "actor5              636 non-null object\n",
      "imdb_url            651 non-null object\n",
      "rt_url              651 non-null object\n",
      "dtypes: category(12), float64(10), int32(1), object(9)\n",
      "memory usage: 120.6+ KB\n"
     ]
    }
   ],
   "source": [
    "movies_raw.info()"
   ]
  },
  {
   "cell_type": "code",
   "execution_count": 4,
   "metadata": {},
   "outputs": [
    {
     "data": {
      "text/plain": [
       "Drama                        305\n",
       "Comedy                        87\n",
       "Action & Adventure            65\n",
       "Mystery & Suspense            59\n",
       "Documentary                   52\n",
       "Horror                        23\n",
       "Other                         16\n",
       "Art House & International     14\n",
       "Musical & Performing Arts     12\n",
       "Science Fiction & Fantasy      9\n",
       "Animation                      9\n",
       "Name: genre, dtype: int64"
      ]
     },
     "execution_count": 4,
     "metadata": {},
     "output_type": "execute_result"
    }
   ],
   "source": [
    "movies_raw.genre.value_counts()"
   ]
  },
  {
   "cell_type": "code",
   "execution_count": 5,
   "metadata": {},
   "outputs": [
    {
     "data": {
      "text/html": [
       "<div>\n",
       "<style scoped>\n",
       "    .dataframe tbody tr th:only-of-type {\n",
       "        vertical-align: middle;\n",
       "    }\n",
       "\n",
       "    .dataframe tbody tr th {\n",
       "        vertical-align: top;\n",
       "    }\n",
       "\n",
       "    .dataframe thead th {\n",
       "        text-align: right;\n",
       "    }\n",
       "</style>\n",
       "<table border=\"1\" class=\"dataframe\">\n",
       "  <thead>\n",
       "    <tr style=\"text-align: right;\">\n",
       "      <th></th>\n",
       "      <th>imdb_rating</th>\n",
       "      <th>audience_score</th>\n",
       "    </tr>\n",
       "    <tr>\n",
       "      <th>genre</th>\n",
       "      <th></th>\n",
       "      <th></th>\n",
       "    </tr>\n",
       "  </thead>\n",
       "  <tbody>\n",
       "    <tr>\n",
       "      <th>Action &amp; Adventure</th>\n",
       "      <td>5.970769</td>\n",
       "      <td>53.784615</td>\n",
       "    </tr>\n",
       "    <tr>\n",
       "      <th>Animation</th>\n",
       "      <td>5.900000</td>\n",
       "      <td>62.444444</td>\n",
       "    </tr>\n",
       "    <tr>\n",
       "      <th>Art House &amp; International</th>\n",
       "      <td>6.614286</td>\n",
       "      <td>64.000000</td>\n",
       "    </tr>\n",
       "    <tr>\n",
       "      <th>Comedy</th>\n",
       "      <td>5.744828</td>\n",
       "      <td>52.505747</td>\n",
       "    </tr>\n",
       "    <tr>\n",
       "      <th>Documentary</th>\n",
       "      <td>7.648077</td>\n",
       "      <td>82.750000</td>\n",
       "    </tr>\n",
       "    <tr>\n",
       "      <th>Drama</th>\n",
       "      <td>6.673443</td>\n",
       "      <td>65.347541</td>\n",
       "    </tr>\n",
       "    <tr>\n",
       "      <th>Horror</th>\n",
       "      <td>5.760870</td>\n",
       "      <td>45.826087</td>\n",
       "    </tr>\n",
       "    <tr>\n",
       "      <th>Musical &amp; Performing Arts</th>\n",
       "      <td>7.300000</td>\n",
       "      <td>80.166667</td>\n",
       "    </tr>\n",
       "    <tr>\n",
       "      <th>Mystery &amp; Suspense</th>\n",
       "      <td>6.479661</td>\n",
       "      <td>55.949153</td>\n",
       "    </tr>\n",
       "    <tr>\n",
       "      <th>Other</th>\n",
       "      <td>6.631250</td>\n",
       "      <td>66.687500</td>\n",
       "    </tr>\n",
       "    <tr>\n",
       "      <th>Science Fiction &amp; Fantasy</th>\n",
       "      <td>5.755556</td>\n",
       "      <td>50.888889</td>\n",
       "    </tr>\n",
       "  </tbody>\n",
       "</table>\n",
       "</div>"
      ],
      "text/plain": [
       "                           imdb_rating  audience_score\n",
       "genre                                                 \n",
       "Action & Adventure            5.970769       53.784615\n",
       "Animation                     5.900000       62.444444\n",
       "Art House & International     6.614286       64.000000\n",
       "Comedy                        5.744828       52.505747\n",
       "Documentary                   7.648077       82.750000\n",
       "Drama                         6.673443       65.347541\n",
       "Horror                        5.760870       45.826087\n",
       "Musical & Performing Arts     7.300000       80.166667\n",
       "Mystery & Suspense            6.479661       55.949153\n",
       "Other                         6.631250       66.687500\n",
       "Science Fiction & Fantasy     5.755556       50.888889"
      ]
     },
     "execution_count": 5,
     "metadata": {},
     "output_type": "execute_result"
    }
   ],
   "source": [
    "movies_raw.groupby(['genre']).mean()[['imdb_rating', 'audience_score']]"
   ]
  },
  {
   "cell_type": "code",
   "execution_count": 6,
   "metadata": {},
   "outputs": [
    {
     "data": {
      "text/plain": [
       "Feature Film    591\n",
       "Documentary      55\n",
       "TV Movie          5\n",
       "Name: title_type, dtype: int64"
      ]
     },
     "execution_count": 6,
     "metadata": {},
     "output_type": "execute_result"
    }
   ],
   "source": [
    "movies_raw.title_type.value_counts()"
   ]
  },
  {
   "cell_type": "code",
   "execution_count": 7,
   "metadata": {},
   "outputs": [
    {
     "data": {
      "text/html": [
       "<div>\n",
       "<style scoped>\n",
       "    .dataframe tbody tr th:only-of-type {\n",
       "        vertical-align: middle;\n",
       "    }\n",
       "\n",
       "    .dataframe tbody tr th {\n",
       "        vertical-align: top;\n",
       "    }\n",
       "\n",
       "    .dataframe thead th {\n",
       "        text-align: right;\n",
       "    }\n",
       "</style>\n",
       "<table border=\"1\" class=\"dataframe\">\n",
       "  <thead>\n",
       "    <tr style=\"text-align: right;\">\n",
       "      <th></th>\n",
       "      <th>imdb_rating</th>\n",
       "      <th>audience_score</th>\n",
       "    </tr>\n",
       "    <tr>\n",
       "      <th>title_type</th>\n",
       "      <th></th>\n",
       "      <th></th>\n",
       "    </tr>\n",
       "  </thead>\n",
       "  <tbody>\n",
       "    <tr>\n",
       "      <th>Documentary</th>\n",
       "      <td>7.669091</td>\n",
       "      <td>83.254545</td>\n",
       "    </tr>\n",
       "    <tr>\n",
       "      <th>Feature Film</th>\n",
       "      <td>6.387479</td>\n",
       "      <td>60.465313</td>\n",
       "    </tr>\n",
       "    <tr>\n",
       "      <th>TV Movie</th>\n",
       "      <td>6.040000</td>\n",
       "      <td>56.800000</td>\n",
       "    </tr>\n",
       "  </tbody>\n",
       "</table>\n",
       "</div>"
      ],
      "text/plain": [
       "              imdb_rating  audience_score\n",
       "title_type                               \n",
       "Documentary      7.669091       83.254545\n",
       "Feature Film     6.387479       60.465313\n",
       "TV Movie         6.040000       56.800000"
      ]
     },
     "execution_count": 7,
     "metadata": {},
     "output_type": "execute_result"
    }
   ],
   "source": [
    "movies_raw.groupby(['title_type']).mean()[['imdb_rating', 'audience_score']]"
   ]
  },
  {
   "cell_type": "code",
   "execution_count": 8,
   "metadata": {},
   "outputs": [
    {
     "data": {
      "text/plain": [
       "no     636\n",
       "yes     15\n",
       "Name: top200_box, dtype: int64"
      ]
     },
     "execution_count": 8,
     "metadata": {},
     "output_type": "execute_result"
    }
   ],
   "source": [
    "movies_raw.top200_box.value_counts()"
   ]
  },
  {
   "cell_type": "code",
   "execution_count": 9,
   "metadata": {},
   "outputs": [
    {
     "data": {
      "text/plain": [
       "<matplotlib.axes._subplots.AxesSubplot at 0x118feae80>"
      ]
     },
     "execution_count": 9,
     "metadata": {},
     "output_type": "execute_result"
    },
    {
     "data": {
      "image/png": "[encoded data removed]",
      "text/plain": [
       "<matplotlib.figure.Figure at 0x118fea828>"
      ]
     },
     "metadata": {},
     "output_type": "display_data"
    }
   ],
   "source": [
    "sns.set_style(\"whitegrid\")\n",
    "sns.distplot(movies_raw.imdb_num_votes, bins=20)"
   ]
  },
  {
   "cell_type": "code",
   "execution_count": 10,
   "metadata": {},
   "outputs": [
    {
     "data": {
      "text/plain": [
       "<matplotlib.axes._subplots.AxesSubplot at 0x118fea668>"
      ]
     },
     "execution_count": 10,
     "metadata": {},
     "output_type": "execute_result"
    },
    {
     "data": {
      "image/png": "[encoded data removed]",
      "text/plain": [
       "<matplotlib.figure.Figure at 0x11b0af5c0>"
      ]
     },
     "metadata": {},
     "output_type": "display_data"
    }
   ],
   "source": [
    "sns.set_style(\"whitegrid\")\n",
    "sns.distplot(movies_raw.thtr_rel_month, bins=12, kde=False)"
   ]
  },
  {
   "cell_type": "code",
   "execution_count": 32,
   "metadata": {},
   "outputs": [],
   "source": [
    "movies = movies_raw[['top200_box', 'genre', 'title_type', 'mpaa_rating', 'imdb_rating', 'imdb_num_votes', \n",
    "                     'best_pic_nom', 'best_pic_win', 'best_actor_win', 'best_actress_win', \n",
    "                     'best_dir_win', 'critics_score', 'audience_score']].copy()\n",
    "movies = movies.dropna()"
   ]
  },
  {
   "cell_type": "code",
   "execution_count": 33,
   "metadata": {},
   "outputs": [],
   "source": [
    "# I count best picture nomination as a win too\n",
    "awards = ['best_pic_nom', 'best_pic_win', 'best_actor_win', 'best_actress_win', 'best_dir_win']\n",
    "def cal_wins(row):\n",
    "    wins = 0\n",
    "    for col in awards:\n",
    "        if row[col] == 'yes':\n",
    "            wins += 1\n",
    "    return wins\n",
    "\n",
    "movies['wins'] = movies[awards].apply(cal_wins, axis=1)"
   ]
  },
  {
   "cell_type": "code",
   "execution_count": 52,
   "metadata": {},
   "outputs": [
    {
     "name": "stderr",
     "output_type": "stream",
     "text": [
      "/Users/apple/anaconda3/envs/deep/lib/python3.6/site-packages/sklearn/utils/validation.py:475: DataConversionWarning: Data with input dtype int32 was converted to float64 by the scale function.\n",
      "  warnings.warn(msg, DataConversionWarning)\n"
     ]
    }
   ],
   "source": [
    "movies['imdb_num_votes_sd'] = scale(movies['imdb_num_votes'])\n",
    "# movies['imdb_num_votes_sd'].mean(), movies['imdb_num_votes_sd'].std()\n",
    "movies['critics_score_sd'] = scale(movies['critics_score'])\n",
    "movies['audience_score_sd'] = scale(movies['audience_score'])\n",
    "movies['imdb_rating_sd'] = scale(movies['imdb_rating'])"
   ]
  },
  {
   "cell_type": "code",
   "execution_count": 35,
   "metadata": {},
   "outputs": [],
   "source": [
    "# I am not sure how valid this value assignment is, particularly 5 for \"unrated\"\n",
    "# movies.mpaa_rating.unique()\n",
    "movies['mpaa_rating_num'] = movies['mpaa_rating'].map(\n",
    "    {'G': 0, 'PG': 1, 'PG-13': 2, 'R': 3,  'NC-17': 4, 'Unrated': 5})"
   ]
  },
  {
   "cell_type": "code",
   "execution_count": 36,
   "metadata": {},
   "outputs": [
    {
     "data": {
      "text/html": [
       "<div>\n",
       "<style scoped>\n",
       "    .dataframe tbody tr th:only-of-type {\n",
       "        vertical-align: middle;\n",
       "    }\n",
       "\n",
       "    .dataframe tbody tr th {\n",
       "        vertical-align: top;\n",
       "    }\n",
       "\n",
       "    .dataframe thead th {\n",
       "        text-align: right;\n",
       "    }\n",
       "</style>\n",
       "<table border=\"1\" class=\"dataframe\">\n",
       "  <thead>\n",
       "    <tr style=\"text-align: right;\">\n",
       "      <th></th>\n",
       "      <th>0</th>\n",
       "      <th>1</th>\n",
       "      <th>2</th>\n",
       "      <th>3</th>\n",
       "      <th>4</th>\n",
       "      <th>5</th>\n",
       "      <th>6</th>\n",
       "      <th>7</th>\n",
       "      <th>8</th>\n",
       "      <th>9</th>\n",
       "    </tr>\n",
       "  </thead>\n",
       "  <tbody>\n",
       "    <tr>\n",
       "      <th>top200_box</th>\n",
       "      <td>no</td>\n",
       "      <td>no</td>\n",
       "      <td>no</td>\n",
       "      <td>no</td>\n",
       "      <td>no</td>\n",
       "      <td>no</td>\n",
       "      <td>no</td>\n",
       "      <td>no</td>\n",
       "      <td>no</td>\n",
       "      <td>no</td>\n",
       "    </tr>\n",
       "    <tr>\n",
       "      <th>genre</th>\n",
       "      <td>Drama</td>\n",
       "      <td>Drama</td>\n",
       "      <td>Comedy</td>\n",
       "      <td>Drama</td>\n",
       "      <td>Horror</td>\n",
       "      <td>Documentary</td>\n",
       "      <td>Drama</td>\n",
       "      <td>Drama</td>\n",
       "      <td>Documentary</td>\n",
       "      <td>Drama</td>\n",
       "    </tr>\n",
       "    <tr>\n",
       "      <th>title_type</th>\n",
       "      <td>Feature Film</td>\n",
       "      <td>Feature Film</td>\n",
       "      <td>Feature Film</td>\n",
       "      <td>Feature Film</td>\n",
       "      <td>Feature Film</td>\n",
       "      <td>Documentary</td>\n",
       "      <td>Feature Film</td>\n",
       "      <td>Feature Film</td>\n",
       "      <td>Documentary</td>\n",
       "      <td>Feature Film</td>\n",
       "    </tr>\n",
       "    <tr>\n",
       "      <th>mpaa_rating</th>\n",
       "      <td>R</td>\n",
       "      <td>PG-13</td>\n",
       "      <td>R</td>\n",
       "      <td>PG</td>\n",
       "      <td>R</td>\n",
       "      <td>Unrated</td>\n",
       "      <td>PG-13</td>\n",
       "      <td>R</td>\n",
       "      <td>Unrated</td>\n",
       "      <td>Unrated</td>\n",
       "    </tr>\n",
       "    <tr>\n",
       "      <th>imdb_rating</th>\n",
       "      <td>5.5</td>\n",
       "      <td>7.3</td>\n",
       "      <td>7.6</td>\n",
       "      <td>7.2</td>\n",
       "      <td>5.1</td>\n",
       "      <td>7.8</td>\n",
       "      <td>7.2</td>\n",
       "      <td>5.5</td>\n",
       "      <td>7.5</td>\n",
       "      <td>6.6</td>\n",
       "    </tr>\n",
       "    <tr>\n",
       "      <th>imdb_num_votes</th>\n",
       "      <td>899</td>\n",
       "      <td>12285</td>\n",
       "      <td>22381</td>\n",
       "      <td>35096</td>\n",
       "      <td>2386</td>\n",
       "      <td>333</td>\n",
       "      <td>5016</td>\n",
       "      <td>2272</td>\n",
       "      <td>880</td>\n",
       "      <td>12496</td>\n",
       "    </tr>\n",
       "    <tr>\n",
       "      <th>best_pic_nom</th>\n",
       "      <td>no</td>\n",
       "      <td>no</td>\n",
       "      <td>no</td>\n",
       "      <td>no</td>\n",
       "      <td>no</td>\n",
       "      <td>no</td>\n",
       "      <td>no</td>\n",
       "      <td>no</td>\n",
       "      <td>no</td>\n",
       "      <td>no</td>\n",
       "    </tr>\n",
       "    <tr>\n",
       "      <th>best_pic_win</th>\n",
       "      <td>no</td>\n",
       "      <td>no</td>\n",
       "      <td>no</td>\n",
       "      <td>no</td>\n",
       "      <td>no</td>\n",
       "      <td>no</td>\n",
       "      <td>no</td>\n",
       "      <td>no</td>\n",
       "      <td>no</td>\n",
       "      <td>no</td>\n",
       "    </tr>\n",
       "    <tr>\n",
       "      <th>best_actor_win</th>\n",
       "      <td>no</td>\n",
       "      <td>no</td>\n",
       "      <td>no</td>\n",
       "      <td>yes</td>\n",
       "      <td>no</td>\n",
       "      <td>no</td>\n",
       "      <td>no</td>\n",
       "      <td>yes</td>\n",
       "      <td>no</td>\n",
       "      <td>no</td>\n",
       "    </tr>\n",
       "    <tr>\n",
       "      <th>best_actress_win</th>\n",
       "      <td>no</td>\n",
       "      <td>no</td>\n",
       "      <td>no</td>\n",
       "      <td>no</td>\n",
       "      <td>no</td>\n",
       "      <td>no</td>\n",
       "      <td>no</td>\n",
       "      <td>no</td>\n",
       "      <td>no</td>\n",
       "      <td>no</td>\n",
       "    </tr>\n",
       "    <tr>\n",
       "      <th>best_dir_win</th>\n",
       "      <td>no</td>\n",
       "      <td>no</td>\n",
       "      <td>no</td>\n",
       "      <td>yes</td>\n",
       "      <td>no</td>\n",
       "      <td>no</td>\n",
       "      <td>no</td>\n",
       "      <td>no</td>\n",
       "      <td>no</td>\n",
       "      <td>no</td>\n",
       "    </tr>\n",
       "    <tr>\n",
       "      <th>critics_score</th>\n",
       "      <td>45</td>\n",
       "      <td>96</td>\n",
       "      <td>91</td>\n",
       "      <td>80</td>\n",
       "      <td>33</td>\n",
       "      <td>91</td>\n",
       "      <td>57</td>\n",
       "      <td>17</td>\n",
       "      <td>90</td>\n",
       "      <td>83</td>\n",
       "    </tr>\n",
       "    <tr>\n",
       "      <th>audience_score</th>\n",
       "      <td>73</td>\n",
       "      <td>81</td>\n",
       "      <td>91</td>\n",
       "      <td>76</td>\n",
       "      <td>27</td>\n",
       "      <td>86</td>\n",
       "      <td>76</td>\n",
       "      <td>47</td>\n",
       "      <td>89</td>\n",
       "      <td>66</td>\n",
       "    </tr>\n",
       "    <tr>\n",
       "      <th>wins</th>\n",
       "      <td>0</td>\n",
       "      <td>0</td>\n",
       "      <td>0</td>\n",
       "      <td>2</td>\n",
       "      <td>0</td>\n",
       "      <td>0</td>\n",
       "      <td>0</td>\n",
       "      <td>1</td>\n",
       "      <td>0</td>\n",
       "      <td>0</td>\n",
       "    </tr>\n",
       "    <tr>\n",
       "      <th>imdb_num_votes_sd</th>\n",
       "      <td>-0.505488</td>\n",
       "      <td>-0.403862</td>\n",
       "      <td>-0.31375</td>\n",
       "      <td>-0.200262</td>\n",
       "      <td>-0.492216</td>\n",
       "      <td>-0.51054</td>\n",
       "      <td>-0.468742</td>\n",
       "      <td>-0.493233</td>\n",
       "      <td>-0.505658</td>\n",
       "      <td>-0.401979</td>\n",
       "    </tr>\n",
       "    <tr>\n",
       "      <th>critics_score_sd</th>\n",
       "      <td>-0.447063</td>\n",
       "      <td>1.3499</td>\n",
       "      <td>1.17373</td>\n",
       "      <td>0.78615</td>\n",
       "      <td>-0.869879</td>\n",
       "      <td>1.17373</td>\n",
       "      <td>-0.0242475</td>\n",
       "      <td>-1.43363</td>\n",
       "      <td>1.1385</td>\n",
       "      <td>0.891854</td>\n",
       "    </tr>\n",
       "    <tr>\n",
       "      <th>audience_score_sd</th>\n",
       "      <td>0.526423</td>\n",
       "      <td>0.922324</td>\n",
       "      <td>1.4172</td>\n",
       "      <td>0.674886</td>\n",
       "      <td>-1.75001</td>\n",
       "      <td>1.16976</td>\n",
       "      <td>0.674886</td>\n",
       "      <td>-0.760254</td>\n",
       "      <td>1.31822</td>\n",
       "      <td>0.18001</td>\n",
       "    </tr>\n",
       "    <tr>\n",
       "      <th>mpaa_rating_num</th>\n",
       "      <td>3</td>\n",
       "      <td>2</td>\n",
       "      <td>3</td>\n",
       "      <td>1</td>\n",
       "      <td>3</td>\n",
       "      <td>5</td>\n",
       "      <td>2</td>\n",
       "      <td>3</td>\n",
       "      <td>5</td>\n",
       "      <td>5</td>\n",
       "    </tr>\n",
       "  </tbody>\n",
       "</table>\n",
       "</div>"
      ],
      "text/plain": [
       "                              0             1             2             3  \\\n",
       "top200_box                   no            no            no            no   \n",
       "genre                     Drama         Drama        Comedy         Drama   \n",
       "title_type         Feature Film  Feature Film  Feature Film  Feature Film   \n",
       "mpaa_rating                   R         PG-13             R            PG   \n",
       "imdb_rating                 5.5           7.3           7.6           7.2   \n",
       "imdb_num_votes              899         12285         22381         35096   \n",
       "best_pic_nom                 no            no            no            no   \n",
       "best_pic_win                 no            no            no            no   \n",
       "best_actor_win               no            no            no           yes   \n",
       "best_actress_win             no            no            no            no   \n",
       "best_dir_win                 no            no            no           yes   \n",
       "critics_score                45            96            91            80   \n",
       "audience_score               73            81            91            76   \n",
       "wins                          0             0             0             2   \n",
       "imdb_num_votes_sd     -0.505488     -0.403862      -0.31375     -0.200262   \n",
       "critics_score_sd      -0.447063        1.3499       1.17373       0.78615   \n",
       "audience_score_sd      0.526423      0.922324        1.4172      0.674886   \n",
       "mpaa_rating_num               3             2             3             1   \n",
       "\n",
       "                              4            5             6             7  \\\n",
       "top200_box                   no           no            no            no   \n",
       "genre                    Horror  Documentary         Drama         Drama   \n",
       "title_type         Feature Film  Documentary  Feature Film  Feature Film   \n",
       "mpaa_rating                   R      Unrated         PG-13             R   \n",
       "imdb_rating                 5.1          7.8           7.2           5.5   \n",
       "imdb_num_votes             2386          333          5016          2272   \n",
       "best_pic_nom                 no           no            no            no   \n",
       "best_pic_win                 no           no            no            no   \n",
       "best_actor_win               no           no            no           yes   \n",
       "best_actress_win             no           no            no            no   \n",
       "best_dir_win                 no           no            no            no   \n",
       "critics_score                33           91            57            17   \n",
       "audience_score               27           86            76            47   \n",
       "wins                          0            0             0             1   \n",
       "imdb_num_votes_sd     -0.492216     -0.51054     -0.468742     -0.493233   \n",
       "critics_score_sd      -0.869879      1.17373    -0.0242475      -1.43363   \n",
       "audience_score_sd      -1.75001      1.16976      0.674886     -0.760254   \n",
       "mpaa_rating_num               3            5             2             3   \n",
       "\n",
       "                             8             9  \n",
       "top200_box                  no            no  \n",
       "genre              Documentary         Drama  \n",
       "title_type         Documentary  Feature Film  \n",
       "mpaa_rating            Unrated       Unrated  \n",
       "imdb_rating                7.5           6.6  \n",
       "imdb_num_votes             880         12496  \n",
       "best_pic_nom                no            no  \n",
       "best_pic_win                no            no  \n",
       "best_actor_win              no            no  \n",
       "best_actress_win            no            no  \n",
       "best_dir_win                no            no  \n",
       "critics_score               90            83  \n",
       "audience_score              89            66  \n",
       "wins                         0             0  \n",
       "imdb_num_votes_sd    -0.505658     -0.401979  \n",
       "critics_score_sd        1.1385      0.891854  \n",
       "audience_score_sd      1.31822       0.18001  \n",
       "mpaa_rating_num              5             5  "
      ]
     },
     "execution_count": 36,
     "metadata": {},
     "output_type": "execute_result"
    }
   ],
   "source": [
    "movies.head(10).T"
   ]
  },
  {
   "cell_type": "code",
   "execution_count": 37,
   "metadata": {},
   "outputs": [],
   "source": [
    "movies['top200_box'] = movies['top200_box'].map({'yes': 1, 'no': 0})\n"
   ]
  },
  {
   "cell_type": "markdown",
   "metadata": {},
   "source": [
    "# Logistic Regression Analysis\n",
    "\n",
    "* Normalized X (explanatory viarables) products better statistics numbers for interpretation. Therefore the normalized imdb_num_votes_sd will be used for discussion.\n",
    "\n",
    "As you can see:\n",
    "* p-value: close to 0 (significant)\n",
    "* Odds ratio: 1.847863\n",
    "* 95% confidence intervals for the odds ratios: 1.470504  2.322059\n",
    "\n",
    "This supports that the number of votes on IMDB is associated with if a movie is in the top 200 box office list."
   ]
  },
  {
   "cell_type": "code",
   "execution_count": 38,
   "metadata": {},
   "outputs": [
    {
     "name": "stdout",
     "output_type": "stream",
     "text": [
      "Optimization terminated successfully.\n",
      "         Current function value: 0.092889\n",
      "         Iterations 8\n",
      "                           Logit Regression Results                           \n",
      "==============================================================================\n",
      "Dep. Variable:             top200_box   No. Observations:                  651\n",
      "Model:                          Logit   Df Residuals:                      649\n",
      "Method:                           MLE   Df Model:                            1\n",
      "Date:                Wed, 28 Mar 2018   Pseudo R-squ.:                  0.1529\n",
      "Time:                        17:43:44   Log-Likelihood:                -60.471\n",
      "converged:                       True   LL-Null:                       -71.383\n",
      "                                        LLR p-value:                 2.989e-06\n",
      "==================================================================================\n",
      "                     coef    std err          z      P>|z|      [0.025      0.975]\n",
      "----------------------------------------------------------------------------------\n",
      "Intercept         -4.4152      0.350    -12.617      0.000      -5.101      -3.729\n",
      "imdb_num_votes  5.481e-06   1.04e-06      5.269      0.000    3.44e-06    7.52e-06\n",
      "==================================================================================\n",
      "                Lower CI  Upper CI        OR\n",
      "Intercept       0.006090  0.024009  0.012092\n",
      "imdb_num_votes  1.000003  1.000008  1.000005\n"
     ]
    }
   ],
   "source": [
    "from scipy import stats\n",
    "stats.chisqprob = lambda chisq, df: stats.chi2.sf(chisq, df)\n",
    "\n",
    "# logistic regression with number of votes on IMDB\n",
    "lr_v1 = smf.logit(formula = 'top200_box ~ imdb_num_votes', data = movies).fit()\n",
    "print(lr_v1.summary())\n",
    "\n",
    "# odd ratios with 95% confidence intervals\n",
    "params = lr_v1.params\n",
    "conf = lr_v1.conf_int()\n",
    "conf['OR'] = params\n",
    "conf.columns = ['Lower CI', 'Upper CI', 'OR']\n",
    "print(np.exp(conf))"
   ]
  },
  {
   "cell_type": "code",
   "execution_count": 39,
   "metadata": {},
   "outputs": [
    {
     "name": "stdout",
     "output_type": "stream",
     "text": [
      "Optimization terminated successfully.\n",
      "         Current function value: 0.092889\n",
      "         Iterations 8\n",
      "                           Logit Regression Results                           \n",
      "==============================================================================\n",
      "Dep. Variable:             top200_box   No. Observations:                  651\n",
      "Model:                          Logit   Df Residuals:                      649\n",
      "Method:                           MLE   Df Model:                            1\n",
      "Date:                Wed, 28 Mar 2018   Pseudo R-squ.:                  0.1529\n",
      "Time:                        17:43:44   Log-Likelihood:                -60.471\n",
      "converged:                       True   LL-Null:                       -71.383\n",
      "                                        LLR p-value:                 2.989e-06\n",
      "=====================================================================================\n",
      "                        coef    std err          z      P>|z|      [0.025      0.975]\n",
      "-------------------------------------------------------------------------------------\n",
      "Intercept            -4.0999      0.317    -12.935      0.000      -4.721      -3.479\n",
      "imdb_num_votes_sd     0.6140      0.117      5.269      0.000       0.386       0.842\n",
      "=====================================================================================\n",
      "                   Lower CI  Upper CI        OR\n",
      "Intercept          0.008905  0.030850  0.016575\n",
      "imdb_num_votes_sd  1.470504  2.322059  1.847863\n"
     ]
    }
   ],
   "source": [
    "# logistic regression with number of votes on IMDB (normalized)\n",
    "lr_v2 = smf.logit(formula = 'top200_box ~ imdb_num_votes_sd', data = movies).fit()\n",
    "print(lr_v2.summary())\n",
    "\n",
    "# odd ratios with 95% confidence intervals\n",
    "params = lr_v2.params\n",
    "conf = lr_v2.conf_int()\n",
    "conf['OR'] = params\n",
    "conf.columns = ['Lower CI', 'Upper CI', 'OR']\n",
    "print(np.exp(conf))"
   ]
  },
  {
   "cell_type": "markdown",
   "metadata": {},
   "source": [
    "# Confounding variables\n",
    "\n",
    "* wins alone p 0.008, but after adding imdb_num_votes_sd then p 0.643\n",
    "* critics_score_sd, imdb_rating_sd and audience_score_sd by itself are all close but < 0.05, but p becomes very big after adding imdb_num_votes_sd\n",
    "\n",
    "\n",
    "## Not significant variable\n",
    "\n",
    "* title_type: all categories are close to 1\n"
   ]
  },
  {
   "cell_type": "code",
   "execution_count": 64,
   "metadata": {},
   "outputs": [
    {
     "name": "stdout",
     "output_type": "stream",
     "text": [
      "Optimization terminated successfully.\n",
      "         Current function value: 0.105558\n",
      "         Iterations 8\n",
      "                           Logit Regression Results                           \n",
      "==============================================================================\n",
      "Dep. Variable:             top200_box   No. Observations:                  651\n",
      "Model:                          Logit   Df Residuals:                      649\n",
      "Method:                           MLE   Df Model:                            1\n",
      "Date:                Wed, 28 Mar 2018   Pseudo R-squ.:                 0.03733\n",
      "Time:                        17:58:06   Log-Likelihood:                -68.718\n",
      "converged:                       True   LL-Null:                       -71.383\n",
      "                                        LLR p-value:                   0.02098\n",
      "==============================================================================\n",
      "                 coef    std err          z      P>|z|      [0.025      0.975]\n",
      "------------------------------------------------------------------------------\n",
      "Intercept     -4.0907      0.324    -12.606      0.000      -4.727      -3.455\n",
      "wins           0.6108      0.232      2.632      0.008       0.156       1.066\n",
      "==============================================================================\n",
      "           Lower CI  Upper CI        OR\n",
      "Intercept  0.008856  0.031598  0.016728\n",
      "wins       1.168757  2.902853  1.841937\n"
     ]
    }
   ],
   "source": [
    "model = smf.logit(formula='top200_box ~  wins', data=movies).fit()\n",
    "print(model.summary())\n",
    "\n",
    "# odd ratios with 95% confidence intervals\n",
    "params = model.params\n",
    "conf = model.conf_int()\n",
    "conf['OR'] = params\n",
    "conf.columns = ['Lower CI', 'Upper CI', 'OR']\n",
    "print(np.exp(conf))"
   ]
  },
  {
   "cell_type": "code",
   "execution_count": 70,
   "metadata": {},
   "outputs": [
    {
     "name": "stdout",
     "output_type": "stream",
     "text": [
      "Optimization terminated successfully.\n",
      "         Current function value: 0.092728\n",
      "         Iterations 8\n",
      "                           Logit Regression Results                           \n",
      "==============================================================================\n",
      "Dep. Variable:             top200_box   No. Observations:                  651\n",
      "Model:                          Logit   Df Residuals:                      648\n",
      "Method:                           MLE   Df Model:                            2\n",
      "Date:                Wed, 28 Mar 2018   Pseudo R-squ.:                  0.1543\n",
      "Time:                        18:05:02   Log-Likelihood:                -60.366\n",
      "converged:                       True   LL-Null:                       -71.383\n",
      "                                        LLR p-value:                 1.643e-05\n",
      "=====================================================================================\n",
      "                        coef    std err          z      P>|z|      [0.025      0.975]\n",
      "-------------------------------------------------------------------------------------\n",
      "Intercept            -4.1496      0.338    -12.291      0.000      -4.811      -3.488\n",
      "imdb_num_votes_sd     0.5867      0.131      4.486      0.000       0.330       0.843\n",
      "wins                  0.1281      0.277      0.463      0.643      -0.414       0.670\n",
      "=====================================================================================\n",
      "                   Lower CI  Upper CI        OR\n",
      "Intercept          0.008137  0.030565  0.015770\n",
      "imdb_num_votes_sd  1.391479  2.323545  1.798100\n",
      "wins               0.660894  1.954815  1.136629\n"
     ]
    }
   ],
   "source": [
    "model = smf.logit(formula='top200_box ~  imdb_num_votes_sd + wins', data=movies).fit()\n",
    "print(model.summary())\n",
    "\n",
    "# odd ratios with 95% confidence intervals\n",
    "params = model.params\n",
    "conf = model.conf_int()\n",
    "conf['OR'] = params\n",
    "conf.columns = ['Lower CI', 'Upper CI', 'OR']\n",
    "print(np.exp(conf))"
   ]
  },
  {
   "cell_type": "code",
   "execution_count": 71,
   "metadata": {},
   "outputs": [
    {
     "name": "stdout",
     "output_type": "stream",
     "text": [
      "Optimization terminated successfully.\n",
      "         Current function value: 0.091428\n",
      "         Iterations 9\n",
      "                           Logit Regression Results                           \n",
      "==============================================================================\n",
      "Dep. Variable:             top200_box   No. Observations:                  651\n",
      "Model:                          Logit   Df Residuals:                      648\n",
      "Method:                           MLE   Df Model:                            2\n",
      "Date:                Wed, 28 Mar 2018   Pseudo R-squ.:                  0.1662\n",
      "Time:                        18:05:36   Log-Likelihood:                -59.520\n",
      "converged:                       True   LL-Null:                       -71.383\n",
      "                                        LLR p-value:                 7.047e-06\n",
      "=====================================================================================\n",
      "                        coef    std err          z      P>|z|      [0.025      0.975]\n",
      "-------------------------------------------------------------------------------------\n",
      "Intercept            -4.2103      0.354    -11.905      0.000      -4.904      -3.517\n",
      "imdb_num_votes_sd     0.5446      0.123      4.425      0.000       0.303       0.786\n",
      "critics_score_sd      0.4787      0.364      1.316      0.188      -0.234       1.192\n",
      "=====================================================================================\n",
      "                   Lower CI  Upper CI        OR\n",
      "Intercept          0.007420  0.029684  0.014841\n",
      "imdb_num_votes_sd  1.354423  2.194379  1.723983\n",
      "critics_score_sd   0.791137  3.292852  1.614032\n"
     ]
    }
   ],
   "source": [
    "model = smf.logit(formula='top200_box ~  imdb_num_votes_sd + critics_score_sd', data=movies).fit()\n",
    "print(model.summary())\n",
    "\n",
    "# odd ratios with 95% confidence intervals\n",
    "params = model.params\n",
    "conf = model.conf_int()\n",
    "conf['OR'] = params\n",
    "conf.columns = ['Lower CI', 'Upper CI', 'OR']\n",
    "print(np.exp(conf))"
   ]
  },
  {
   "cell_type": "code",
   "execution_count": 72,
   "metadata": {},
   "outputs": [
    {
     "name": "stdout",
     "output_type": "stream",
     "text": [
      "Optimization terminated successfully.\n",
      "         Current function value: 0.092850\n",
      "         Iterations 8\n",
      "                           Logit Regression Results                           \n",
      "==============================================================================\n",
      "Dep. Variable:             top200_box   No. Observations:                  651\n",
      "Model:                          Logit   Df Residuals:                      648\n",
      "Method:                           MLE   Df Model:                            2\n",
      "Date:                Wed, 28 Mar 2018   Pseudo R-squ.:                  0.1532\n",
      "Time:                        18:05:37   Log-Likelihood:                -60.446\n",
      "converged:                       True   LL-Null:                       -71.383\n",
      "                                        LLR p-value:                 1.779e-05\n",
      "=====================================================================================\n",
      "                        coef    std err          z      P>|z|      [0.025      0.975]\n",
      "-------------------------------------------------------------------------------------\n",
      "Intercept            -4.1050      0.319    -12.866      0.000      -4.730      -3.480\n",
      "imdb_num_votes_sd     0.5926      0.150      3.952      0.000       0.299       0.887\n",
      "imdb_rating_sd        0.0777      0.349      0.222      0.824      -0.607       0.762\n",
      "=====================================================================================\n",
      "                   Lower CI  Upper CI        OR\n",
      "Intercept          0.008824  0.030819  0.016491\n",
      "imdb_num_votes_sd  1.348129  2.426702  1.808731\n",
      "imdb_rating_sd     0.545119  2.142752  1.080766\n"
     ]
    }
   ],
   "source": [
    "model = smf.logit(formula='top200_box ~  imdb_num_votes_sd + imdb_rating_sd', data=movies).fit()\n",
    "print(model.summary())\n",
    "\n",
    "# odd ratios with 95% confidence intervals\n",
    "params = model.params\n",
    "conf = model.conf_int()\n",
    "conf['OR'] = params\n",
    "conf.columns = ['Lower CI', 'Upper CI', 'OR']\n",
    "print(np.exp(conf))"
   ]
  },
  {
   "cell_type": "code",
   "execution_count": 69,
   "metadata": {},
   "outputs": [
    {
     "name": "stdout",
     "output_type": "stream",
     "text": [
      "Optimization terminated successfully.\n",
      "         Current function value: 0.092473\n",
      "         Iterations 8\n",
      "                           Logit Regression Results                           \n",
      "==============================================================================\n",
      "Dep. Variable:             top200_box   No. Observations:                  651\n",
      "Model:                          Logit   Df Residuals:                      648\n",
      "Method:                           MLE   Df Model:                            2\n",
      "Date:                Wed, 28 Mar 2018   Pseudo R-squ.:                  0.1567\n",
      "Time:                        18:03:51   Log-Likelihood:                -60.200\n",
      "converged:                       True   LL-Null:                       -71.383\n",
      "                                        LLR p-value:                 1.391e-05\n",
      "=====================================================================================\n",
      "                        coef    std err          z      P>|z|      [0.025      0.975]\n",
      "-------------------------------------------------------------------------------------\n",
      "Intercept            -4.1366      0.330    -12.549      0.000      -4.783      -3.490\n",
      "imdb_num_votes_sd     0.5617      0.134      4.182      0.000       0.298       0.825\n",
      "audience_score_sd     0.2502      0.347      0.721      0.471      -0.430       0.931\n",
      "=====================================================================================\n",
      "                   Lower CI  Upper CI        OR\n",
      "Intercept          0.008373  0.030486  0.015977\n",
      "imdb_num_votes_sd  1.347772  2.281869  1.753693\n",
      "audience_score_sd  0.650260  2.536682  1.284330\n"
     ]
    }
   ],
   "source": [
    "model = smf.logit(formula='top200_box ~  imdb_num_votes_sd + audience_score_sd', data=movies).fit()\n",
    "print(model.summary())\n",
    "\n",
    "# odd ratios with 95% confidence intervals\n",
    "params = model.params\n",
    "conf = model.conf_int()\n",
    "conf['OR'] = params\n",
    "conf.columns = ['Lower CI', 'Upper CI', 'OR']\n",
    "print(np.exp(conf))"
   ]
  },
  {
   "cell_type": "code",
   "execution_count": 66,
   "metadata": {},
   "outputs": [
    {
     "name": "stdout",
     "output_type": "stream",
     "text": [
      "Warning: Maximum number of iterations has been exceeded.\n",
      "         Current function value: 0.107396\n",
      "         Iterations: 35\n",
      "                           Logit Regression Results                           \n",
      "==============================================================================\n",
      "Dep. Variable:             top200_box   No. Observations:                  651\n",
      "Model:                          Logit   Df Residuals:                      648\n",
      "Method:                           MLE   Df Model:                            2\n",
      "Date:                Wed, 28 Mar 2018   Pseudo R-squ.:                 0.02057\n",
      "Time:                        18:01:04   Log-Likelihood:                -69.915\n",
      "converged:                      False   LL-Null:                       -71.383\n",
      "                                        LLR p-value:                    0.2303\n",
      "=================================================================================================\n",
      "                                    coef    std err          z      P>|z|      [0.025      0.975]\n",
      "-------------------------------------------------------------------------------------------------\n",
      "Intercept                       -17.1592    717.603     -0.024      0.981   -1423.635    1389.317\n",
      "C(title_type)[T.Feature Film]    13.5111    717.603      0.019      0.985   -1392.965    1419.987\n",
      "C(title_type)[T.TV Movie]        -1.5712   5270.152     -0.000      1.000   -1.03e+04    1.03e+04\n",
      "=================================================================================================\n",
      "                               Lower CI  Upper CI            OR\n",
      "Intercept                           0.0       inf  3.530767e-08\n",
      "C(title_type)[T.Feature Film]       0.0       inf  7.375641e+05\n",
      "C(title_type)[T.TV Movie]           0.0       inf  2.077984e-01\n"
     ]
    },
    {
     "name": "stderr",
     "output_type": "stream",
     "text": [
      "/Users/apple/anaconda3/envs/deep/lib/python3.6/site-packages/statsmodels/base/model.py:496: ConvergenceWarning: Maximum Likelihood optimization failed to converge. Check mle_retvals\n",
      "  \"Check mle_retvals\", ConvergenceWarning)\n",
      "/Users/apple/anaconda3/envs/deep/lib/python3.6/site-packages/ipykernel_launcher.py:9: RuntimeWarning: overflow encountered in exp\n",
      "  if __name__ == '__main__':\n"
     ]
    }
   ],
   "source": [
    "model = smf.logit(formula='top200_box ~  C(title_type)', data=movies).fit()\n",
    "print(model.summary())\n",
    "\n",
    "# odd ratios with 95% confidence intervals\n",
    "params = model.params\n",
    "conf = model.conf_int()\n",
    "conf['OR'] = params\n",
    "conf.columns = ['Lower CI', 'Upper CI', 'OR']\n",
    "print(np.exp(conf))"
   ]
  },
  {
   "cell_type": "code",
   "execution_count": 47,
   "metadata": {},
   "outputs": [],
   "source": [
    "# from sklearn.preprocessing import LabelEncoder\n",
    "\n",
    "# lb_make = LabelEncoder()\n",
    "# movies['genre_code'] = lb_make.fit_transform(movies['genre'])\n",
    "# movies.head().T\n",
    "\n",
    "# model = smf.logit(formula='top200_box ~ C(genre_code)', data=movies).fit()\n",
    "# print(model.summary())\n",
    "\n",
    "# # odd ratios with 95% confidence intervals\n",
    "# params = model.params\n",
    "# conf = model.conf_int()\n",
    "# conf['OR'] = params\n",
    "# conf.columns = ['Lower CI', 'Upper CI', 'OR']\n",
    "# print(np.exp(conf))"
   ]
  },
  {
   "cell_type": "code",
   "execution_count": 73,
   "metadata": {},
   "outputs": [
    {
     "name": "stdout",
     "output_type": "stream",
     "text": [
      "Warning: Maximum number of iterations has been exceeded.\n",
      "         Current function value: 0.088133\n",
      "         Iterations: 35\n",
      "                           Logit Regression Results                           \n",
      "==============================================================================\n",
      "Dep. Variable:             top200_box   No. Observations:                  651\n",
      "Model:                          Logit   Df Residuals:                      644\n",
      "Method:                           MLE   Df Model:                            6\n",
      "Date:                Wed, 28 Mar 2018   Pseudo R-squ.:                  0.1962\n",
      "Time:                        18:06:40   Log-Likelihood:                -57.375\n",
      "converged:                      False   LL-Null:                       -71.383\n",
      "                                        LLR p-value:                 9.332e-05\n",
      "=================================================================================================\n",
      "                                    coef    std err          z      P>|z|      [0.025      0.975]\n",
      "-------------------------------------------------------------------------------------------------\n",
      "Intercept                       -25.5465   3.97e+04     -0.001      0.999   -7.78e+04    7.78e+04\n",
      "C(title_type)[T.Feature Film]    21.3191   3.97e+04      0.001      1.000   -7.78e+04    7.78e+04\n",
      "C(title_type)[T.TV Movie]        -2.2998   4.65e+05  -4.94e-06      1.000   -9.12e+05    9.12e+05\n",
      "imdb_num_votes_sd                 0.5990      0.153      3.903      0.000       0.298       0.900\n",
      "imdb_rating_sd                   -0.9726      0.694     -1.401      0.161      -2.333       0.388\n",
      "critics_score_sd                  0.9489      0.562      1.689      0.091      -0.152       2.050\n",
      "audience_score_sd                 0.5637      0.653      0.864      0.388      -0.715       1.843\n",
      "=================================================================================================\n",
      "                               Lower CI  Upper CI            OR\n",
      "Intercept                      0.000000       inf  8.040511e-12\n",
      "C(title_type)[T.Feature Film]  0.000000       inf  1.814536e+09\n",
      "C(title_type)[T.TV Movie]      0.000000       inf  1.002755e-01\n",
      "imdb_num_votes_sd              1.347462  2.459236  1.820365e+00\n",
      "imdb_rating_sd                 0.096967  1.474373  3.781083e-01\n",
      "critics_score_sd               0.858610  7.769941  2.582896e+00\n",
      "audience_score_sd              0.489070  6.312897  1.757115e+00\n"
     ]
    },
    {
     "name": "stderr",
     "output_type": "stream",
     "text": [
      "/Users/apple/anaconda3/envs/deep/lib/python3.6/site-packages/statsmodels/base/model.py:496: ConvergenceWarning: Maximum Likelihood optimization failed to converge. Check mle_retvals\n",
      "  \"Check mle_retvals\", ConvergenceWarning)\n",
      "/Users/apple/anaconda3/envs/deep/lib/python3.6/site-packages/ipykernel_launcher.py:11: RuntimeWarning: overflow encountered in exp\n",
      "  # This is added back by InteractiveShellApp.init_path()\n"
     ]
    }
   ],
   "source": [
    "model = smf.logit(\n",
    "    formula='top200_box ~ imdb_num_votes_sd + imdb_rating_sd + critics_score_sd + audience_score_sd + C(title_type)'\n",
    "                  , data=movies).fit()\n",
    "print(model.summary())\n",
    "\n",
    "# odd ratios with 95% confidence intervals\n",
    "params = model.params\n",
    "conf = model.conf_int()\n",
    "conf['OR'] = params\n",
    "conf.columns = ['Lower CI', 'Upper CI', 'OR']\n",
    "print(np.exp(conf))"
   ]
  },
  {
   "cell_type": "code",
   "execution_count": null,
   "metadata": {},
   "outputs": [],
   "source": []
  },
  {
   "cell_type": "code",
   "execution_count": null,
   "metadata": {},
   "outputs": [],
   "source": []
  }
 ],
 "metadata": {
  "kernelspec": {
   "display_name": "Python 3",
   "language": "python",
   "name": "python3"
  },
  "language_info": {
   "codemirror_mode": {
    "name": "ipython",
    "version": 3
   },
   "file_extension": ".py",
   "mimetype": "text/x-python",
   "name": "python",
   "nbconvert_exporter": "python",
   "pygments_lexer": "ipython3",
   "version": "3.6.4"
  }
 },
 "nbformat": 4,
 "nbformat_minor": 2
}
